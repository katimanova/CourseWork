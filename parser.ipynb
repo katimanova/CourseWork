{
 "cells": [
  {
   "cell_type": "code",
   "execution_count": 4,
   "metadata": {},
   "outputs": [],
   "source": [
    "from IPython.display import Image\n",
    "from bs4 import BeautifulSoup\n",
    "import lxml\n",
    "import requests\n",
    "import csv\n",
    "import pandas as pd"
   ]
  },
  {
   "attachments": {},
   "cell_type": "markdown",
   "metadata": {},
   "source": [
    "**Получение женских имен**"
   ]
  },
  {
   "cell_type": "code",
   "execution_count": 5,
   "metadata": {},
   "outputs": [],
   "source": [
    "url = \"https://ru.wikipedia.org/w/index.php?title=Категория:Героини_древнегреческих_мифов&pagefrom=Писидика#mw-pages\"\n",
    "\n",
    "\n",
    "headers = {\n",
    "    \"user-agent\": \"Mozilla/5.0 (Macintosh; Intel Mac OS X 10_15_7) AppleWebKit/605.1.15 (KHTML, like Gecko) Version/16.0 Safari/605.1.15\",\n",
    "    \"accept\": \"text/html,application/xhtml+xml,application/xml;q=0.9,*/*;q=0.8\"\n",
    "}\n",
    "\n",
    "res = requests.get(url=url, headers=headers)\n",
    "soup = BeautifulSoup(res.text, \"lxml\")"
   ]
  },
  {
   "cell_type": "code",
   "execution_count": 6,
   "metadata": {},
   "outputs": [
    {
     "name": "stdout",
     "output_type": "stream",
     "text": [
      "['Писидика', 'Полидора', 'Поликаста', 'Поликаста', 'Поликсена', 'Поликсо', 'Полифонта', 'Помфолига', 'Праксифея', 'Прокна', 'Прокрида', 'Проноя', 'Пропетиды', 'Протогенея', 'Протогенея', 'Протогония', 'Псамафа', 'Рео', 'Рода', 'Родопа', 'Рома', 'Саламина', 'Семела', 'Сивиллы', 'Сидеро', 'Синопа', 'Скилла', 'Спарта', 'Спутники', 'Стилба', 'СфенебеяТ', 'Талия', 'Текмесса', 'Телета', 'Телефасса', 'Тимандра', 'ТироФ', 'Фантасия', 'Феано', 'Феано', 'Феба', 'Федра', 'Фемисто', 'Фемоноя', 'Феофана', 'Фива', 'Фива', 'Филемон', 'Филлида', 'Филомела', 'ФилонояХ', 'Халкиопа', 'Харикло', 'Хиона', 'Хиона', 'Хлорида', 'Хриса', 'Хрисеида', 'Хрисофемида', 'Хрисофемида', 'Хтония', 'ХтонофилаЭ', 'Эвриала', 'Эвридика', 'Эвриклея', 'Эгиала', 'Эгиалея', 'Эгла', 'Эглеида', 'Элара', 'Электра', 'Электриона', 'Энарета', 'Эндеида', 'Энотрофы', 'Эпикаста', 'Эригона', 'Эригона', 'Эринома', 'Эрифила', 'ЭфраЯ', 'Ямба']\n"
     ]
    }
   ],
   "source": [
    "# Имена\n",
    "try:\n",
    "    titles = soup.find_all(\"div\", class_ = \"mw-category mw-category-columns\")\n",
    "except:\n",
    "    print(\"Нет имени\")\n",
    "\n",
    "arr = []\n",
    "for tok in titles:\n",
    "    arr += tok.text.strip().split(\"\\n\")\n",
    "\n",
    "new_arr = []\n",
    "for elem in arr:\n",
    "    if len(elem) != 1:\n",
    "        new_arr.append(elem.split()[0])\n",
    "\n",
    "print(new_arr)"
   ]
  },
  {
   "attachments": {},
   "cell_type": "markdown",
   "metadata": {},
   "source": [
    "**Получение мужских имен**"
   ]
  },
  {
   "cell_type": "code",
   "execution_count": 15,
   "metadata": {},
   "outputs": [],
   "source": [
    "url = \"https://ru.wikipedia.org/w/index.php?title=Категория:Герои_древнегреческих_мифов&pagefrom=Триоп+%28сын+Гелиоса%29#mw-pages\"\n",
    "\n",
    "\n",
    "headers = {\n",
    "    \"user-agent\": \"Mozilla/5.0 (Macintosh; Intel Mac OS X 10_15_7) AppleWebKit/605.1.15 (KHTML, like Gecko) Version/16.0 Safari/605.1.15\",\n",
    "    \"accept\": \"text/html,application/xhtml+xml,application/xml;q=0.9,*/*;q=0.8\"\n",
    "}\n",
    "\n",
    "res = requests.get(url=url, headers=headers)\n",
    "soup = BeautifulSoup(res.text, \"lxml\")"
   ]
  },
  {
   "cell_type": "code",
   "execution_count": 16,
   "metadata": {},
   "outputs": [
    {
     "name": "stdout",
     "output_type": "stream",
     "text": [
      "['Категории', 'Героини', 'Обожествлённые', 'Аргонавты\\u200e', 'Атланты\\u200e', 'Гераклиды\\u200e', 'Дети', 'Пелопиды\\u200e', 'Участники', 'Участники', 'Цари', 'Цари', 'Эпигоны\\u200e', 'Триоп', 'Триоп', 'Триоп', 'Триптолем', 'Троил', 'Трос', 'ТрофонийФ', 'Фаланг', 'Фалер', 'Фалпий', 'Фамирид', 'Фаон', 'Фасос', 'Фаэтон', 'Фаэтуса', 'Фегей', 'Фемий', 'Феникс', 'Феникс', 'Фенодамант', 'Феодамант', 'Ферас', 'Ферекл', 'Ферет', 'Феспий', 'Фессал', 'Фессал', 'Фестий', 'Фестор', 'Фидипп', 'Фиест', 'Филак', 'Филаммон', 'Филант', 'Филант', 'Филей', 'Филей', 'Филемон', 'Филетий', 'Филоктет', 'Филомел', 'Филонома', 'Филот', 'Фимет', 'Фимет', 'Финей', 'Финей', 'Фитал', 'Флегий', 'Флиант', 'Фоант', 'Фоант', 'Фоант', 'Фоант', 'Фок', 'Фок', 'Фоон', 'Форбант', 'Форбант', 'Форбант', 'Форкий', 'Фороней', 'Фрасий', 'Фрасимед', 'Фрикс', 'Фтий', 'Халкин', 'Халкодонт', 'Халкодонт', 'Хаон', 'Хароп', 'Херон', 'Хорик', 'Хрис', 'Хрис', 'Хрисипп', 'Эак', 'Эакиды', 'Эбал', 'Эвандр', 'Эвандр', 'Эвбулей', 'Эвен', 'Эвиппа', 'Эвпалам', 'Эвриал', 'Эврибат', 'Эвримедон', 'Эвримедон', 'Эвримедон', 'Эгей', 'Эгиалей', 'Эгиалей', 'Эгимий', 'Эгипт', 'Эгиптиады', 'Эгиптий', 'Эгисф', 'Эионей', 'Экл', 'Элат', 'Элат', 'Элат', 'Элатон', 'Элевсин', 'Элевтер', 'Элей', 'Электрион', 'Элефенор', 'Элим', 'Эллин', 'Элпенор', 'Энал', 'Эндимион', 'Эндой', 'Эней', 'Эней', 'Эней', 'Эномай', 'Энопион', 'Энотр', 'Эол', 'Эол', 'Эол', 'Эон', 'Эпаф', 'Эпей', 'Эпей', 'Эпистроф', 'Эпит', 'Эпит', 'Эпопей', 'Эргин', 'Эргин', 'Эрехтей', 'Эрибот', 'Эрикс', 'Эрисихтон', 'Эрисихтон', 'Эрифия', 'Эрифра', 'Эрихтоний', 'Эрихтоний', 'Эсак', 'Эсон', 'Этеокл', 'Этеокл', 'Этеокл', 'Этол', 'Эфалид', 'Эхем', 'Эхет', 'Эхетл', 'Эхион', 'Ээт', 'ЭэтионЯ', 'Япиг', 'Ясон']\n"
     ]
    }
   ],
   "source": [
    "# Имена\n",
    "try:\n",
    "    titles = soup.find_all(\"div\", class_ = \"mw-category mw-category-columns\")\n",
    "except:\n",
    "    print(\"Нет имени\")\n",
    "\n",
    "arr = []\n",
    "for tok in titles:\n",
    "    arr += tok.text.strip().split(\"\\n\")\n",
    "\n",
    "new_arr = []\n",
    "for elem in arr:\n",
    "    if len(elem) != 1:\n",
    "        new_arr.append(elem.split()[0])\n",
    "\n",
    "print(new_arr)"
   ]
  },
  {
   "cell_type": "code",
   "execution_count": null,
   "metadata": {},
   "outputs": [],
   "source": []
  }
 ],
 "metadata": {
  "kernelspec": {
   "display_name": "Python 3",
   "language": "python",
   "name": "python3"
  },
  "language_info": {
   "codemirror_mode": {
    "name": "ipython",
    "version": 3
   },
   "file_extension": ".py",
   "mimetype": "text/x-python",
   "name": "python",
   "nbconvert_exporter": "python",
   "pygments_lexer": "ipython3",
   "version": "3.10.4"
  },
  "orig_nbformat": 4
 },
 "nbformat": 4,
 "nbformat_minor": 2
}
