{
 "cells": [
  {
   "cell_type": "code",
   "execution_count": 1,
   "metadata": {},
   "outputs": [],
   "source": [
    "import ru_core_news_lg\n",
    "import spacy as sp\n",
    "import sys\n",
    "\n",
    "from spacy.symbols import ORTH, LEMMA\n",
    "from IPython.display import Image\n",
    "from spacy.tokens.doc import Doc\n",
    "from spacy.vocab import Vocab\n",
    "\n",
    "from spacy import displacy\n",
    "from IPython.display import Image\n",
    "\n",
    "from function import *\n",
    "\n",
    "nlp = sp.load('ru_core_news_lg')"
   ]
  },
  {
   "attachments": {},
   "cell_type": "markdown",
   "metadata": {},
   "source": [
    "Попробуем в качестве основного текста взять мифы Древней Греции."
   ]
  },
  {
   "cell_type": "code",
   "execution_count": 42,
   "metadata": {},
   "outputs": [
    {
     "name": "stdout",
     "output_type": "stream",
     "text": [
      "Была у великой богини Деметры юная прекрасная дочь Персефона.\n",
      "Отцом Персефоны был сам великий сын Крона, громовержец Зевс.\n",
      "Однажды прекрасная Персефона вместе со своими подругами, океанидами, беззаботно резвилась в цветущей Нисейской долине.\n",
      "Подобно легкокрылой бабочке перебегала юная дочь Деметры от цветка к цветку.\n",
      "Она рвала пышные розы, душистые фиалки, белоснежные лилии и красные гиацинты.\n",
      "Беспечно резвилась Персефона, не ведая той судьбы, которую назначил ей отец ее Зевс.\n",
      "Не думала Персефона, что не скоро увидит она опять ясный свет солнца, не скоро будет любоваться цветами и вдыхать их сладкий аромат.\n",
      "Зевс отдал ее в жены мрачному своему брату Аиду, властителю царства теней умерших, и с ним должна была жить Персефона во мраке подземного царства, лишенная света и горячего южного солнца.\n"
     ]
    }
   ],
   "source": [
    "text = \"Была у великой богини Деметры юная прекрасная дочь Персефона. Отцом Персефоны был сам великий сын Крона, громовержец Зевс. Однажды прекрасная Персефона вместе со своими подругами, океанидами, беззаботно резвилась в цветущей Нисейской долине. Подобно легкокрылой бабочке перебегала юная дочь Деметры от цветка к цветку. Она рвала пышные розы, душистые фиалки, белоснежные лилии и красные гиацинты. Беспечно резвилась Персефона, не ведая той судьбы, которую назначил ей отец ее Зевс. Не думала Персефона, что не скоро увидит она опять ясный свет солнца, не скоро будет любоваться цветами и вдыхать их сладкий аромат. Зевс отдал ее в жены мрачному своему брату Аиду, властителю царства теней умерших, и с ним должна была жить Персефона во мраке подземного царства, лишенная света и горячего южного солнца.\"\n",
    "\n",
    "doc = nlp(text)\n",
    "sents = list(doc.sents)\n",
    "for sent in sents:\n",
    "    print(sent)"
   ]
  },
  {
   "cell_type": "code",
   "execution_count": 3,
   "metadata": {},
   "outputs": [
    {
     "data": {
      "text/html": [
       "<span class=\"tex2jax_ignore\"><svg xmlns=\"http://www.w3.org/2000/svg\" xmlns:xlink=\"http://www.w3.org/1999/xlink\" xml:lang=\"ru\" id=\"c48c9c8bc0c044adaed2258e44857aa9-0\" class=\"displacy\" width=\"1625\" height=\"399.5\" direction=\"ltr\" style=\"max-width: none; height: 399.5px; color: #000000; background: #ffffff; font-family: Arial; direction: ltr\">\n",
       "<text class=\"displacy-token\" fill=\"currentColor\" text-anchor=\"middle\" y=\"309.5\">\n",
       "    <tspan class=\"displacy-word\" fill=\"currentColor\" x=\"50\">Была</tspan>\n",
       "    <tspan class=\"displacy-tag\" dy=\"2em\" fill=\"currentColor\" x=\"50\">AUX</tspan>\n",
       "</text>\n",
       "\n",
       "<text class=\"displacy-token\" fill=\"currentColor\" text-anchor=\"middle\" y=\"309.5\">\n",
       "    <tspan class=\"displacy-word\" fill=\"currentColor\" x=\"225\">у</tspan>\n",
       "    <tspan class=\"displacy-tag\" dy=\"2em\" fill=\"currentColor\" x=\"225\">ADP</tspan>\n",
       "</text>\n",
       "\n",
       "<text class=\"displacy-token\" fill=\"currentColor\" text-anchor=\"middle\" y=\"309.5\">\n",
       "    <tspan class=\"displacy-word\" fill=\"currentColor\" x=\"400\">великой</tspan>\n",
       "    <tspan class=\"displacy-tag\" dy=\"2em\" fill=\"currentColor\" x=\"400\">ADJ</tspan>\n",
       "</text>\n",
       "\n",
       "<text class=\"displacy-token\" fill=\"currentColor\" text-anchor=\"middle\" y=\"309.5\">\n",
       "    <tspan class=\"displacy-word\" fill=\"currentColor\" x=\"575\">богини</tspan>\n",
       "    <tspan class=\"displacy-tag\" dy=\"2em\" fill=\"currentColor\" x=\"575\">NOUN</tspan>\n",
       "</text>\n",
       "\n",
       "<text class=\"displacy-token\" fill=\"currentColor\" text-anchor=\"middle\" y=\"309.5\">\n",
       "    <tspan class=\"displacy-word\" fill=\"currentColor\" x=\"750\">Деметры</tspan>\n",
       "    <tspan class=\"displacy-tag\" dy=\"2em\" fill=\"currentColor\" x=\"750\">PROPN</tspan>\n",
       "</text>\n",
       "\n",
       "<text class=\"displacy-token\" fill=\"currentColor\" text-anchor=\"middle\" y=\"309.5\">\n",
       "    <tspan class=\"displacy-word\" fill=\"currentColor\" x=\"925\">юная</tspan>\n",
       "    <tspan class=\"displacy-tag\" dy=\"2em\" fill=\"currentColor\" x=\"925\">ADJ</tspan>\n",
       "</text>\n",
       "\n",
       "<text class=\"displacy-token\" fill=\"currentColor\" text-anchor=\"middle\" y=\"309.5\">\n",
       "    <tspan class=\"displacy-word\" fill=\"currentColor\" x=\"1100\">прекрасная</tspan>\n",
       "    <tspan class=\"displacy-tag\" dy=\"2em\" fill=\"currentColor\" x=\"1100\">ADJ</tspan>\n",
       "</text>\n",
       "\n",
       "<text class=\"displacy-token\" fill=\"currentColor\" text-anchor=\"middle\" y=\"309.5\">\n",
       "    <tspan class=\"displacy-word\" fill=\"currentColor\" x=\"1275\">дочь</tspan>\n",
       "    <tspan class=\"displacy-tag\" dy=\"2em\" fill=\"currentColor\" x=\"1275\">NOUN</tspan>\n",
       "</text>\n",
       "\n",
       "<text class=\"displacy-token\" fill=\"currentColor\" text-anchor=\"middle\" y=\"309.5\">\n",
       "    <tspan class=\"displacy-word\" fill=\"currentColor\" x=\"1450\">Персефона.</tspan>\n",
       "    <tspan class=\"displacy-tag\" dy=\"2em\" fill=\"currentColor\" x=\"1450\">PROPN</tspan>\n",
       "</text>\n",
       "\n",
       "<g class=\"displacy-arrow\">\n",
       "    <path class=\"displacy-arc\" id=\"arrow-c48c9c8bc0c044adaed2258e44857aa9-0-0\" stroke-width=\"2px\" d=\"M70,264.5 C70,2.0 575.0,2.0 575.0,264.5\" fill=\"none\" stroke=\"currentColor\"/>\n",
       "    <text dy=\"1.25em\" style=\"font-size: 0.8em; letter-spacing: 1px\">\n",
       "        <textPath xlink:href=\"#arrow-c48c9c8bc0c044adaed2258e44857aa9-0-0\" class=\"displacy-label\" startOffset=\"50%\" side=\"left\" fill=\"currentColor\" text-anchor=\"middle\">cop</textPath>\n",
       "    </text>\n",
       "    <path class=\"displacy-arrowhead\" d=\"M70,266.5 L62,254.5 78,254.5\" fill=\"currentColor\"/>\n",
       "</g>\n",
       "\n",
       "<g class=\"displacy-arrow\">\n",
       "    <path class=\"displacy-arc\" id=\"arrow-c48c9c8bc0c044adaed2258e44857aa9-0-1\" stroke-width=\"2px\" d=\"M245,264.5 C245,89.5 570.0,89.5 570.0,264.5\" fill=\"none\" stroke=\"currentColor\"/>\n",
       "    <text dy=\"1.25em\" style=\"font-size: 0.8em; letter-spacing: 1px\">\n",
       "        <textPath xlink:href=\"#arrow-c48c9c8bc0c044adaed2258e44857aa9-0-1\" class=\"displacy-label\" startOffset=\"50%\" side=\"left\" fill=\"currentColor\" text-anchor=\"middle\">case</textPath>\n",
       "    </text>\n",
       "    <path class=\"displacy-arrowhead\" d=\"M245,266.5 L237,254.5 253,254.5\" fill=\"currentColor\"/>\n",
       "</g>\n",
       "\n",
       "<g class=\"displacy-arrow\">\n",
       "    <path class=\"displacy-arc\" id=\"arrow-c48c9c8bc0c044adaed2258e44857aa9-0-2\" stroke-width=\"2px\" d=\"M420,264.5 C420,177.0 565.0,177.0 565.0,264.5\" fill=\"none\" stroke=\"currentColor\"/>\n",
       "    <text dy=\"1.25em\" style=\"font-size: 0.8em; letter-spacing: 1px\">\n",
       "        <textPath xlink:href=\"#arrow-c48c9c8bc0c044adaed2258e44857aa9-0-2\" class=\"displacy-label\" startOffset=\"50%\" side=\"left\" fill=\"currentColor\" text-anchor=\"middle\">amod</textPath>\n",
       "    </text>\n",
       "    <path class=\"displacy-arrowhead\" d=\"M420,266.5 L412,254.5 428,254.5\" fill=\"currentColor\"/>\n",
       "</g>\n",
       "\n",
       "<g class=\"displacy-arrow\">\n",
       "    <path class=\"displacy-arc\" id=\"arrow-c48c9c8bc0c044adaed2258e44857aa9-0-3\" stroke-width=\"2px\" d=\"M595,264.5 C595,177.0 740.0,177.0 740.0,264.5\" fill=\"none\" stroke=\"currentColor\"/>\n",
       "    <text dy=\"1.25em\" style=\"font-size: 0.8em; letter-spacing: 1px\">\n",
       "        <textPath xlink:href=\"#arrow-c48c9c8bc0c044adaed2258e44857aa9-0-3\" class=\"displacy-label\" startOffset=\"50%\" side=\"left\" fill=\"currentColor\" text-anchor=\"middle\">appos</textPath>\n",
       "    </text>\n",
       "    <path class=\"displacy-arrowhead\" d=\"M740.0,266.5 L748.0,254.5 732.0,254.5\" fill=\"currentColor\"/>\n",
       "</g>\n",
       "\n",
       "<g class=\"displacy-arrow\">\n",
       "    <path class=\"displacy-arc\" id=\"arrow-c48c9c8bc0c044adaed2258e44857aa9-0-4\" stroke-width=\"2px\" d=\"M945,264.5 C945,89.5 1270.0,89.5 1270.0,264.5\" fill=\"none\" stroke=\"currentColor\"/>\n",
       "    <text dy=\"1.25em\" style=\"font-size: 0.8em; letter-spacing: 1px\">\n",
       "        <textPath xlink:href=\"#arrow-c48c9c8bc0c044adaed2258e44857aa9-0-4\" class=\"displacy-label\" startOffset=\"50%\" side=\"left\" fill=\"currentColor\" text-anchor=\"middle\">amod</textPath>\n",
       "    </text>\n",
       "    <path class=\"displacy-arrowhead\" d=\"M945,266.5 L937,254.5 953,254.5\" fill=\"currentColor\"/>\n",
       "</g>\n",
       "\n",
       "<g class=\"displacy-arrow\">\n",
       "    <path class=\"displacy-arc\" id=\"arrow-c48c9c8bc0c044adaed2258e44857aa9-0-5\" stroke-width=\"2px\" d=\"M1120,264.5 C1120,177.0 1265.0,177.0 1265.0,264.5\" fill=\"none\" stroke=\"currentColor\"/>\n",
       "    <text dy=\"1.25em\" style=\"font-size: 0.8em; letter-spacing: 1px\">\n",
       "        <textPath xlink:href=\"#arrow-c48c9c8bc0c044adaed2258e44857aa9-0-5\" class=\"displacy-label\" startOffset=\"50%\" side=\"left\" fill=\"currentColor\" text-anchor=\"middle\">amod</textPath>\n",
       "    </text>\n",
       "    <path class=\"displacy-arrowhead\" d=\"M1120,266.5 L1112,254.5 1128,254.5\" fill=\"currentColor\"/>\n",
       "</g>\n",
       "\n",
       "<g class=\"displacy-arrow\">\n",
       "    <path class=\"displacy-arc\" id=\"arrow-c48c9c8bc0c044adaed2258e44857aa9-0-6\" stroke-width=\"2px\" d=\"M595,264.5 C595,2.0 1275.0,2.0 1275.0,264.5\" fill=\"none\" stroke=\"currentColor\"/>\n",
       "    <text dy=\"1.25em\" style=\"font-size: 0.8em; letter-spacing: 1px\">\n",
       "        <textPath xlink:href=\"#arrow-c48c9c8bc0c044adaed2258e44857aa9-0-6\" class=\"displacy-label\" startOffset=\"50%\" side=\"left\" fill=\"currentColor\" text-anchor=\"middle\">nsubj</textPath>\n",
       "    </text>\n",
       "    <path class=\"displacy-arrowhead\" d=\"M1275.0,266.5 L1283.0,254.5 1267.0,254.5\" fill=\"currentColor\"/>\n",
       "</g>\n",
       "\n",
       "<g class=\"displacy-arrow\">\n",
       "    <path class=\"displacy-arc\" id=\"arrow-c48c9c8bc0c044adaed2258e44857aa9-0-7\" stroke-width=\"2px\" d=\"M1295,264.5 C1295,177.0 1440.0,177.0 1440.0,264.5\" fill=\"none\" stroke=\"currentColor\"/>\n",
       "    <text dy=\"1.25em\" style=\"font-size: 0.8em; letter-spacing: 1px\">\n",
       "        <textPath xlink:href=\"#arrow-c48c9c8bc0c044adaed2258e44857aa9-0-7\" class=\"displacy-label\" startOffset=\"50%\" side=\"left\" fill=\"currentColor\" text-anchor=\"middle\">nmod</textPath>\n",
       "    </text>\n",
       "    <path class=\"displacy-arrowhead\" d=\"M1440.0,266.5 L1448.0,254.5 1432.0,254.5\" fill=\"currentColor\"/>\n",
       "</g>\n",
       "</svg></span>"
      ],
      "text/plain": [
       "<IPython.core.display.HTML object>"
      ]
     },
     "metadata": {},
     "output_type": "display_data"
    },
    {
     "name": "stdout",
     "output_type": "stream",
     "text": [
      "text           pos_       dep_        \n",
      "_______________________________________________________\n",
      "Была           AUX        cop         \n",
      "у              ADP        case        \n",
      "великой        ADJ        amod        \n",
      "богини         NOUN       ROOT        \n",
      "Деметры        PROPN      appos       \n",
      "юная           ADJ        amod        \n",
      "прекрасная     ADJ        amod        \n",
      "дочь           NOUN       nsubj       \n",
      "Персефона      PROPN      nmod        \n",
      ".              PUNCT      punct       \n",
      "_______________________________________________________\n"
     ]
    }
   ],
   "source": [
    "displacy.render(sents[0], style='dep')\n",
    "nice_print(sents[0])"
   ]
  },
  {
   "attachments": {},
   "cell_type": "markdown",
   "metadata": {},
   "source": [
    "Для облегчения задания вопросов к тексту, исключим все прилагательные. "
   ]
  },
  {
   "cell_type": "code",
   "execution_count": 4,
   "metadata": {},
   "outputs": [
    {
     "data": {
      "text/html": [
       "<span class=\"tex2jax_ignore\"><div class=\"entities\" style=\"line-height: 2.5; direction: ltr\">Была у великой богини \n",
       "<mark class=\"entity\" style=\"background: #ddd; padding: 0.45em 0.6em; margin: 0 0.25em; line-height: 1; border-radius: 0.35em;\">\n",
       "    Деметры\n",
       "    <span style=\"font-size: 0.8em; font-weight: bold; line-height: 1; border-radius: 0.35em; vertical-align: middle; margin-left: 0.5rem\">PER</span>\n",
       "</mark>\n",
       " юная прекрасная дочь \n",
       "<mark class=\"entity\" style=\"background: #ddd; padding: 0.45em 0.6em; margin: 0 0.25em; line-height: 1; border-radius: 0.35em;\">\n",
       "    Персефона\n",
       "    <span style=\"font-size: 0.8em; font-weight: bold; line-height: 1; border-radius: 0.35em; vertical-align: middle; margin-left: 0.5rem\">PER</span>\n",
       "</mark>\n",
       ". Отцом \n",
       "<mark class=\"entity\" style=\"background: #ddd; padding: 0.45em 0.6em; margin: 0 0.25em; line-height: 1; border-radius: 0.35em;\">\n",
       "    Персефоны\n",
       "    <span style=\"font-size: 0.8em; font-weight: bold; line-height: 1; border-radius: 0.35em; vertical-align: middle; margin-left: 0.5rem\">PER</span>\n",
       "</mark>\n",
       " был сам великий сын \n",
       "<mark class=\"entity\" style=\"background: #ddd; padding: 0.45em 0.6em; margin: 0 0.25em; line-height: 1; border-radius: 0.35em;\">\n",
       "    Крона\n",
       "    <span style=\"font-size: 0.8em; font-weight: bold; line-height: 1; border-radius: 0.35em; vertical-align: middle; margin-left: 0.5rem\">PER</span>\n",
       "</mark>\n",
       ", громовержец \n",
       "<mark class=\"entity\" style=\"background: #ddd; padding: 0.45em 0.6em; margin: 0 0.25em; line-height: 1; border-radius: 0.35em;\">\n",
       "    Зевс\n",
       "    <span style=\"font-size: 0.8em; font-weight: bold; line-height: 1; border-radius: 0.35em; vertical-align: middle; margin-left: 0.5rem\">PER</span>\n",
       "</mark>\n",
       ". Однажды прекрасная \n",
       "<mark class=\"entity\" style=\"background: #ddd; padding: 0.45em 0.6em; margin: 0 0.25em; line-height: 1; border-radius: 0.35em;\">\n",
       "    Персефона\n",
       "    <span style=\"font-size: 0.8em; font-weight: bold; line-height: 1; border-radius: 0.35em; vertical-align: middle; margin-left: 0.5rem\">PER</span>\n",
       "</mark>\n",
       " вместе со своими подругами, океанидами, беззаботно резвилась в цветущей \n",
       "<mark class=\"entity\" style=\"background: #ff9561; padding: 0.45em 0.6em; margin: 0 0.25em; line-height: 1; border-radius: 0.35em;\">\n",
       "    Нисейской долине\n",
       "    <span style=\"font-size: 0.8em; font-weight: bold; line-height: 1; border-radius: 0.35em; vertical-align: middle; margin-left: 0.5rem\">LOC</span>\n",
       "</mark>\n",
       "[*]. Подобно легкокрылой бабочке перебегала юная дочь \n",
       "<mark class=\"entity\" style=\"background: #ddd; padding: 0.45em 0.6em; margin: 0 0.25em; line-height: 1; border-radius: 0.35em;\">\n",
       "    Деметры\n",
       "    <span style=\"font-size: 0.8em; font-weight: bold; line-height: 1; border-radius: 0.35em; vertical-align: middle; margin-left: 0.5rem\">PER</span>\n",
       "</mark>\n",
       " от цветка к цветку. Она рвала пышные розы, душистые фиалки, белоснежные лилии и красные гиацинты. Беспечно резвилась \n",
       "<mark class=\"entity\" style=\"background: #ddd; padding: 0.45em 0.6em; margin: 0 0.25em; line-height: 1; border-radius: 0.35em;\">\n",
       "    Персефона\n",
       "    <span style=\"font-size: 0.8em; font-weight: bold; line-height: 1; border-radius: 0.35em; vertical-align: middle; margin-left: 0.5rem\">PER</span>\n",
       "</mark>\n",
       ", не ведая той судьбы, которую назначил ей отец ее \n",
       "<mark class=\"entity\" style=\"background: #ddd; padding: 0.45em 0.6em; margin: 0 0.25em; line-height: 1; border-radius: 0.35em;\">\n",
       "    Зевс\n",
       "    <span style=\"font-size: 0.8em; font-weight: bold; line-height: 1; border-radius: 0.35em; vertical-align: middle; margin-left: 0.5rem\">PER</span>\n",
       "</mark>\n",
       ". Не думала \n",
       "<mark class=\"entity\" style=\"background: #ddd; padding: 0.45em 0.6em; margin: 0 0.25em; line-height: 1; border-radius: 0.35em;\">\n",
       "    Персефона\n",
       "    <span style=\"font-size: 0.8em; font-weight: bold; line-height: 1; border-radius: 0.35em; vertical-align: middle; margin-left: 0.5rem\">PER</span>\n",
       "</mark>\n",
       ", что не скоро увидит она опять ясный свет солнца, не скоро будет любоваться цветами и вдыхать их сладкий аромат. \n",
       "<mark class=\"entity\" style=\"background: #ddd; padding: 0.45em 0.6em; margin: 0 0.25em; line-height: 1; border-radius: 0.35em;\">\n",
       "    Зевс\n",
       "    <span style=\"font-size: 0.8em; font-weight: bold; line-height: 1; border-radius: 0.35em; vertical-align: middle; margin-left: 0.5rem\">PER</span>\n",
       "</mark>\n",
       " отдал ее в жены мрачному своему брату \n",
       "<mark class=\"entity\" style=\"background: #ddd; padding: 0.45em 0.6em; margin: 0 0.25em; line-height: 1; border-radius: 0.35em;\">\n",
       "    Аиду\n",
       "    <span style=\"font-size: 0.8em; font-weight: bold; line-height: 1; border-radius: 0.35em; vertical-align: middle; margin-left: 0.5rem\">PER</span>\n",
       "</mark>\n",
       ", властителю царства теней умерших, и с ним должна была жить \n",
       "<mark class=\"entity\" style=\"background: #ddd; padding: 0.45em 0.6em; margin: 0 0.25em; line-height: 1; border-radius: 0.35em;\">\n",
       "    Персефона\n",
       "    <span style=\"font-size: 0.8em; font-weight: bold; line-height: 1; border-radius: 0.35em; vertical-align: middle; margin-left: 0.5rem\">PER</span>\n",
       "</mark>\n",
       " во мраке подземного царства, лишенная света и горячего южного солнца.</div></span>"
      ],
      "text/plain": [
       "<IPython.core.display.HTML object>"
      ]
     },
     "metadata": {},
     "output_type": "display_data"
    }
   ],
   "source": [
    "displacy.render(doc, style = 'ent')"
   ]
  },
  {
   "attachments": {},
   "cell_type": "markdown",
   "metadata": {},
   "source": [
    "Как видно, смысл предложений от этого не искажается. "
   ]
  },
  {
   "cell_type": "code",
   "execution_count": 5,
   "metadata": {},
   "outputs": [
    {
     "name": "stdout",
     "output_type": "stream",
     "text": [
      "Была у богини Деметры дочь Персефона.\n"
     ]
    }
   ],
   "source": [
    "def delete_other(sent):\n",
    "    ans = \"\"\n",
    "    for token in sent:\n",
    "        if token.ent_iob == 3:\n",
    "            ans = ans + token.text + \" \"\n",
    "        elif token.pos_ != 'ADJ':\n",
    "            ans = ans + token.text + \" \"\n",
    "    return nlp(ans.strip().replace(\" .\", \".\"). replace(\" ,\", \",\").replace(\"[ * ]\", \"\"))\n",
    "\n",
    "sents = [delete_other(i) for i in sents]\n",
    "\n",
    "# sents - массив хранящий все предложения\n",
    "print(sents[0])"
   ]
  },
  {
   "cell_type": "code",
   "execution_count": 6,
   "metadata": {},
   "outputs": [
    {
     "name": "stdout",
     "output_type": "stream",
     "text": [
      "[Была у богини Деметры дочь Персефона., Отцом Персефоны был сын Крона, громовержец Зевс., Однажды Персефона вместе со своими подругами, океанидами, беззаботно резвилась в цветущей Нисейской долине ., Подобно бабочке перебегала дочь Деметры от цветка к цветку., Она рвала розы, фиалки, лилии и гиацинты., Беспечно резвилась Персефона, не ведая той судьбы, которую назначил ей отец ее Зевс., Не думала Персефона, что не скоро увидит она опять свет солнца, не скоро будет любоваться цветами и вдыхать их аромат., Зевс отдал ее в жены своему брату Аиду, властителю царства теней умерших, и с ним была жить Персефона во мраке царства, лишенная света и солнца.]\n"
     ]
    }
   ],
   "source": [
    "print(list(sents))"
   ]
  },
  {
   "cell_type": "code",
   "execution_count": 7,
   "metadata": {},
   "outputs": [
    {
     "name": "stderr",
     "output_type": "stream",
     "text": [
      "/Library/Frameworks/Python.framework/Versions/3.10/lib/python3.10/site-packages/spacy/displacy/__init__.py:206: UserWarning: [W006] No entities to visualize found in Doc object. If this is surprising to you, make sure the Doc was processed using a model that supports named entity recognition, and check the `doc.ents` property manually if necessary.\n",
      "  warnings.warn(Warnings.W006)\n"
     ]
    },
    {
     "data": {
      "text/html": [
       "<span class=\"tex2jax_ignore\"><div class=\"entities\" style=\"line-height: 2.5; direction: ltr\">Была у богини \n",
       "<mark class=\"entity\" style=\"background: #ddd; padding: 0.45em 0.6em; margin: 0 0.25em; line-height: 1; border-radius: 0.35em;\">\n",
       "    Деметры\n",
       "    <span style=\"font-size: 0.8em; font-weight: bold; line-height: 1; border-radius: 0.35em; vertical-align: middle; margin-left: 0.5rem\">PER</span>\n",
       "</mark>\n",
       " дочь \n",
       "<mark class=\"entity\" style=\"background: #ddd; padding: 0.45em 0.6em; margin: 0 0.25em; line-height: 1; border-radius: 0.35em;\">\n",
       "    Персефона\n",
       "    <span style=\"font-size: 0.8em; font-weight: bold; line-height: 1; border-radius: 0.35em; vertical-align: middle; margin-left: 0.5rem\">PER</span>\n",
       "</mark>\n",
       ".</div>\n",
       "\n",
       "<div class=\"entities\" style=\"line-height: 2.5; direction: ltr\">Отцом Персефоны был сын \n",
       "<mark class=\"entity\" style=\"background: #ddd; padding: 0.45em 0.6em; margin: 0 0.25em; line-height: 1; border-radius: 0.35em;\">\n",
       "    Крона\n",
       "    <span style=\"font-size: 0.8em; font-weight: bold; line-height: 1; border-radius: 0.35em; vertical-align: middle; margin-left: 0.5rem\">PER</span>\n",
       "</mark>\n",
       ", громовержец \n",
       "<mark class=\"entity\" style=\"background: #ddd; padding: 0.45em 0.6em; margin: 0 0.25em; line-height: 1; border-radius: 0.35em;\">\n",
       "    Зевс\n",
       "    <span style=\"font-size: 0.8em; font-weight: bold; line-height: 1; border-radius: 0.35em; vertical-align: middle; margin-left: 0.5rem\">PER</span>\n",
       "</mark>\n",
       ".</div>\n",
       "\n",
       "<div class=\"entities\" style=\"line-height: 2.5; direction: ltr\">Однажды \n",
       "<mark class=\"entity\" style=\"background: #ddd; padding: 0.45em 0.6em; margin: 0 0.25em; line-height: 1; border-radius: 0.35em;\">\n",
       "    Персефона\n",
       "    <span style=\"font-size: 0.8em; font-weight: bold; line-height: 1; border-radius: 0.35em; vertical-align: middle; margin-left: 0.5rem\">PER</span>\n",
       "</mark>\n",
       " вместе со своими подругами, океанидами, беззаботно резвилась в цветущей \n",
       "<mark class=\"entity\" style=\"background: #ff9561; padding: 0.45em 0.6em; margin: 0 0.25em; line-height: 1; border-radius: 0.35em;\">\n",
       "    Нисейской долине\n",
       "    <span style=\"font-size: 0.8em; font-weight: bold; line-height: 1; border-radius: 0.35em; vertical-align: middle; margin-left: 0.5rem\">LOC</span>\n",
       "</mark>\n",
       " .</div>\n",
       "\n",
       "<div class=\"entities\" style=\"line-height: 2.5; direction: ltr\">Подобно бабочке перебегала дочь \n",
       "<mark class=\"entity\" style=\"background: #ddd; padding: 0.45em 0.6em; margin: 0 0.25em; line-height: 1; border-radius: 0.35em;\">\n",
       "    Деметры\n",
       "    <span style=\"font-size: 0.8em; font-weight: bold; line-height: 1; border-radius: 0.35em; vertical-align: middle; margin-left: 0.5rem\">PER</span>\n",
       "</mark>\n",
       " от цветка к цветку.</div>\n",
       "\n",
       "<div class=\"entities\" style=\"line-height: 2.5; direction: ltr\">Она рвала розы, фиалки, лилии и гиацинты.</div>\n",
       "\n",
       "<div class=\"entities\" style=\"line-height: 2.5; direction: ltr\">Беспечно резвилась \n",
       "<mark class=\"entity\" style=\"background: #ddd; padding: 0.45em 0.6em; margin: 0 0.25em; line-height: 1; border-radius: 0.35em;\">\n",
       "    Персефона\n",
       "    <span style=\"font-size: 0.8em; font-weight: bold; line-height: 1; border-radius: 0.35em; vertical-align: middle; margin-left: 0.5rem\">PER</span>\n",
       "</mark>\n",
       ", не ведая той судьбы, которую назначил ей отец ее \n",
       "<mark class=\"entity\" style=\"background: #ddd; padding: 0.45em 0.6em; margin: 0 0.25em; line-height: 1; border-radius: 0.35em;\">\n",
       "    Зевс\n",
       "    <span style=\"font-size: 0.8em; font-weight: bold; line-height: 1; border-radius: 0.35em; vertical-align: middle; margin-left: 0.5rem\">PER</span>\n",
       "</mark>\n",
       ".</div>\n",
       "\n",
       "<div class=\"entities\" style=\"line-height: 2.5; direction: ltr\">Не думала \n",
       "<mark class=\"entity\" style=\"background: #ddd; padding: 0.45em 0.6em; margin: 0 0.25em; line-height: 1; border-radius: 0.35em;\">\n",
       "    Персефона\n",
       "    <span style=\"font-size: 0.8em; font-weight: bold; line-height: 1; border-radius: 0.35em; vertical-align: middle; margin-left: 0.5rem\">PER</span>\n",
       "</mark>\n",
       ", что не скоро увидит она опять свет солнца, не скоро будет любоваться цветами и вдыхать их аромат.</div>\n",
       "\n",
       "<div class=\"entities\" style=\"line-height: 2.5; direction: ltr\">\n",
       "<mark class=\"entity\" style=\"background: #ddd; padding: 0.45em 0.6em; margin: 0 0.25em; line-height: 1; border-radius: 0.35em;\">\n",
       "    Зевс\n",
       "    <span style=\"font-size: 0.8em; font-weight: bold; line-height: 1; border-radius: 0.35em; vertical-align: middle; margin-left: 0.5rem\">PER</span>\n",
       "</mark>\n",
       " отдал ее в жены своему брату \n",
       "<mark class=\"entity\" style=\"background: #ddd; padding: 0.45em 0.6em; margin: 0 0.25em; line-height: 1; border-radius: 0.35em;\">\n",
       "    Аиду\n",
       "    <span style=\"font-size: 0.8em; font-weight: bold; line-height: 1; border-radius: 0.35em; vertical-align: middle; margin-left: 0.5rem\">PER</span>\n",
       "</mark>\n",
       ", властителю царства теней умерших, и с ним была жить \n",
       "<mark class=\"entity\" style=\"background: #ddd; padding: 0.45em 0.6em; margin: 0 0.25em; line-height: 1; border-radius: 0.35em;\">\n",
       "    Персефона\n",
       "    <span style=\"font-size: 0.8em; font-weight: bold; line-height: 1; border-radius: 0.35em; vertical-align: middle; margin-left: 0.5rem\">PER</span>\n",
       "</mark>\n",
       " во мраке царства, лишенная света и солнца.</div></span>"
      ],
      "text/plain": [
       "<IPython.core.display.HTML object>"
      ]
     },
     "metadata": {},
     "output_type": "display_data"
    }
   ],
   "source": [
    "displacy.render(sents, style = 'ent')"
   ]
  },
  {
   "attachments": {},
   "cell_type": "markdown",
   "metadata": {},
   "source": [
    "<b>Замечание:</b> во втором предложении имя \"Персефона\" перестало иметь метку Persona."
   ]
  },
  {
   "attachments": {},
   "cell_type": "markdown",
   "metadata": {},
   "source": [
    "Для формирования вопросов будем использовать обход деревьев зависимостей, выделение именнованных сущностей и паттерны."
   ]
  },
  {
   "cell_type": "code",
   "execution_count": 8,
   "metadata": {},
   "outputs": [
    {
     "data": {
      "text/html": [
       "<span class=\"tex2jax_ignore\"><svg xmlns=\"http://www.w3.org/2000/svg\" xmlns:xlink=\"http://www.w3.org/1999/xlink\" xml:lang=\"ru\" id=\"acaede14e9e94c9c92ee8eff8aa93a02-0\" class=\"displacy\" width=\"1100\" height=\"312.0\" direction=\"ltr\" style=\"max-width: none; height: 312.0px; color: #000000; background: #ffffff; font-family: Arial; direction: ltr\">\n",
       "<text class=\"displacy-token\" fill=\"currentColor\" text-anchor=\"middle\" y=\"222.0\">\n",
       "    <tspan class=\"displacy-word\" fill=\"currentColor\" x=\"50\">Была</tspan>\n",
       "    <tspan class=\"displacy-tag\" dy=\"2em\" fill=\"currentColor\" x=\"50\">AUX</tspan>\n",
       "</text>\n",
       "\n",
       "<text class=\"displacy-token\" fill=\"currentColor\" text-anchor=\"middle\" y=\"222.0\">\n",
       "    <tspan class=\"displacy-word\" fill=\"currentColor\" x=\"225\">у</tspan>\n",
       "    <tspan class=\"displacy-tag\" dy=\"2em\" fill=\"currentColor\" x=\"225\">ADP</tspan>\n",
       "</text>\n",
       "\n",
       "<text class=\"displacy-token\" fill=\"currentColor\" text-anchor=\"middle\" y=\"222.0\">\n",
       "    <tspan class=\"displacy-word\" fill=\"currentColor\" x=\"400\">богини</tspan>\n",
       "    <tspan class=\"displacy-tag\" dy=\"2em\" fill=\"currentColor\" x=\"400\">NOUN</tspan>\n",
       "</text>\n",
       "\n",
       "<text class=\"displacy-token\" fill=\"currentColor\" text-anchor=\"middle\" y=\"222.0\">\n",
       "    <tspan class=\"displacy-word\" fill=\"currentColor\" x=\"575\">Деметры</tspan>\n",
       "    <tspan class=\"displacy-tag\" dy=\"2em\" fill=\"currentColor\" x=\"575\">PROPN</tspan>\n",
       "</text>\n",
       "\n",
       "<text class=\"displacy-token\" fill=\"currentColor\" text-anchor=\"middle\" y=\"222.0\">\n",
       "    <tspan class=\"displacy-word\" fill=\"currentColor\" x=\"750\">дочь</tspan>\n",
       "    <tspan class=\"displacy-tag\" dy=\"2em\" fill=\"currentColor\" x=\"750\">NOUN</tspan>\n",
       "</text>\n",
       "\n",
       "<text class=\"displacy-token\" fill=\"currentColor\" text-anchor=\"middle\" y=\"222.0\">\n",
       "    <tspan class=\"displacy-word\" fill=\"currentColor\" x=\"925\">Персефона.</tspan>\n",
       "    <tspan class=\"displacy-tag\" dy=\"2em\" fill=\"currentColor\" x=\"925\">PROPN</tspan>\n",
       "</text>\n",
       "\n",
       "<g class=\"displacy-arrow\">\n",
       "    <path class=\"displacy-arc\" id=\"arrow-acaede14e9e94c9c92ee8eff8aa93a02-0-0\" stroke-width=\"2px\" d=\"M70,177.0 C70,2.0 400.0,2.0 400.0,177.0\" fill=\"none\" stroke=\"currentColor\"/>\n",
       "    <text dy=\"1.25em\" style=\"font-size: 0.8em; letter-spacing: 1px\">\n",
       "        <textPath xlink:href=\"#arrow-acaede14e9e94c9c92ee8eff8aa93a02-0-0\" class=\"displacy-label\" startOffset=\"50%\" side=\"left\" fill=\"currentColor\" text-anchor=\"middle\">cop</textPath>\n",
       "    </text>\n",
       "    <path class=\"displacy-arrowhead\" d=\"M70,179.0 L62,167.0 78,167.0\" fill=\"currentColor\"/>\n",
       "</g>\n",
       "\n",
       "<g class=\"displacy-arrow\">\n",
       "    <path class=\"displacy-arc\" id=\"arrow-acaede14e9e94c9c92ee8eff8aa93a02-0-1\" stroke-width=\"2px\" d=\"M245,177.0 C245,89.5 395.0,89.5 395.0,177.0\" fill=\"none\" stroke=\"currentColor\"/>\n",
       "    <text dy=\"1.25em\" style=\"font-size: 0.8em; letter-spacing: 1px\">\n",
       "        <textPath xlink:href=\"#arrow-acaede14e9e94c9c92ee8eff8aa93a02-0-1\" class=\"displacy-label\" startOffset=\"50%\" side=\"left\" fill=\"currentColor\" text-anchor=\"middle\">case</textPath>\n",
       "    </text>\n",
       "    <path class=\"displacy-arrowhead\" d=\"M245,179.0 L237,167.0 253,167.0\" fill=\"currentColor\"/>\n",
       "</g>\n",
       "\n",
       "<g class=\"displacy-arrow\">\n",
       "    <path class=\"displacy-arc\" id=\"arrow-acaede14e9e94c9c92ee8eff8aa93a02-0-2\" stroke-width=\"2px\" d=\"M420,177.0 C420,89.5 570.0,89.5 570.0,177.0\" fill=\"none\" stroke=\"currentColor\"/>\n",
       "    <text dy=\"1.25em\" style=\"font-size: 0.8em; letter-spacing: 1px\">\n",
       "        <textPath xlink:href=\"#arrow-acaede14e9e94c9c92ee8eff8aa93a02-0-2\" class=\"displacy-label\" startOffset=\"50%\" side=\"left\" fill=\"currentColor\" text-anchor=\"middle\">appos</textPath>\n",
       "    </text>\n",
       "    <path class=\"displacy-arrowhead\" d=\"M570.0,179.0 L578.0,167.0 562.0,167.0\" fill=\"currentColor\"/>\n",
       "</g>\n",
       "\n",
       "<g class=\"displacy-arrow\">\n",
       "    <path class=\"displacy-arc\" id=\"arrow-acaede14e9e94c9c92ee8eff8aa93a02-0-3\" stroke-width=\"2px\" d=\"M420,177.0 C420,2.0 750.0,2.0 750.0,177.0\" fill=\"none\" stroke=\"currentColor\"/>\n",
       "    <text dy=\"1.25em\" style=\"font-size: 0.8em; letter-spacing: 1px\">\n",
       "        <textPath xlink:href=\"#arrow-acaede14e9e94c9c92ee8eff8aa93a02-0-3\" class=\"displacy-label\" startOffset=\"50%\" side=\"left\" fill=\"currentColor\" text-anchor=\"middle\">nsubj</textPath>\n",
       "    </text>\n",
       "    <path class=\"displacy-arrowhead\" d=\"M750.0,179.0 L758.0,167.0 742.0,167.0\" fill=\"currentColor\"/>\n",
       "</g>\n",
       "\n",
       "<g class=\"displacy-arrow\">\n",
       "    <path class=\"displacy-arc\" id=\"arrow-acaede14e9e94c9c92ee8eff8aa93a02-0-4\" stroke-width=\"2px\" d=\"M770,177.0 C770,89.5 920.0,89.5 920.0,177.0\" fill=\"none\" stroke=\"currentColor\"/>\n",
       "    <text dy=\"1.25em\" style=\"font-size: 0.8em; letter-spacing: 1px\">\n",
       "        <textPath xlink:href=\"#arrow-acaede14e9e94c9c92ee8eff8aa93a02-0-4\" class=\"displacy-label\" startOffset=\"50%\" side=\"left\" fill=\"currentColor\" text-anchor=\"middle\">nmod</textPath>\n",
       "    </text>\n",
       "    <path class=\"displacy-arrowhead\" d=\"M920.0,179.0 L928.0,167.0 912.0,167.0\" fill=\"currentColor\"/>\n",
       "</g>\n",
       "</svg></span>"
      ],
      "text/plain": [
       "<IPython.core.display.HTML object>"
      ]
     },
     "metadata": {},
     "output_type": "display_data"
    },
    {
     "name": "stdout",
     "output_type": "stream",
     "text": [
      "text           pos_       dep_        \n",
      "_______________________________________________________\n",
      "Была           AUX        cop         \n",
      "у              ADP        case        \n",
      "богини         NOUN       ROOT        \n",
      "Деметры        PROPN      appos       \n",
      "дочь           NOUN       nsubj       \n",
      "Персефона      PROPN      nmod        \n",
      ".              PUNCT      punct       \n",
      "_______________________________________________________\n"
     ]
    }
   ],
   "source": [
    "m  = sents[0]\n",
    "displacy.render(m, style='dep')\n",
    "nice_print(m)"
   ]
  },
  {
   "attachments": {},
   "cell_type": "markdown",
   "metadata": {},
   "source": [
    "Как видим, корневое слово, от которого идут все стелочки имеет метку ROOT при вызове функции dep_ к токену. Соответственно это можно использовать для построения вопроса."
   ]
  },
  {
   "attachments": {},
   "cell_type": "markdown",
   "metadata": {},
   "source": [
    "Следующая сложность, это определится какой именно вопрос мы хотим задать к предложению.\n",
    "\n",
    "## <b>Начало экспериментов</b>\n",
    "#### <b>Предложение 1</b>\n",
    "\n",
    "<b>'Была у богини Деметры дочь Персефона\"</b>\n",
    "\n",
    "Вопросы:\n",
    "1. Как звали дочь богини Деметры? Кто был у богини Деметры дочерью? Была ли у богини Деметры дочь? 2. Кто был у богини Деметры?\n",
    "2. Кто такие Деметра и Персефона? Кто такая Деметра? Кто такая Персефона? Что связывает Деметру и Персефону?\n",
    "___"
   ]
  },
  {
   "attachments": {},
   "cell_type": "markdown",
   "metadata": {},
   "source": [
    "1. Рассмотрим тип вопроса \"Кто такая \" + <именнованная сущность>? Проблема будет только в слове \"такой/такая\". Однако ее в принципе можно решить, допустим, заведя отдельно массивы мужских и женских имен. Получим их при помощи парсинга данных parser.ipynb."
   ]
  },
  {
   "cell_type": "code",
   "execution_count": 9,
   "metadata": {},
   "outputs": [],
   "source": [
    "female_name = ['Авга', 'Авра', 'Автоноя', 'Агава', 'Агамеда', 'Агамеда', 'Аглавра', 'Аглая', 'Адрастея', 'Айтилла', 'Акакаллида', 'Алкестида', 'Алкидика', 'Алкимеда', 'Алкиона', 'Алкиона', 'Алкиониды', 'Алкиппа', 'Алкиппа', 'Алкмена', 'Алопа', 'Алфесибея', 'Алфея', 'Амфитея', 'Анаксарета', 'Анаксо', 'Андромаха', 'Андромеда', 'Антеида', 'Антемона', 'Антигона', 'Антигона', 'Антигона', 'Антиклея', 'Антиноя', 'Антиопа', 'Апемосина', 'Арахна', 'Арганфона', 'Аргия', 'Арета', 'Ариадна', 'Арна', 'Арсиноя', 'Арсиноя', 'Астидамия', 'Астидамия', 'Астимедуса', 'Астиоха', 'Астипалея', 'Аталанта', 'Аттида', 'Аэдона', 'Аэропа', 'Батия', 'Баубо', 'Бентесикима', 'Библида', 'БрисеидаГ', 'Галанфида', 'Галия', 'Гарпалика', 'Гарпалика', 'Гекала', 'Геката', 'Гекуба', 'Гелла', 'Гемифея', 'Гермиона', 'Геро', 'Гера', 'Герса', 'Гея', 'Гесиона', 'Гестия', 'Гефестина', 'Гилайера', 'Гималия', 'Гиппа', 'Гипподамия', 'Гипподамия', 'Гипсипила', 'Главка', 'Горга', 'Горгоны', 'Горгофона', 'Даная', 'Деидамия', 'Деипила', 'Дексифея', 'Деметра', 'Демоника', 'Деянира', 'Диогения', 'Дирка', 'Дриопа', 'Евадна', 'Евбея', 'Еврианасса', 'Евфросина', 'Елена', 'Ианта', 'Идея', 'Илиона', 'Ино', 'Ио', 'Иодама', 'Иокаста', 'Иола', 'Ипполита', 'Исмена', 'Ифианасса', 'Ифигения', 'Ифимедея', 'Калика', 'Каллидика', 'Каллисто', 'Канака', 'Кассандра', 'Кассиопея', 'Каталог', 'Керкира', 'Кидиппа', 'Килла', 'Кирена', 'Клеопатра', 'Клеохария', 'Климена', 'Климена', 'Клитемнестра', 'Клития', 'Клития', 'Коронида', 'Корониды', 'Краная', 'Креуса', 'Креуса', 'Ктесилла', 'Ктимена', 'Ланасса', 'Лаодамия', 'Лаодика', 'Левкиппа', 'Левкофея', 'Леда', 'Ливия', 'Лисимаха', 'Литея', 'Локрийские', 'Макария', 'Макело', 'Манто', 'Марпесса', 'Мегара', 'Медея',  'Меланфо', 'Мелеагриды', 'Мелибея', 'Мелисса', 'Мелита', 'Мемфида', 'Меропа', 'Меропа', 'Мессена', 'Метанира', 'Метопа', 'Миниады', 'Мирмека', 'Мирра', 'Мнестра', 'Молиона', 'Молпадия', 'Мэра', 'Навпрестиды', 'Навсикая', 'Немезида', 'Никиппа', 'Никтимена', 'Ниоба', 'Ниоба', 'Окироя', 'Омфала', 'Опида', 'Орифия', 'Орсеида', 'Ортея', 'Паллена', 'Пандора', 'Пандроса', 'Панкратида', 'Парфенос', 'Пасифая', 'Педиада', 'Пелопия', 'Пенелопа', 'Пердика', 'Перибея', 'Перибея', 'Перибея', 'Перигуна', 'Перимеда', 'Перимела', 'Перо', 'Персефона', 'Пирена', 'Пирра', 'Писидика', 'Полидора', 'Поликаста', 'Поликаста', 'Поликсена', 'Поликсо', 'Полифонта', 'Помфолига', 'Праксифея', 'Прокна', 'Прокрида', 'Проноя', 'Пропетиды', 'Протогенея', 'Протогенея', 'Протогония', 'Псамафа', 'Рео', 'Рода', 'Родопа', 'Рома', 'Саламина', 'Семела', 'Сивиллы', 'Сидеро', 'Синопа', 'Скилла', 'Спарта', 'Спутники', 'Стилба', 'СфенебеяТ', 'Талия', 'Текмесса', 'Телета', 'Телефасса', 'Тимандра', 'Тироф', 'Фантасия', 'Феано', 'Феано', 'Феба', 'Федра', 'Фемисто', 'Фемоноя', 'Феофана', 'Фива', 'Фива', 'Филемон', 'Филлида', 'Филомела', 'ФилонояХ', 'Халкиопа', 'Харикло', 'Хиона', 'Хиона', 'Хлорида', 'Хриса', 'Хрисеида', 'Хрисофемида', 'Хрисофемида', 'Хтония', 'Хтонофилаэ', 'Цирцея', 'Эвриала', 'Эвридика', 'Эвриклея', 'Эгиала', 'Эгиалея', 'Эгла', 'Эглеида', 'Элара', 'Электра', 'Электриона', 'Энарета', 'Эндеида', 'Энотрофы', 'Эпикаста', 'Эригона', 'Эригона', 'Эринома', 'Эрифила', 'Эфрая', 'Ямба']\n",
    "female_name = set(female_name)"
   ]
  },
  {
   "cell_type": "code",
   "execution_count": 10,
   "metadata": {},
   "outputs": [],
   "source": [
    "male_name = ['Абант', 'Абарис', 'Абдер', 'Авгий', 'Авсон', 'Автесион', 'Автолик', 'Автомедонт', 'Автоной', 'Агамед', 'Агамемнон', 'Агапенор', 'Агассамен', 'Агафирс', 'Агелай', 'Агенор', 'Агрий', 'Агрол', 'Агрон', 'Адмет', 'Адраст', 'Адраст', 'Аероп', 'Азан', 'Аид', 'Академ', 'Акамант', 'Акамант', 'Акамант', 'Акарнан', 'Акаст', 'Акербант', 'Акест', 'Акет', 'Акид', 'Аконтий', 'Акрисий', 'Актей', 'Актеон', 'Актий', 'Актор', 'Актор', 'Актор', 'Алалкомен', 'Алей', 'Алектрион', 'Алет', 'Алет', 'Алкандр', 'Алкафой', 'Алкафой', 'Алкей', 'Алкиды', 'Алкимаха', 'Алкимедонт', 'Алкиной', 'Алкиноя', 'Алкмеон', 'Алкмеон', 'Алкон', 'Алм', 'Алоады', 'Алоей', 'Алоей', 'Алфемен', 'Алфеп', 'Амаринкей', 'Амик', 'Амикл', 'Аминтор', 'Амисодар', 'Амифаон', 'Ампел', 'Амфиал', 'Амфиарай', 'Амфиктион', 'Амфилох', 'Амфилох', 'Амфимах', 'Амфимах', 'Амфином', 'Амфинома', 'Амфион', 'Амфион', 'Амфитрион', 'Амфотер', 'Анаксагор', 'Андрей', 'Андремон', 'Андрогей', 'Андрокл', 'Андропомп', 'Андрос', 'Аний', 'Анит', 'Анкей', 'Анкей', 'Антагор', 'Антей', 'Антенор', 'Антикл', 'Антилох', 'Антимах', 'Антиной', 'Антион', 'Антиох', 'Антиф', 'Антиф', 'Антифат', 'Анф', 'Анфей', 'Анфином', 'Анхиал', 'Анхироя', 'Анхис', 'Апис', 'Апсирт', 'Араб', 'Арант', 'Аргал', 'Аргос', 'Аргос', 'Ардал', 'Арейфой', 'Арисба', 'Аристей', 'Аркад', 'Аркесилай', 'Аркисий', 'Архелай', 'Архелох', 'Архител', 'Асий', 'Аскалаф', 'Аскалаф', 'Асканий', 'Ассарак', 'Астерий', 'Астерион', 'Астеродия', 'Астеропей', 'Астианакт', 'Астикратия', 'Астинома', 'Атимний', 'Атрей', 'Аттис', 'Афамант', 'Афарей', 'Афаретиды', 'Афидант', 'Афидант', 'Афидн', 'Ахей', 'Ахилл', 'Ацис', 'Аэтий', 'Аэфлий', 'Аякс', 'Аякс', 'Бакис', 'Батт', 'Бел', 'Беллерофонт', 'Беот', 'Биант', 'Бисса', 'Бореады', 'Борисфен', 'Бранх', 'Бранх', 'Бресия', 'Бронт', 'Бротей', 'Бузиг', 'Бусирис', 'Бут', 'Бут', 'Бут', 'Бут', 'Визант', 'ВирбийГ', 'Габид', 'Галат', 'Галиррофий', 'Галиферс', 'Ганимед', 'Гекаэрг', 'Гектор', 'Геланор', 'Гелен', 'Геликаон', 'Гелон', 'Гем', 'Гемон', 'Гениоха', 'Герана', 'Гермафродит', 'Гермион', 'Гиант', 'Гиацинт', 'Гиацинт', 'Гилас', 'Гилей', 'Гименей', 'Гиперет', 'Гипподамант', 'Гиппокоонт', 'Гиппокорист', 'Гипполох', 'Гипполох', 'Гиппомедонт', 'Гиппоной', 'Гиппот', 'Гиппофой', 'Гиппофой', 'Гиппофоонт', 'Гиппофоя', 'Гипсей', 'Гипсенор', 'Гирией', 'Гиртак', 'Главк', 'Главк', 'Главк', 'Гоплей', 'Гоплет', 'Горгира', 'Горгофон', 'Гордий', 'ГунейД', 'Давн', 'Даифрон', 'Дайт', 'Дамастор', 'Данай', 'Дардан', 'Дарет', 'Дафнис', 'Девкалион', 'Девкалион', 'Дедал', 'Дедалион', 'Деимах', 'Деион', 'Деипил', 'Деифоб', 'Деифонт', 'Дексамен', 'Дексикреон', 'Дельф', 'Дельфийская', 'Демодок', 'Демодок', 'Демолеонт', 'Демофонт', 'Демофонт', 'Демофонт', 'Десмонт', 'Диант', 'Диктис', 'Диктис', 'Димант', 'Димет', 'Диокл', 'Диоксиппа', 'Диомед', 'Диомед', 'Дион', 'Дисавл', 'Долий', 'Долих', 'Долон', 'Дор', 'ДриопЕ', 'Евдора', 'Евемон', 'Евипп', 'Евмед', 'Евмей', 'Евмел', 'Евмел', 'Евмолп', 'Евней', 'Евном', 'Евпиф', 'Евриал', 'Еврибий', 'Евриганея', 'Евридамант', 'Еврилох', 'Евримах', 'Еврипил', 'Еврипил', 'Еврипил', 'Еврипил', 'Еврисак', 'Еврисфей', 'Еврит', 'Еврит', 'Евритион', 'Евритион', 'Евритион', 'Евритион', 'Еврифемида', 'Еврот', 'Евфем', 'Евфет', 'ЕвфорбЖ', 'Женихи', 'Женихи', 'Зарекс', 'Зефи', 'Зевс', 'Иалмен', 'Иам', 'Ианира', 'Ианфа', 'Иарбант', 'Иас', 'Иасий', 'Иасион', 'Идас', 'Идмон', 'Идомена', 'Идоменей', 'Икадий', 'Икар', 'Икарий', 'Икарий', 'Иксион', 'Ил', 'Иллирий', 'Имбрас', 'Иммарад', 'Иобат', 'Иокаст', 'Иолай', 'Ион', 'Ипполит', 'Ир', 'Ир', 'Ис', 'Исхен', 'Исхий', 'Итил', 'Итимоней', 'Итис', 'Итон', 'Ификл', 'Ификл', 'Ификл', 'Ифиноя', 'Ифис', 'Ифис', 'Ифит', 'Ифит', 'Каанф', 'Кавкон', 'Кавн', 'Кадм', 'Каламос', 'Калидон', 'Калхас', 'Кандал', 'Канеф', 'Каноп', 'Канф', 'Капаней', 'Капис', 'Кар', 'Кар', 'Каран', 'Карней', 'Катрей', 'Кебрион', 'Кеик', 'Кронос', 'Крон', 'Кекропс', 'Кекропс', 'Келей', 'Кельт', 'Кеней', 'Керамб', 'Керик', 'Керкаф', 'Керкион', 'Кефал', 'Кефал', 'Кефей', 'Кефей', 'Кианипп', 'Кидон', 'Кизик', 'Кикн', 'Кикн', 'Кикн', 'Кикн', 'Килик', 'Кинир', 'Кинорт', 'Кипарис', 'Кипсел', 'Киссей', 'Китисор', 'Киферон', 'Кихрей', 'Кларос', 'Клейто', 'Клеобея', 'Клеобула', 'Клеодора', 'Клеомед', 'Клеотера', 'Климен', 'Климен', 'Климен', 'Клинис', 'Клиситира', 'Клита', 'Клитий', 'Клоний', 'Кноп', 'Кодр', 'Кокал', 'Колен', 'Комето', 'Копрей', 'Кореб', 'Кореб', 'Корибант', 'Коринн', 'Коринф', 'Кориф', 'Корон', 'Крагалей', 'Кранай', 'Крантор', 'Креонт', 'Креонт', 'Крефей', 'Крокон', 'Крокус', 'Кротон', 'Кротоп', 'Кротос', 'Ксанф', 'Ксанф', 'Ксуф', 'КтесиппЛ', 'Лаий', 'Лакедемон', 'Лакестад', 'Лакий', 'Ламедон', 'Лампетия', 'Лаогора', 'Лаодамант', 'Лаодик', 'Лаокоонт', 'Лаомед', 'Лаомедонт', 'Лаонома', 'Лаофоя', 'Лапиф', 'Латин', 'Лаэрт', 'Леарх', 'Левк', 'Левкипп', 'Левкипп', 'Левкипп', 'Левкипп', 'Левкоком', 'Леит', 'Лелег', 'Леодамант', 'Леонт', 'Леонтей', 'Лепрей', 'Лид', 'Лик', 'Лик', 'Лик', 'Лик', 'Лик', 'Ликаон', 'Ликаон', 'Ликимний', 'Ликомед', 'Ликомед', 'Ликург', 'Ликург', 'Ликург', 'Лин', 'Линкей', 'Линкей', 'Линкей', 'Липар', 'Лирк', 'Лисиппа', 'Лиситея', 'Литиерс', 'Лихас', 'ЛокрМ', 'Магнет', 'Макарей', 'Макарей', 'Македон', 'Мантий', 'Марафон', 'Марон', 'Маттан', 'Махаон', 'Мегапенф', 'Мегапенф', 'Мегарей', 'Мегет', 'Медей', 'Медонт', 'Медонт', 'Мекистей', 'Мекон', 'Мелампод', 'Мелан', 'Меланей', 'Меланион', 'Меланипп', 'Меланипп', 'Меланф', 'Меланфий', 'Мелеагр', 'Меликерт', 'Мелисс', 'Мелос', 'Мемнон', 'Менекей', 'Менекей', 'Менелай', 'Менесфей', 'Менетий', 'Менит', 'Ментор', 'Меон', 'Мерион', 'Мермер', 'Мероп', 'Меропида', 'Местор', 'Местор', 'Местор', 'Метапонт', 'Метион', 'Мигдон', 'Мигдон', 'Мидас', 'Милет', 'Милет', 'Милих', 'Миний', 'Минос', 'Мирина', 'Мирмидон', 'Миртил', 'Мисен', 'Молиониды', 'Молорх', 'Молосс', 'Мопс', 'Мопс', 'Мопс', 'Муних', 'МусейН', 'Навплий', 'Навплий', 'Навплий', 'Навсифой', 'Навсифой', 'Навсифой', 'Наннак', 'Нарцисс', 'Нелеиды', 'Нелей', 'Нелей', 'Неоптолем', 'Нестор', 'Никострат', 'Никострата', 'Никтим', 'Нин', 'Нирей', 'Нис', 'Нис', 'НораксО', 'Обрим', 'Огиг', 'Одиссей', 'Оилей', 'Окн', 'Окридион', 'Оксил', 'Оксиний', 'Оксинт', 'Олен', 'Олимп', 'Олинф', 'Онк', 'Опунт', 'Орест', 'Оресфей', 'Орион', 'Ормен', 'Орней', 'Орседика', 'Орсилох', 'Орфей', 'Орхомен', 'Орхомен', 'Отрей', 'Офельт', 'Офрейда', 'ОхимП', 'Паламед', 'Палемоний', 'Палефат', 'Паллант', 'Паллантиды', 'Памфил', 'Панасагор', 'Пандар', 'Пандарей', 'Пандион', 'Пандион', 'Пандион', 'Пандор', 'Панопей', 'Панф', 'Парис', 'Парфенопей', 'Патрокл', 'Пафос', 'Пеант', 'Пелагонт', 'Пеласг', 'Пеласг', 'Пеласг', 'Пелей', 'Пелий', 'Пелоп', 'Пемандр', 'Пенелей', 'Пенфил', 'Пергам', 'Периер', 'Периклимен', 'Периклимен', 'Перилай', 'Перифант', 'Перифет', 'Перс', 'Перс', 'Персей', 'Персепол', 'Петеой', 'Пигмалион', 'Пигмалион', 'Пиер', 'Пилад', 'Пилас', 'Пилемен', 'Пилия', 'Пирант', 'Пирехм', 'Пирифой', 'Писенор', 'Писистрат', 'Питфей', 'Плеврон', 'Плексипп', 'Плексипп', 'Плисфен', 'Плисфен', 'Подалирий', 'Подарк', 'Полиб', 'Полиб', 'Полидамант', 'Полидамна', 'Полидект', 'Полидор', 'Полиид', 'Поликаон', 'Поликсен', 'Полимнестор', 'Полиник', 'Полипет', 'Полит', 'Полит', 'Полифем', 'Полифонт', 'Поллид', 'Полтис', 'Порфаон', 'Превген', 'Прет', 'Приам', 'Прокл', 'Прокруст', 'Промах', 'Промет', 'Просимн', 'Протесилай', 'Профоенор', 'Профой', 'Псилл', 'ПтерелайР', 'Радамант', 'Ракий', 'Рар', 'Рес', 'Салмоней', 'Саон', 'Сард', 'Сарданапал', 'Сарон', 'Сарпедон', 'Сарпедон', 'Сизиф', 'Сикел', 'Сикион', 'Силей', 'Синис', 'Синон', 'Сифон', 'Скир', 'Скирон', 'Смикр', 'Смилакс', 'Спарты', 'Стафил', 'Стентор', 'Стимфал', 'Строфий', 'Суфакс', 'Сфенел', 'Сфенел', 'Сфенела', 'Схедий', 'СхенейТ', 'Талай', 'Талос', 'Талфибий', 'Тантал', 'Тантал', 'Тарент', 'Тевкр', 'Тевкр', 'Тевтис', 'Тевфрант', 'Тегирий', 'Тектам', 'Теламон', 'Телегон', 'Телегон', 'Телемах', 'Телеф', 'Тенаг', 'Тенес', 'Теоклимен', 'Терей', 'Терсандр', 'Терсит', 'Тесей', 'Тидей', 'Тингис', 'Тиндарей', 'Тиресий', 'Тиррен', 'Тисамен', 'Тисамен', 'Титий', 'Титий', 'Титон', 'Тифий', 'Тлеполем', 'Тмол', 'Тон', 'Трамбел', 'Триоп', 'Триоп', 'Триоп', 'Триптолем', 'Троил', 'Трос', 'ТрофонийФ', 'Фаланг', 'Фалер', 'Фалпий', 'Фамирид', 'Фаон', 'Фасос', 'Фаэтон', 'Фаэтуса', 'Фегей', 'Фемий','Феникс', 'Фенодамант', 'Феодамант', 'Ферас', 'Ферекл', 'Ферет', 'Феспий', 'Фессал', 'Фессал', 'Фестий', 'Фестор', 'Фидипп', 'Фиест', 'Филак', 'Филаммон', 'Филант','Филей', 'Филетий', 'Филоктет', 'Филомел', 'Филонома', 'Филот', 'Фимет', 'Финей', 'Финей', 'Фитал', 'Флегий', 'Флиант', 'Фоант', 'Фок', 'Фоон', 'Форбант', 'Форбант', 'Форбант', 'Форкий', 'Фороней', 'Фрасий', 'Фрасимед', 'Фрикс', 'Фтий', 'Халкин', 'Халкодонт', 'Халкодонт', 'Хаон', 'Хароп', 'Херон', 'Хорик', 'Хрис', 'Хрис', 'Хрисипп', 'Эак', 'Эакиды', 'Эбал', 'Эвандр', 'Эвандр', 'Эвбулей', 'Эвен', 'Эвиппа', 'Эвпалам', 'Эвриал', 'Эврибат', 'Эвримедон', 'Эвримедон', 'Эвримедон', 'Эгей', 'Эгиалей', 'Эгиалей', 'Эгимий', 'Эгипт', 'Эгиптиады', 'Эгиптий', 'Эгисф', 'Эионей', 'Экл', 'Элат', 'Элат', 'Элат', 'Элатон', 'Элевсин', 'Элевтер', 'Элей', 'Электрион', 'Элефенор', 'Элим', 'Эллин', 'Элпенор', 'Энал', 'Эндимион', 'Эндой', 'Эней', 'Эномай', 'Энопион', 'Энотр', 'Эол', 'Эон', 'Эпаф', 'Эпей', 'Эпей', 'Эпистроф', 'Эпит', 'Эпит', 'Эпопей', 'Эргин', 'Эргин', 'Эрехтей', 'Эрибот', 'Эрикс', 'Эрисихтон', 'Эрисихтон', 'Эрифия', 'Эрифра', 'Эрихтоний', 'Эсак', 'Эсон', 'Этеокл', 'Этол', 'Эфалид', 'Эхем', 'Эхет', 'Эхетл', 'Эхион', 'Ээт', 'Ээтионя', 'Япиг', 'Ясон']\n",
    "male_name = set(male_name)"
   ]
  },
  {
   "cell_type": "code",
   "execution_count": 11,
   "metadata": {},
   "outputs": [
    {
     "name": "stdout",
     "output_type": "stream",
     "text": [
      "[['Кто такая Деметра?', 'Кто такая Персефона?'], ['Кто такой Кронос?', 'Кто такой Зевс?'], ['Кто такая Персефона?'], ['Кто такая Деметра?'], [], ['Кто такая Персефона?', 'Кто такой Зевс?'], ['Кто такая Персефона?'], ['Кто такой Зевс?', 'Кто такой Аид?', 'Кто такая Персефона?']]\n",
      "['Кто такая Деметра?', 'Кто такая Персефона?']\n"
     ]
    }
   ],
   "source": [
    "# тип вопроса \"Кто такой ... \" + <именнованная сущность>?\n",
    "def who_is(doc):\n",
    "    arr = []\n",
    "    for token in doc.ents:\n",
    "        if token.label_ == \"PER\":\n",
    "            flag_1 = [elem for elem in female_name if elem.find(token.text[:-1]) != -1]\n",
    "            flag_2 = [elem for elem in male_name if elem.find(token.text[:-1]) != -1]\n",
    "            if flag_1:\n",
    "                arr.append(\"Кто такая \" + flag_1[0] + \"?\")\n",
    "            elif flag_2:\n",
    "                arr.append(\"Кто такой \" + flag_2[0] + \"?\")\n",
    "            else:\n",
    "                arr.append(\"Кто такое \" + token.text + \"?\")\n",
    "    return arr\n",
    "\n",
    "def go(sents, func):\n",
    "    info = []\n",
    "    for sent in sents:\n",
    "        info.append(func(sent))\n",
    "    return info\n",
    "\n",
    "print(who_is(sents[0]))\n",
    "print(go(sents, who_is))"
   ]
  },
  {
   "attachments": {},
   "cell_type": "markdown",
   "metadata": {},
   "source": [
    "2. Теперь попробуем поработать с деревом зависимостей и паттернами. Для того чтобы задать вопрос от корня ROOT. "
   ]
  },
  {
   "cell_type": "code",
   "execution_count": 12,
   "metadata": {},
   "outputs": [
    {
     "name": "stdout",
     "output_type": "stream",
     "text": [
      "Кто был у богини Деметры?\n",
      "['Кто был у богини Деметры?', 'Отцом Персефоны?', 'Однажды Персефона вместе беззаботно резвилась долине?', 'бабочке перебегала дочь?', 'Она рвала розы?', 'Беспечно резвилась Персефона?', 'Не думала Персефона?', 'Кто был отдал ее?']\n"
     ]
    },
    {
     "data": {
      "text/html": [
       "<span class=\"tex2jax_ignore\"><svg xmlns=\"http://www.w3.org/2000/svg\" xmlns:xlink=\"http://www.w3.org/1999/xlink\" xml:lang=\"ru\" id=\"71b080e3752a47ef9dcebc351a43c035-0\" class=\"displacy\" width=\"1100\" height=\"312.0\" direction=\"ltr\" style=\"max-width: none; height: 312.0px; color: #000000; background: #ffffff; font-family: Arial; direction: ltr\">\n",
       "<text class=\"displacy-token\" fill=\"currentColor\" text-anchor=\"middle\" y=\"222.0\">\n",
       "    <tspan class=\"displacy-word\" fill=\"currentColor\" x=\"50\">Была</tspan>\n",
       "    <tspan class=\"displacy-tag\" dy=\"2em\" fill=\"currentColor\" x=\"50\">AUX</tspan>\n",
       "</text>\n",
       "\n",
       "<text class=\"displacy-token\" fill=\"currentColor\" text-anchor=\"middle\" y=\"222.0\">\n",
       "    <tspan class=\"displacy-word\" fill=\"currentColor\" x=\"225\">у</tspan>\n",
       "    <tspan class=\"displacy-tag\" dy=\"2em\" fill=\"currentColor\" x=\"225\">ADP</tspan>\n",
       "</text>\n",
       "\n",
       "<text class=\"displacy-token\" fill=\"currentColor\" text-anchor=\"middle\" y=\"222.0\">\n",
       "    <tspan class=\"displacy-word\" fill=\"currentColor\" x=\"400\">богини</tspan>\n",
       "    <tspan class=\"displacy-tag\" dy=\"2em\" fill=\"currentColor\" x=\"400\">NOUN</tspan>\n",
       "</text>\n",
       "\n",
       "<text class=\"displacy-token\" fill=\"currentColor\" text-anchor=\"middle\" y=\"222.0\">\n",
       "    <tspan class=\"displacy-word\" fill=\"currentColor\" x=\"575\">Деметры</tspan>\n",
       "    <tspan class=\"displacy-tag\" dy=\"2em\" fill=\"currentColor\" x=\"575\">PROPN</tspan>\n",
       "</text>\n",
       "\n",
       "<text class=\"displacy-token\" fill=\"currentColor\" text-anchor=\"middle\" y=\"222.0\">\n",
       "    <tspan class=\"displacy-word\" fill=\"currentColor\" x=\"750\">дочь</tspan>\n",
       "    <tspan class=\"displacy-tag\" dy=\"2em\" fill=\"currentColor\" x=\"750\">NOUN</tspan>\n",
       "</text>\n",
       "\n",
       "<text class=\"displacy-token\" fill=\"currentColor\" text-anchor=\"middle\" y=\"222.0\">\n",
       "    <tspan class=\"displacy-word\" fill=\"currentColor\" x=\"925\">Персефона.</tspan>\n",
       "    <tspan class=\"displacy-tag\" dy=\"2em\" fill=\"currentColor\" x=\"925\">PROPN</tspan>\n",
       "</text>\n",
       "\n",
       "<g class=\"displacy-arrow\">\n",
       "    <path class=\"displacy-arc\" id=\"arrow-71b080e3752a47ef9dcebc351a43c035-0-0\" stroke-width=\"2px\" d=\"M70,177.0 C70,2.0 400.0,2.0 400.0,177.0\" fill=\"none\" stroke=\"currentColor\"/>\n",
       "    <text dy=\"1.25em\" style=\"font-size: 0.8em; letter-spacing: 1px\">\n",
       "        <textPath xlink:href=\"#arrow-71b080e3752a47ef9dcebc351a43c035-0-0\" class=\"displacy-label\" startOffset=\"50%\" side=\"left\" fill=\"currentColor\" text-anchor=\"middle\">cop</textPath>\n",
       "    </text>\n",
       "    <path class=\"displacy-arrowhead\" d=\"M70,179.0 L62,167.0 78,167.0\" fill=\"currentColor\"/>\n",
       "</g>\n",
       "\n",
       "<g class=\"displacy-arrow\">\n",
       "    <path class=\"displacy-arc\" id=\"arrow-71b080e3752a47ef9dcebc351a43c035-0-1\" stroke-width=\"2px\" d=\"M245,177.0 C245,89.5 395.0,89.5 395.0,177.0\" fill=\"none\" stroke=\"currentColor\"/>\n",
       "    <text dy=\"1.25em\" style=\"font-size: 0.8em; letter-spacing: 1px\">\n",
       "        <textPath xlink:href=\"#arrow-71b080e3752a47ef9dcebc351a43c035-0-1\" class=\"displacy-label\" startOffset=\"50%\" side=\"left\" fill=\"currentColor\" text-anchor=\"middle\">case</textPath>\n",
       "    </text>\n",
       "    <path class=\"displacy-arrowhead\" d=\"M245,179.0 L237,167.0 253,167.0\" fill=\"currentColor\"/>\n",
       "</g>\n",
       "\n",
       "<g class=\"displacy-arrow\">\n",
       "    <path class=\"displacy-arc\" id=\"arrow-71b080e3752a47ef9dcebc351a43c035-0-2\" stroke-width=\"2px\" d=\"M420,177.0 C420,89.5 570.0,89.5 570.0,177.0\" fill=\"none\" stroke=\"currentColor\"/>\n",
       "    <text dy=\"1.25em\" style=\"font-size: 0.8em; letter-spacing: 1px\">\n",
       "        <textPath xlink:href=\"#arrow-71b080e3752a47ef9dcebc351a43c035-0-2\" class=\"displacy-label\" startOffset=\"50%\" side=\"left\" fill=\"currentColor\" text-anchor=\"middle\">appos</textPath>\n",
       "    </text>\n",
       "    <path class=\"displacy-arrowhead\" d=\"M570.0,179.0 L578.0,167.0 562.0,167.0\" fill=\"currentColor\"/>\n",
       "</g>\n",
       "\n",
       "<g class=\"displacy-arrow\">\n",
       "    <path class=\"displacy-arc\" id=\"arrow-71b080e3752a47ef9dcebc351a43c035-0-3\" stroke-width=\"2px\" d=\"M420,177.0 C420,2.0 750.0,2.0 750.0,177.0\" fill=\"none\" stroke=\"currentColor\"/>\n",
       "    <text dy=\"1.25em\" style=\"font-size: 0.8em; letter-spacing: 1px\">\n",
       "        <textPath xlink:href=\"#arrow-71b080e3752a47ef9dcebc351a43c035-0-3\" class=\"displacy-label\" startOffset=\"50%\" side=\"left\" fill=\"currentColor\" text-anchor=\"middle\">nsubj</textPath>\n",
       "    </text>\n",
       "    <path class=\"displacy-arrowhead\" d=\"M750.0,179.0 L758.0,167.0 742.0,167.0\" fill=\"currentColor\"/>\n",
       "</g>\n",
       "\n",
       "<g class=\"displacy-arrow\">\n",
       "    <path class=\"displacy-arc\" id=\"arrow-71b080e3752a47ef9dcebc351a43c035-0-4\" stroke-width=\"2px\" d=\"M770,177.0 C770,89.5 920.0,89.5 920.0,177.0\" fill=\"none\" stroke=\"currentColor\"/>\n",
       "    <text dy=\"1.25em\" style=\"font-size: 0.8em; letter-spacing: 1px\">\n",
       "        <textPath xlink:href=\"#arrow-71b080e3752a47ef9dcebc351a43c035-0-4\" class=\"displacy-label\" startOffset=\"50%\" side=\"left\" fill=\"currentColor\" text-anchor=\"middle\">nmod</textPath>\n",
       "    </text>\n",
       "    <path class=\"displacy-arrowhead\" d=\"M920.0,179.0 L928.0,167.0 912.0,167.0\" fill=\"currentColor\"/>\n",
       "</g>\n",
       "</svg></span>"
      ],
      "text/plain": [
       "<IPython.core.display.HTML object>"
      ]
     },
     "metadata": {},
     "output_type": "display_data"
    }
   ],
   "source": [
    "case = {'была': \"был\"}\n",
    "key = case.keys()\n",
    "\n",
    "def question_1(doc, left, right):\n",
    "    phrase = ''\n",
    "    for token in doc:\n",
    "        if token.dep_.find('ROOT') != -1:\n",
    "            if phrase.find(token.text) == -1:\n",
    "                phrase = phrase + ' ' + token.text\n",
    "            while True:\n",
    "                if token.head and phrase.find(token.head.text) == -1:\n",
    "                    phrase = phrase + ' ' + token.head.text\n",
    "\n",
    "                if list(token.lefts) != [] and left:\n",
    "                    arr = [str(elem) for elem in list(token.lefts)]\n",
    "                    phrase = create_str_on_arr(arr) + phrase\n",
    "\n",
    "                if list(token.rights) != [] and right:\n",
    "                    arr = [str(elem) for elem in list(token.rights)]\n",
    "                    phrase = phrase + ' ' + arr[0]\n",
    "                break\n",
    "\n",
    "    phrase = phrase.replace(\"  \", \" \").replace(\" .\", \".\").strip()\n",
    "    for token in doc:\n",
    "        if token.lemma_ in key:\n",
    "            count = len(token)\n",
    "            phrase = \"Кто \" + case[token.lemma_] + \" \" + phrase[count+1:]\n",
    "\n",
    "    phrase += \"?\"\n",
    "        \n",
    "    return phrase\n",
    "\n",
    "def go_1(sents, left, right):\n",
    "    info = []\n",
    "    for sent in sents:\n",
    "        info.append(question_1(sent, left, right))\n",
    "    return info\n",
    "\n",
    "def create_str_on_arr(arr):\n",
    "    phrase = ' '\n",
    "    for elem in arr:\n",
    "        phrase += elem + ' '\n",
    "    return phrase\n",
    "\n",
    "print(question_1(sents[0], True, True))\n",
    "print(go_1(sents, True, True))\n",
    "displacy.render(sents[0], style='dep')"
   ]
  },
  {
   "attachments": {},
   "cell_type": "markdown",
   "metadata": {},
   "source": [
    "#### <b>Предложение 2</b>\n",
    "Попробуем рассмотреть следующее предложение и создать функции, которые будут генерировать к нему вопросы.\n",
    "\n",
    "<b>'Отцом Персефоны был сын Крона, громовержец Зевc.'</b>\n",
    "\n",
    "Вопросы:\n",
    "1. Кто такая Персефона? Кто такой Крон? Кто такой Зевс?\n",
    "2. Кто был отцом Персефоны?\n",
    "3. Чьим сыном был громовержец Зевс?\n",
    "\n",
    "___\n",
    "\n",
    "1. Как видно, вопросы типа 1 мы уже можем сформировывать."
   ]
  },
  {
   "cell_type": "code",
   "execution_count": 13,
   "metadata": {},
   "outputs": [
    {
     "name": "stdout",
     "output_type": "stream",
     "text": [
      "['Кто такой Кронос?', 'Кто такой Зевс?']\n"
     ]
    }
   ],
   "source": [
    "print(who_is(sents[1]))"
   ]
  },
  {
   "cell_type": "code",
   "execution_count": 14,
   "metadata": {},
   "outputs": [],
   "source": [
    "def nice_print(doc):\n",
    "    print('{:<14} {:<10} {:<12}'.format('text', 'pos_', 'dep_'))\n",
    "    print('_'* 55)\n",
    "    for token in doc:\n",
    "        print('{:<14} {:<10} {:<12}'.format(token.text, token.pos_, token.dep_))\n",
    "    print('_'* 55)"
   ]
  },
  {
   "attachments": {},
   "cell_type": "markdown",
   "metadata": {},
   "source": [
    "2. Попробуем задать вопрос \"Кто был \" + <паттерн>?\n",
    "В нашел случае необходмо получить паттерн, которому будет отвечать фраза \"отцом Персефоны\"."
   ]
  },
  {
   "cell_type": "code",
   "execution_count": 15,
   "metadata": {},
   "outputs": [
    {
     "name": "stdout",
     "output_type": "stream",
     "text": [
      "text           pos_       dep_        \n",
      "_______________________________________________________\n",
      "Отцом          NOUN       ROOT        \n",
      "Персефоны      PROPN      nmod        \n",
      "был            AUX        cop         \n",
      "сын            NOUN       nsubj       \n",
      "Крона          PROPN      nmod        \n",
      ",              PUNCT      punct       \n",
      "громовержец    NOUN       appos       \n",
      "Зевс           PROPN      appos       \n",
      ".              PUNCT      punct       \n",
      "_______________________________________________________\n"
     ]
    }
   ],
   "source": [
    "nice_print(sents[1])"
   ]
  },
  {
   "attachments": {},
   "cell_type": "markdown",
   "metadata": {},
   "source": [
    "Как видим, необходимым нам словам соответствуют части речи -- NOUN и PROPN, а их метки зависимостей -- ROOT и nmod. С помощью методов spacy можно легко просмотреть трактовку вышеупомянутых меток, то есть для слова \"Персефона\" мы получаем *имя собственное* и *модификатор номинального*. А для слова \"отцом\" - *имя существительное* и *корень*."
   ]
  },
  {
   "cell_type": "code",
   "execution_count": 16,
   "metadata": {},
   "outputs": [
    {
     "name": "stdout",
     "output_type": "stream",
     "text": [
      "Отцом      noun           root           \n",
      "Персефоны  proper noun    modifier of nominal\n"
     ]
    }
   ],
   "source": [
    "print(\"{:<10} {:<14} {:<15}\".format(sents[1][0].text, sp.explain(sents[1][0].pos_), sp.explain(sents[1][0].dep_)))\n",
    "print(\"{:<10} {:<14} {:<15}\".format(sents[1][1].text, sp.explain(sents[1][1].pos_), sp.explain(sents[1][1].dep_)))\n"
   ]
  },
  {
   "attachments": {},
   "cell_type": "markdown",
   "metadata": {},
   "source": [
    "Так и осуществим поиск нашего паттерна."
   ]
  },
  {
   "cell_type": "code",
   "execution_count": 17,
   "metadata": {},
   "outputs": [
    {
     "name": "stdout",
     "output_type": "stream",
     "text": [
      "['Кто был богини Деметры?', 'Кто был Отцом Персефоны?', None, 'Кто был дочь Деметры?', None, None, None, 'Кто был брату Аиду?']\n",
      "Кто был Отцом Персефоны?\n"
     ]
    }
   ],
   "source": [
    "def pattern_1(doc):\n",
    "    for i in range(len(doc)-1):\n",
    "        if doc[i].pos_ == 'NOUN' and doc[i+1].pos_ == 'PROPN':\n",
    "            return [doc[i], doc[i+1]]\n",
    "    return False\n",
    "\n",
    "def question_2(doc):\n",
    "    ans = \"Кто был \"\n",
    "    arr = pattern_1(doc)\n",
    "    if arr:\n",
    "        for elem in arr:\n",
    "            ans += elem.text + \" \"\n",
    "        return ans.strip() + \"?\"\n",
    "    else:\n",
    "        # отдаленные вопросы\n",
    "        #return \"Вы поняли суть мифа?\"\n",
    "        return None\n",
    "\n",
    "print(go(sents, question_2))\n",
    "print(question_2(sents[1]))"
   ]
  },
  {
   "attachments": {},
   "cell_type": "markdown",
   "metadata": {},
   "source": [
    "№3. Теперь попробуем сформулировать вопрос \"Чьим сыном был громовержец Зевс?\""
   ]
  },
  {
   "cell_type": "code",
   "execution_count": 18,
   "metadata": {},
   "outputs": [
    {
     "name": "stdout",
     "output_type": "stream",
     "text": [
      "text           pos_       dep_        \n",
      "_______________________________________________________\n",
      "Отцом          NOUN       ROOT        \n",
      "Персефоны      PROPN      nmod        \n",
      "был            AUX        cop         \n",
      "сын            NOUN       nsubj       \n",
      "Крона          PROPN      nmod        \n",
      ",              PUNCT      punct       \n",
      "громовержец    NOUN       appos       \n",
      "Зевс           PROPN      appos       \n",
      ".              PUNCT      punct       \n",
      "_______________________________________________________\n"
     ]
    },
    {
     "data": {
      "text/html": [
       "<span class=\"tex2jax_ignore\"><svg xmlns=\"http://www.w3.org/2000/svg\" xmlns:xlink=\"http://www.w3.org/1999/xlink\" xml:lang=\"ru\" id=\"148fb789fa9d41978d9c7e3328c54ca0-0\" class=\"displacy\" width=\"1275\" height=\"399.5\" direction=\"ltr\" style=\"max-width: none; height: 399.5px; color: #000000; background: #ffffff; font-family: Arial; direction: ltr\">\n",
       "<text class=\"displacy-token\" fill=\"currentColor\" text-anchor=\"middle\" y=\"309.5\">\n",
       "    <tspan class=\"displacy-word\" fill=\"currentColor\" x=\"50\">Отцом</tspan>\n",
       "    <tspan class=\"displacy-tag\" dy=\"2em\" fill=\"currentColor\" x=\"50\">NOUN</tspan>\n",
       "</text>\n",
       "\n",
       "<text class=\"displacy-token\" fill=\"currentColor\" text-anchor=\"middle\" y=\"309.5\">\n",
       "    <tspan class=\"displacy-word\" fill=\"currentColor\" x=\"225\">Персефоны</tspan>\n",
       "    <tspan class=\"displacy-tag\" dy=\"2em\" fill=\"currentColor\" x=\"225\">PROPN</tspan>\n",
       "</text>\n",
       "\n",
       "<text class=\"displacy-token\" fill=\"currentColor\" text-anchor=\"middle\" y=\"309.5\">\n",
       "    <tspan class=\"displacy-word\" fill=\"currentColor\" x=\"400\">был</tspan>\n",
       "    <tspan class=\"displacy-tag\" dy=\"2em\" fill=\"currentColor\" x=\"400\">AUX</tspan>\n",
       "</text>\n",
       "\n",
       "<text class=\"displacy-token\" fill=\"currentColor\" text-anchor=\"middle\" y=\"309.5\">\n",
       "    <tspan class=\"displacy-word\" fill=\"currentColor\" x=\"575\">сын</tspan>\n",
       "    <tspan class=\"displacy-tag\" dy=\"2em\" fill=\"currentColor\" x=\"575\">NOUN</tspan>\n",
       "</text>\n",
       "\n",
       "<text class=\"displacy-token\" fill=\"currentColor\" text-anchor=\"middle\" y=\"309.5\">\n",
       "    <tspan class=\"displacy-word\" fill=\"currentColor\" x=\"750\">Крона,</tspan>\n",
       "    <tspan class=\"displacy-tag\" dy=\"2em\" fill=\"currentColor\" x=\"750\">PROPN</tspan>\n",
       "</text>\n",
       "\n",
       "<text class=\"displacy-token\" fill=\"currentColor\" text-anchor=\"middle\" y=\"309.5\">\n",
       "    <tspan class=\"displacy-word\" fill=\"currentColor\" x=\"925\">громовержец</tspan>\n",
       "    <tspan class=\"displacy-tag\" dy=\"2em\" fill=\"currentColor\" x=\"925\">NOUN</tspan>\n",
       "</text>\n",
       "\n",
       "<text class=\"displacy-token\" fill=\"currentColor\" text-anchor=\"middle\" y=\"309.5\">\n",
       "    <tspan class=\"displacy-word\" fill=\"currentColor\" x=\"1100\">Зевс.</tspan>\n",
       "    <tspan class=\"displacy-tag\" dy=\"2em\" fill=\"currentColor\" x=\"1100\">PROPN</tspan>\n",
       "</text>\n",
       "\n",
       "<g class=\"displacy-arrow\">\n",
       "    <path class=\"displacy-arc\" id=\"arrow-148fb789fa9d41978d9c7e3328c54ca0-0-0\" stroke-width=\"2px\" d=\"M70,264.5 C70,177.0 215.0,177.0 215.0,264.5\" fill=\"none\" stroke=\"currentColor\"/>\n",
       "    <text dy=\"1.25em\" style=\"font-size: 0.8em; letter-spacing: 1px\">\n",
       "        <textPath xlink:href=\"#arrow-148fb789fa9d41978d9c7e3328c54ca0-0-0\" class=\"displacy-label\" startOffset=\"50%\" side=\"left\" fill=\"currentColor\" text-anchor=\"middle\">nmod</textPath>\n",
       "    </text>\n",
       "    <path class=\"displacy-arrowhead\" d=\"M215.0,266.5 L223.0,254.5 207.0,254.5\" fill=\"currentColor\"/>\n",
       "</g>\n",
       "\n",
       "<g class=\"displacy-arrow\">\n",
       "    <path class=\"displacy-arc\" id=\"arrow-148fb789fa9d41978d9c7e3328c54ca0-0-1\" stroke-width=\"2px\" d=\"M70,264.5 C70,89.5 395.0,89.5 395.0,264.5\" fill=\"none\" stroke=\"currentColor\"/>\n",
       "    <text dy=\"1.25em\" style=\"font-size: 0.8em; letter-spacing: 1px\">\n",
       "        <textPath xlink:href=\"#arrow-148fb789fa9d41978d9c7e3328c54ca0-0-1\" class=\"displacy-label\" startOffset=\"50%\" side=\"left\" fill=\"currentColor\" text-anchor=\"middle\">cop</textPath>\n",
       "    </text>\n",
       "    <path class=\"displacy-arrowhead\" d=\"M395.0,266.5 L403.0,254.5 387.0,254.5\" fill=\"currentColor\"/>\n",
       "</g>\n",
       "\n",
       "<g class=\"displacy-arrow\">\n",
       "    <path class=\"displacy-arc\" id=\"arrow-148fb789fa9d41978d9c7e3328c54ca0-0-2\" stroke-width=\"2px\" d=\"M70,264.5 C70,2.0 575.0,2.0 575.0,264.5\" fill=\"none\" stroke=\"currentColor\"/>\n",
       "    <text dy=\"1.25em\" style=\"font-size: 0.8em; letter-spacing: 1px\">\n",
       "        <textPath xlink:href=\"#arrow-148fb789fa9d41978d9c7e3328c54ca0-0-2\" class=\"displacy-label\" startOffset=\"50%\" side=\"left\" fill=\"currentColor\" text-anchor=\"middle\">nsubj</textPath>\n",
       "    </text>\n",
       "    <path class=\"displacy-arrowhead\" d=\"M575.0,266.5 L583.0,254.5 567.0,254.5\" fill=\"currentColor\"/>\n",
       "</g>\n",
       "\n",
       "<g class=\"displacy-arrow\">\n",
       "    <path class=\"displacy-arc\" id=\"arrow-148fb789fa9d41978d9c7e3328c54ca0-0-3\" stroke-width=\"2px\" d=\"M595,264.5 C595,177.0 740.0,177.0 740.0,264.5\" fill=\"none\" stroke=\"currentColor\"/>\n",
       "    <text dy=\"1.25em\" style=\"font-size: 0.8em; letter-spacing: 1px\">\n",
       "        <textPath xlink:href=\"#arrow-148fb789fa9d41978d9c7e3328c54ca0-0-3\" class=\"displacy-label\" startOffset=\"50%\" side=\"left\" fill=\"currentColor\" text-anchor=\"middle\">nmod</textPath>\n",
       "    </text>\n",
       "    <path class=\"displacy-arrowhead\" d=\"M740.0,266.5 L748.0,254.5 732.0,254.5\" fill=\"currentColor\"/>\n",
       "</g>\n",
       "\n",
       "<g class=\"displacy-arrow\">\n",
       "    <path class=\"displacy-arc\" id=\"arrow-148fb789fa9d41978d9c7e3328c54ca0-0-4\" stroke-width=\"2px\" d=\"M595,264.5 C595,89.5 920.0,89.5 920.0,264.5\" fill=\"none\" stroke=\"currentColor\"/>\n",
       "    <text dy=\"1.25em\" style=\"font-size: 0.8em; letter-spacing: 1px\">\n",
       "        <textPath xlink:href=\"#arrow-148fb789fa9d41978d9c7e3328c54ca0-0-4\" class=\"displacy-label\" startOffset=\"50%\" side=\"left\" fill=\"currentColor\" text-anchor=\"middle\">appos</textPath>\n",
       "    </text>\n",
       "    <path class=\"displacy-arrowhead\" d=\"M920.0,266.5 L928.0,254.5 912.0,254.5\" fill=\"currentColor\"/>\n",
       "</g>\n",
       "\n",
       "<g class=\"displacy-arrow\">\n",
       "    <path class=\"displacy-arc\" id=\"arrow-148fb789fa9d41978d9c7e3328c54ca0-0-5\" stroke-width=\"2px\" d=\"M945,264.5 C945,177.0 1090.0,177.0 1090.0,264.5\" fill=\"none\" stroke=\"currentColor\"/>\n",
       "    <text dy=\"1.25em\" style=\"font-size: 0.8em; letter-spacing: 1px\">\n",
       "        <textPath xlink:href=\"#arrow-148fb789fa9d41978d9c7e3328c54ca0-0-5\" class=\"displacy-label\" startOffset=\"50%\" side=\"left\" fill=\"currentColor\" text-anchor=\"middle\">appos</textPath>\n",
       "    </text>\n",
       "    <path class=\"displacy-arrowhead\" d=\"M1090.0,266.5 L1098.0,254.5 1082.0,254.5\" fill=\"currentColor\"/>\n",
       "</g>\n",
       "</svg></span>"
      ],
      "text/plain": [
       "<IPython.core.display.HTML object>"
      ]
     },
     "metadata": {},
     "output_type": "display_data"
    }
   ],
   "source": [
    "nice_print(sents[1])\n",
    "displacy.render(sents[1], style='dep')"
   ]
  },
  {
   "attachments": {},
   "cell_type": "markdown",
   "metadata": {},
   "source": [
    "Нас интересуют следующие слова: \n",
    "\n",
    "| сын  | NOUN | nsubj |\n",
    "|  :---:  |  :----:  |  :---:  |\n",
    "| громовержец    | NOUN   | appos |\n",
    "| Зевс    | PROPN | appos | "
   ]
  },
  {
   "cell_type": "code",
   "execution_count": 19,
   "metadata": {},
   "outputs": [
    {
     "name": "stdout",
     "output_type": "stream",
     "text": [
      "['Чьим дочь был?', 'Чьим сын был громовержец Зевс?', None, 'Чьим дочь был?', None, 'Чьим отец был?', None, 'Чьим света был?']\n"
     ]
    }
   ],
   "source": [
    "def pattern_3(doc):\n",
    "    for i in range(len(doc)-1):      \n",
    "        if doc[i].pos_ == 'NOUN' and doc[i].dep_ == 'nsubj' and doc[i].children:\n",
    "            res = [] \n",
    "            res.append(doc[i])\n",
    "            arr = list(doc[i].children)\n",
    "            for i in range(len(arr)):\n",
    "                if arr[i].pos_ == \"NOUN\" and arr[i].dep_ == 'appos':\n",
    "                    res.append(arr[i])\n",
    "                    if arr[i].children:\n",
    "                        arr_2 = list(arr[i].children)\n",
    "                        res += [elem for elem in arr_2 if (elem.pos_ == 'PROPN')] \n",
    "            return res\n",
    "    return False\n",
    "\n",
    "def question_3(doc):\n",
    "    ans = \"Чьим \"\n",
    "    arr = pattern_3(doc)\n",
    "    if arr:\n",
    "        i = 0\n",
    "        for elem in arr:\n",
    "            if i == 0:\n",
    "                ans += elem.text.lower() + \" был \"\n",
    "                i = 1\n",
    "            else:\n",
    "                ans += elem.text + \" \"\n",
    "        return ans.strip() + \"?\"\n",
    "    else:\n",
    "        # отдаленные вопросы\n",
    "        #return \"Вы поняли суть мифа?\"\n",
    "        return None\n",
    "\n",
    "print(go(sents, question_3))"
   ]
  },
  {
   "attachments": {},
   "cell_type": "markdown",
   "metadata": {},
   "source": [
    "Результат, который мы получили такой - 'Чьим сын был громовержец Зевс?'. Алгоритм построения сработал верно, однако, проблема с окончаниями здесь решается только вручную."
   ]
  },
  {
   "attachments": {},
   "cell_type": "markdown",
   "metadata": {},
   "source": [
    "#### <b>Предложение 3</b>\n",
    "Попробуем рассмотреть следующее предложение и создать функции, которые будут генерировать к нему вопросы.\n",
    "\n",
    "<b>'Однажды Персефона вместе со своими подругами, океанидами, беззаботно резвилась в цветущей Нисейской долине.'</b>\n",
    "\n",
    "Вопросы:\n",
    "1. Кто такая Персефона?\n",
    "2. Что делала Персефона в цветущей Нисейской долине?\n",
    "3. Где однажды резвилась Персефона?\n",
    "\n",
    "\n",
    "\n",
    "**№ 1**. Как видно, вопросы типа 1 мы уже можем сформировывать."
   ]
  },
  {
   "cell_type": "code",
   "execution_count": 20,
   "metadata": {},
   "outputs": [
    {
     "name": "stdout",
     "output_type": "stream",
     "text": [
      "['Кто такая Персефона?']\n"
     ]
    }
   ],
   "source": [
    "print(who_is(sents[2]))"
   ]
  },
  {
   "attachments": {},
   "cell_type": "markdown",
   "metadata": {},
   "source": [
    "**№ 2**. Попробуем задать вопрос - \"Что делала Персефона в цветущей Нисейской долине?\". Для того чтобы этот вопрос был задан, необходимо наличие подлежащего, совершающего действие в каком-то определенном месте.\n"
   ]
  },
  {
   "cell_type": "code",
   "execution_count": 21,
   "metadata": {},
   "outputs": [
    {
     "data": {
      "text/html": [
       "<span class=\"tex2jax_ignore\"><svg xmlns=\"http://www.w3.org/2000/svg\" xmlns:xlink=\"http://www.w3.org/1999/xlink\" xml:lang=\"ru\" id=\"ec9b33f0e0ad4bfd8ec7536810740ae2-0\" class=\"displacy\" width=\"2325\" height=\"662.0\" direction=\"ltr\" style=\"max-width: none; height: 662.0px; color: #000000; background: #ffffff; font-family: Arial; direction: ltr\">\n",
       "<text class=\"displacy-token\" fill=\"currentColor\" text-anchor=\"middle\" y=\"572.0\">\n",
       "    <tspan class=\"displacy-word\" fill=\"currentColor\" x=\"50\">Однажды</tspan>\n",
       "    <tspan class=\"displacy-tag\" dy=\"2em\" fill=\"currentColor\" x=\"50\">ADV</tspan>\n",
       "</text>\n",
       "\n",
       "<text class=\"displacy-token\" fill=\"currentColor\" text-anchor=\"middle\" y=\"572.0\">\n",
       "    <tspan class=\"displacy-word\" fill=\"currentColor\" x=\"225\">Персефона</tspan>\n",
       "    <tspan class=\"displacy-tag\" dy=\"2em\" fill=\"currentColor\" x=\"225\">PROPN</tspan>\n",
       "</text>\n",
       "\n",
       "<text class=\"displacy-token\" fill=\"currentColor\" text-anchor=\"middle\" y=\"572.0\">\n",
       "    <tspan class=\"displacy-word\" fill=\"currentColor\" x=\"400\">вместе</tspan>\n",
       "    <tspan class=\"displacy-tag\" dy=\"2em\" fill=\"currentColor\" x=\"400\">ADV</tspan>\n",
       "</text>\n",
       "\n",
       "<text class=\"displacy-token\" fill=\"currentColor\" text-anchor=\"middle\" y=\"572.0\">\n",
       "    <tspan class=\"displacy-word\" fill=\"currentColor\" x=\"575\">со</tspan>\n",
       "    <tspan class=\"displacy-tag\" dy=\"2em\" fill=\"currentColor\" x=\"575\">ADP</tspan>\n",
       "</text>\n",
       "\n",
       "<text class=\"displacy-token\" fill=\"currentColor\" text-anchor=\"middle\" y=\"572.0\">\n",
       "    <tspan class=\"displacy-word\" fill=\"currentColor\" x=\"750\">своими</tspan>\n",
       "    <tspan class=\"displacy-tag\" dy=\"2em\" fill=\"currentColor\" x=\"750\">DET</tspan>\n",
       "</text>\n",
       "\n",
       "<text class=\"displacy-token\" fill=\"currentColor\" text-anchor=\"middle\" y=\"572.0\">\n",
       "    <tspan class=\"displacy-word\" fill=\"currentColor\" x=\"925\">подругами,</tspan>\n",
       "    <tspan class=\"displacy-tag\" dy=\"2em\" fill=\"currentColor\" x=\"925\">NOUN</tspan>\n",
       "</text>\n",
       "\n",
       "<text class=\"displacy-token\" fill=\"currentColor\" text-anchor=\"middle\" y=\"572.0\">\n",
       "    <tspan class=\"displacy-word\" fill=\"currentColor\" x=\"1100\">океанидами,</tspan>\n",
       "    <tspan class=\"displacy-tag\" dy=\"2em\" fill=\"currentColor\" x=\"1100\">NOUN</tspan>\n",
       "</text>\n",
       "\n",
       "<text class=\"displacy-token\" fill=\"currentColor\" text-anchor=\"middle\" y=\"572.0\">\n",
       "    <tspan class=\"displacy-word\" fill=\"currentColor\" x=\"1275\">беззаботно</tspan>\n",
       "    <tspan class=\"displacy-tag\" dy=\"2em\" fill=\"currentColor\" x=\"1275\">ADV</tspan>\n",
       "</text>\n",
       "\n",
       "<text class=\"displacy-token\" fill=\"currentColor\" text-anchor=\"middle\" y=\"572.0\">\n",
       "    <tspan class=\"displacy-word\" fill=\"currentColor\" x=\"1450\">резвилась</tspan>\n",
       "    <tspan class=\"displacy-tag\" dy=\"2em\" fill=\"currentColor\" x=\"1450\">VERB</tspan>\n",
       "</text>\n",
       "\n",
       "<text class=\"displacy-token\" fill=\"currentColor\" text-anchor=\"middle\" y=\"572.0\">\n",
       "    <tspan class=\"displacy-word\" fill=\"currentColor\" x=\"1625\">в</tspan>\n",
       "    <tspan class=\"displacy-tag\" dy=\"2em\" fill=\"currentColor\" x=\"1625\">ADP</tspan>\n",
       "</text>\n",
       "\n",
       "<text class=\"displacy-token\" fill=\"currentColor\" text-anchor=\"middle\" y=\"572.0\">\n",
       "    <tspan class=\"displacy-word\" fill=\"currentColor\" x=\"1800\">цветущей</tspan>\n",
       "    <tspan class=\"displacy-tag\" dy=\"2em\" fill=\"currentColor\" x=\"1800\">VERB</tspan>\n",
       "</text>\n",
       "\n",
       "<text class=\"displacy-token\" fill=\"currentColor\" text-anchor=\"middle\" y=\"572.0\">\n",
       "    <tspan class=\"displacy-word\" fill=\"currentColor\" x=\"1975\">Нисейской</tspan>\n",
       "    <tspan class=\"displacy-tag\" dy=\"2em\" fill=\"currentColor\" x=\"1975\">ADJ</tspan>\n",
       "</text>\n",
       "\n",
       "<text class=\"displacy-token\" fill=\"currentColor\" text-anchor=\"middle\" y=\"572.0\">\n",
       "    <tspan class=\"displacy-word\" fill=\"currentColor\" x=\"2150\">долине .</tspan>\n",
       "    <tspan class=\"displacy-tag\" dy=\"2em\" fill=\"currentColor\" x=\"2150\">NOUN</tspan>\n",
       "</text>\n",
       "\n",
       "<g class=\"displacy-arrow\">\n",
       "    <path class=\"displacy-arc\" id=\"arrow-ec9b33f0e0ad4bfd8ec7536810740ae2-0-0\" stroke-width=\"2px\" d=\"M70,527.0 C70,2.0 1450.0,2.0 1450.0,527.0\" fill=\"none\" stroke=\"currentColor\"/>\n",
       "    <text dy=\"1.25em\" style=\"font-size: 0.8em; letter-spacing: 1px\">\n",
       "        <textPath xlink:href=\"#arrow-ec9b33f0e0ad4bfd8ec7536810740ae2-0-0\" class=\"displacy-label\" startOffset=\"50%\" side=\"left\" fill=\"currentColor\" text-anchor=\"middle\">advmod</textPath>\n",
       "    </text>\n",
       "    <path class=\"displacy-arrowhead\" d=\"M70,529.0 L62,517.0 78,517.0\" fill=\"currentColor\"/>\n",
       "</g>\n",
       "\n",
       "<g class=\"displacy-arrow\">\n",
       "    <path class=\"displacy-arc\" id=\"arrow-ec9b33f0e0ad4bfd8ec7536810740ae2-0-1\" stroke-width=\"2px\" d=\"M245,527.0 C245,89.5 1445.0,89.5 1445.0,527.0\" fill=\"none\" stroke=\"currentColor\"/>\n",
       "    <text dy=\"1.25em\" style=\"font-size: 0.8em; letter-spacing: 1px\">\n",
       "        <textPath xlink:href=\"#arrow-ec9b33f0e0ad4bfd8ec7536810740ae2-0-1\" class=\"displacy-label\" startOffset=\"50%\" side=\"left\" fill=\"currentColor\" text-anchor=\"middle\">nsubj</textPath>\n",
       "    </text>\n",
       "    <path class=\"displacy-arrowhead\" d=\"M245,529.0 L237,517.0 253,517.0\" fill=\"currentColor\"/>\n",
       "</g>\n",
       "\n",
       "<g class=\"displacy-arrow\">\n",
       "    <path class=\"displacy-arc\" id=\"arrow-ec9b33f0e0ad4bfd8ec7536810740ae2-0-2\" stroke-width=\"2px\" d=\"M420,527.0 C420,177.0 1440.0,177.0 1440.0,527.0\" fill=\"none\" stroke=\"currentColor\"/>\n",
       "    <text dy=\"1.25em\" style=\"font-size: 0.8em; letter-spacing: 1px\">\n",
       "        <textPath xlink:href=\"#arrow-ec9b33f0e0ad4bfd8ec7536810740ae2-0-2\" class=\"displacy-label\" startOffset=\"50%\" side=\"left\" fill=\"currentColor\" text-anchor=\"middle\">advmod</textPath>\n",
       "    </text>\n",
       "    <path class=\"displacy-arrowhead\" d=\"M420,529.0 L412,517.0 428,517.0\" fill=\"currentColor\"/>\n",
       "</g>\n",
       "\n",
       "<g class=\"displacy-arrow\">\n",
       "    <path class=\"displacy-arc\" id=\"arrow-ec9b33f0e0ad4bfd8ec7536810740ae2-0-3\" stroke-width=\"2px\" d=\"M595,527.0 C595,352.0 905.0,352.0 905.0,527.0\" fill=\"none\" stroke=\"currentColor\"/>\n",
       "    <text dy=\"1.25em\" style=\"font-size: 0.8em; letter-spacing: 1px\">\n",
       "        <textPath xlink:href=\"#arrow-ec9b33f0e0ad4bfd8ec7536810740ae2-0-3\" class=\"displacy-label\" startOffset=\"50%\" side=\"left\" fill=\"currentColor\" text-anchor=\"middle\">case</textPath>\n",
       "    </text>\n",
       "    <path class=\"displacy-arrowhead\" d=\"M595,529.0 L587,517.0 603,517.0\" fill=\"currentColor\"/>\n",
       "</g>\n",
       "\n",
       "<g class=\"displacy-arrow\">\n",
       "    <path class=\"displacy-arc\" id=\"arrow-ec9b33f0e0ad4bfd8ec7536810740ae2-0-4\" stroke-width=\"2px\" d=\"M770,527.0 C770,439.5 900.0,439.5 900.0,527.0\" fill=\"none\" stroke=\"currentColor\"/>\n",
       "    <text dy=\"1.25em\" style=\"font-size: 0.8em; letter-spacing: 1px\">\n",
       "        <textPath xlink:href=\"#arrow-ec9b33f0e0ad4bfd8ec7536810740ae2-0-4\" class=\"displacy-label\" startOffset=\"50%\" side=\"left\" fill=\"currentColor\" text-anchor=\"middle\">det</textPath>\n",
       "    </text>\n",
       "    <path class=\"displacy-arrowhead\" d=\"M770,529.0 L762,517.0 778,517.0\" fill=\"currentColor\"/>\n",
       "</g>\n",
       "\n",
       "<g class=\"displacy-arrow\">\n",
       "    <path class=\"displacy-arc\" id=\"arrow-ec9b33f0e0ad4bfd8ec7536810740ae2-0-5\" stroke-width=\"2px\" d=\"M420,527.0 C420,264.5 910.0,264.5 910.0,527.0\" fill=\"none\" stroke=\"currentColor\"/>\n",
       "    <text dy=\"1.25em\" style=\"font-size: 0.8em; letter-spacing: 1px\">\n",
       "        <textPath xlink:href=\"#arrow-ec9b33f0e0ad4bfd8ec7536810740ae2-0-5\" class=\"displacy-label\" startOffset=\"50%\" side=\"left\" fill=\"currentColor\" text-anchor=\"middle\">obl</textPath>\n",
       "    </text>\n",
       "    <path class=\"displacy-arrowhead\" d=\"M910.0,529.0 L918.0,517.0 902.0,517.0\" fill=\"currentColor\"/>\n",
       "</g>\n",
       "\n",
       "<g class=\"displacy-arrow\">\n",
       "    <path class=\"displacy-arc\" id=\"arrow-ec9b33f0e0ad4bfd8ec7536810740ae2-0-6\" stroke-width=\"2px\" d=\"M945,527.0 C945,439.5 1075.0,439.5 1075.0,527.0\" fill=\"none\" stroke=\"currentColor\"/>\n",
       "    <text dy=\"1.25em\" style=\"font-size: 0.8em; letter-spacing: 1px\">\n",
       "        <textPath xlink:href=\"#arrow-ec9b33f0e0ad4bfd8ec7536810740ae2-0-6\" class=\"displacy-label\" startOffset=\"50%\" side=\"left\" fill=\"currentColor\" text-anchor=\"middle\">conj</textPath>\n",
       "    </text>\n",
       "    <path class=\"displacy-arrowhead\" d=\"M1075.0,529.0 L1083.0,517.0 1067.0,517.0\" fill=\"currentColor\"/>\n",
       "</g>\n",
       "\n",
       "<g class=\"displacy-arrow\">\n",
       "    <path class=\"displacy-arc\" id=\"arrow-ec9b33f0e0ad4bfd8ec7536810740ae2-0-7\" stroke-width=\"2px\" d=\"M1295,527.0 C1295,439.5 1425.0,439.5 1425.0,527.0\" fill=\"none\" stroke=\"currentColor\"/>\n",
       "    <text dy=\"1.25em\" style=\"font-size: 0.8em; letter-spacing: 1px\">\n",
       "        <textPath xlink:href=\"#arrow-ec9b33f0e0ad4bfd8ec7536810740ae2-0-7\" class=\"displacy-label\" startOffset=\"50%\" side=\"left\" fill=\"currentColor\" text-anchor=\"middle\">advmod</textPath>\n",
       "    </text>\n",
       "    <path class=\"displacy-arrowhead\" d=\"M1295,529.0 L1287,517.0 1303,517.0\" fill=\"currentColor\"/>\n",
       "</g>\n",
       "\n",
       "<g class=\"displacy-arrow\">\n",
       "    <path class=\"displacy-arc\" id=\"arrow-ec9b33f0e0ad4bfd8ec7536810740ae2-0-8\" stroke-width=\"2px\" d=\"M1645,527.0 C1645,264.5 2135.0,264.5 2135.0,527.0\" fill=\"none\" stroke=\"currentColor\"/>\n",
       "    <text dy=\"1.25em\" style=\"font-size: 0.8em; letter-spacing: 1px\">\n",
       "        <textPath xlink:href=\"#arrow-ec9b33f0e0ad4bfd8ec7536810740ae2-0-8\" class=\"displacy-label\" startOffset=\"50%\" side=\"left\" fill=\"currentColor\" text-anchor=\"middle\">case</textPath>\n",
       "    </text>\n",
       "    <path class=\"displacy-arrowhead\" d=\"M1645,529.0 L1637,517.0 1653,517.0\" fill=\"currentColor\"/>\n",
       "</g>\n",
       "\n",
       "<g class=\"displacy-arrow\">\n",
       "    <path class=\"displacy-arc\" id=\"arrow-ec9b33f0e0ad4bfd8ec7536810740ae2-0-9\" stroke-width=\"2px\" d=\"M1820,527.0 C1820,352.0 2130.0,352.0 2130.0,527.0\" fill=\"none\" stroke=\"currentColor\"/>\n",
       "    <text dy=\"1.25em\" style=\"font-size: 0.8em; letter-spacing: 1px\">\n",
       "        <textPath xlink:href=\"#arrow-ec9b33f0e0ad4bfd8ec7536810740ae2-0-9\" class=\"displacy-label\" startOffset=\"50%\" side=\"left\" fill=\"currentColor\" text-anchor=\"middle\">amod</textPath>\n",
       "    </text>\n",
       "    <path class=\"displacy-arrowhead\" d=\"M1820,529.0 L1812,517.0 1828,517.0\" fill=\"currentColor\"/>\n",
       "</g>\n",
       "\n",
       "<g class=\"displacy-arrow\">\n",
       "    <path class=\"displacy-arc\" id=\"arrow-ec9b33f0e0ad4bfd8ec7536810740ae2-0-10\" stroke-width=\"2px\" d=\"M1995,527.0 C1995,439.5 2125.0,439.5 2125.0,527.0\" fill=\"none\" stroke=\"currentColor\"/>\n",
       "    <text dy=\"1.25em\" style=\"font-size: 0.8em; letter-spacing: 1px\">\n",
       "        <textPath xlink:href=\"#arrow-ec9b33f0e0ad4bfd8ec7536810740ae2-0-10\" class=\"displacy-label\" startOffset=\"50%\" side=\"left\" fill=\"currentColor\" text-anchor=\"middle\">amod</textPath>\n",
       "    </text>\n",
       "    <path class=\"displacy-arrowhead\" d=\"M1995,529.0 L1987,517.0 2003,517.0\" fill=\"currentColor\"/>\n",
       "</g>\n",
       "\n",
       "<g class=\"displacy-arrow\">\n",
       "    <path class=\"displacy-arc\" id=\"arrow-ec9b33f0e0ad4bfd8ec7536810740ae2-0-11\" stroke-width=\"2px\" d=\"M1470,527.0 C1470,177.0 2140.0,177.0 2140.0,527.0\" fill=\"none\" stroke=\"currentColor\"/>\n",
       "    <text dy=\"1.25em\" style=\"font-size: 0.8em; letter-spacing: 1px\">\n",
       "        <textPath xlink:href=\"#arrow-ec9b33f0e0ad4bfd8ec7536810740ae2-0-11\" class=\"displacy-label\" startOffset=\"50%\" side=\"left\" fill=\"currentColor\" text-anchor=\"middle\">obl</textPath>\n",
       "    </text>\n",
       "    <path class=\"displacy-arrowhead\" d=\"M2140.0,529.0 L2148.0,517.0 2132.0,517.0\" fill=\"currentColor\"/>\n",
       "</g>\n",
       "</svg></span>"
      ],
      "text/plain": [
       "<IPython.core.display.HTML object>"
      ]
     },
     "metadata": {},
     "output_type": "display_data"
    }
   ],
   "source": [
    "displacy.render(sents[2], style='dep')"
   ]
  },
  {
   "cell_type": "code",
   "execution_count": 22,
   "metadata": {},
   "outputs": [
    {
     "name": "stdout",
     "output_type": "stream",
     "text": [
      "text           pos_       dep_        \n",
      "_______________________________________________________\n",
      "Однажды        ADV        advmod      \n",
      "Персефона      PROPN      nsubj       \n",
      "вместе         ADV        advmod      \n",
      "со             ADP        case        \n",
      "своими         DET        det         \n",
      "подругами      NOUN       obl         \n",
      ",              PUNCT      punct       \n",
      "океанидами     NOUN       conj        \n",
      ",              PUNCT      punct       \n",
      "беззаботно     ADV        advmod      \n",
      "резвилась      VERB       ROOT        \n",
      "в              ADP        case        \n",
      "цветущей       VERB       amod        \n",
      "Нисейской      ADJ        amod        \n",
      "долине         NOUN       obl         \n",
      ".              PUNCT      punct       \n",
      "_______________________________________________________\n"
     ]
    }
   ],
   "source": [
    "nice_print(sents[2])"
   ]
  },
  {
   "cell_type": "code",
   "execution_count": 23,
   "metadata": {},
   "outputs": [
    {
     "name": "stdout",
     "output_type": "stream",
     "text": [
      "oblique nominal\n"
     ]
    }
   ],
   "source": [
    "print(sp.explain(sents[2][14].dep_))"
   ]
  },
  {
   "cell_type": "code",
   "execution_count": 24,
   "metadata": {},
   "outputs": [
    {
     "name": "stdout",
     "output_type": "stream",
     "text": [
      "[None, None, 'Что  делала Персефона в цветущей Нисейской долине?', None, None, None, None, None]\n"
     ]
    }
   ],
   "source": [
    "def pattern_4(doc):\n",
    "    for i in range(len(doc)): \n",
    "        if doc[i].dep_ == 'ROOT' and doc[i].children:\n",
    "            res = []\n",
    "            person = get_token(doc, list(doc[i].children), 'PER')\n",
    "            location = get_token(doc, list(doc[i].children), 'LOC')\n",
    "            if person and location:\n",
    "                res.append(person)\n",
    "                if location.children:\n",
    "                    res += list(location.children)\n",
    "                res.append(location)\n",
    "                return res\n",
    "    return False\n",
    "\n",
    "\n",
    "def get_token(doc, arr, ent):\n",
    "    for i in range(len(doc)):\n",
    "        for j in range(len(arr)):\n",
    "            if doc[i] == arr[j] and doc[i].ent_type_ == ent:\n",
    "               return doc[i]       \n",
    "    return False\n",
    "\n",
    "def question_4(doc):\n",
    "    ans = \"Что \"\n",
    "    arr = pattern_4(doc)\n",
    "    i = 0\n",
    "    if arr:\n",
    "        for token in arr:\n",
    "            if i == 0:\n",
    "                flag_1 = [elem for elem in female_name if elem.find(token.text[:-1]) != -1]\n",
    "                flag_2 = [elem for elem in male_name if elem.find(token.text[:-1]) != -1]\n",
    "\n",
    "                if flag_1:\n",
    "                    ans += \" делала \" + flag_1[0] \n",
    "                elif flag_2:\n",
    "                    ans += \" делал \" + flag_2[0]\n",
    "                else:\n",
    "                    ans += \" делал \" + token.text\n",
    "\n",
    "                i += 1\n",
    "            else:\n",
    "                ans += \" \" + token.text\n",
    "\n",
    "\n",
    "        return ans.strip() + \"?\"\n",
    "    else:\n",
    "        return None\n",
    "    \n",
    "print(go(sents, question_4))"
   ]
  },
  {
   "attachments": {},
   "cell_type": "markdown",
   "metadata": {},
   "source": [
    "**№ 3**. Попробуем задать вопрос - \"Где однажды резвилась Персефона?\". Для того чтобы этот вопрос был задан, также  необходимо наличие подлежащего, совершающего действие в каком-то определенном месте. Только в этом случае мы будем задавать вопросы к месту."
   ]
  },
  {
   "cell_type": "code",
   "execution_count": 25,
   "metadata": {},
   "outputs": [
    {
     "data": {
      "text/html": [
       "<span class=\"tex2jax_ignore\"><svg xmlns=\"http://www.w3.org/2000/svg\" xmlns:xlink=\"http://www.w3.org/1999/xlink\" xml:lang=\"ru\" id=\"9f1ed0c37b2b47249a0dfa496704ce5b-0\" class=\"displacy\" width=\"2325\" height=\"662.0\" direction=\"ltr\" style=\"max-width: none; height: 662.0px; color: #000000; background: #ffffff; font-family: Arial; direction: ltr\">\n",
       "<text class=\"displacy-token\" fill=\"currentColor\" text-anchor=\"middle\" y=\"572.0\">\n",
       "    <tspan class=\"displacy-word\" fill=\"currentColor\" x=\"50\">Однажды</tspan>\n",
       "    <tspan class=\"displacy-tag\" dy=\"2em\" fill=\"currentColor\" x=\"50\">ADV</tspan>\n",
       "</text>\n",
       "\n",
       "<text class=\"displacy-token\" fill=\"currentColor\" text-anchor=\"middle\" y=\"572.0\">\n",
       "    <tspan class=\"displacy-word\" fill=\"currentColor\" x=\"225\">Персефона</tspan>\n",
       "    <tspan class=\"displacy-tag\" dy=\"2em\" fill=\"currentColor\" x=\"225\">PROPN</tspan>\n",
       "</text>\n",
       "\n",
       "<text class=\"displacy-token\" fill=\"currentColor\" text-anchor=\"middle\" y=\"572.0\">\n",
       "    <tspan class=\"displacy-word\" fill=\"currentColor\" x=\"400\">вместе</tspan>\n",
       "    <tspan class=\"displacy-tag\" dy=\"2em\" fill=\"currentColor\" x=\"400\">ADV</tspan>\n",
       "</text>\n",
       "\n",
       "<text class=\"displacy-token\" fill=\"currentColor\" text-anchor=\"middle\" y=\"572.0\">\n",
       "    <tspan class=\"displacy-word\" fill=\"currentColor\" x=\"575\">со</tspan>\n",
       "    <tspan class=\"displacy-tag\" dy=\"2em\" fill=\"currentColor\" x=\"575\">ADP</tspan>\n",
       "</text>\n",
       "\n",
       "<text class=\"displacy-token\" fill=\"currentColor\" text-anchor=\"middle\" y=\"572.0\">\n",
       "    <tspan class=\"displacy-word\" fill=\"currentColor\" x=\"750\">своими</tspan>\n",
       "    <tspan class=\"displacy-tag\" dy=\"2em\" fill=\"currentColor\" x=\"750\">DET</tspan>\n",
       "</text>\n",
       "\n",
       "<text class=\"displacy-token\" fill=\"currentColor\" text-anchor=\"middle\" y=\"572.0\">\n",
       "    <tspan class=\"displacy-word\" fill=\"currentColor\" x=\"925\">подругами,</tspan>\n",
       "    <tspan class=\"displacy-tag\" dy=\"2em\" fill=\"currentColor\" x=\"925\">NOUN</tspan>\n",
       "</text>\n",
       "\n",
       "<text class=\"displacy-token\" fill=\"currentColor\" text-anchor=\"middle\" y=\"572.0\">\n",
       "    <tspan class=\"displacy-word\" fill=\"currentColor\" x=\"1100\">океанидами,</tspan>\n",
       "    <tspan class=\"displacy-tag\" dy=\"2em\" fill=\"currentColor\" x=\"1100\">NOUN</tspan>\n",
       "</text>\n",
       "\n",
       "<text class=\"displacy-token\" fill=\"currentColor\" text-anchor=\"middle\" y=\"572.0\">\n",
       "    <tspan class=\"displacy-word\" fill=\"currentColor\" x=\"1275\">беззаботно</tspan>\n",
       "    <tspan class=\"displacy-tag\" dy=\"2em\" fill=\"currentColor\" x=\"1275\">ADV</tspan>\n",
       "</text>\n",
       "\n",
       "<text class=\"displacy-token\" fill=\"currentColor\" text-anchor=\"middle\" y=\"572.0\">\n",
       "    <tspan class=\"displacy-word\" fill=\"currentColor\" x=\"1450\">резвилась</tspan>\n",
       "    <tspan class=\"displacy-tag\" dy=\"2em\" fill=\"currentColor\" x=\"1450\">VERB</tspan>\n",
       "</text>\n",
       "\n",
       "<text class=\"displacy-token\" fill=\"currentColor\" text-anchor=\"middle\" y=\"572.0\">\n",
       "    <tspan class=\"displacy-word\" fill=\"currentColor\" x=\"1625\">в</tspan>\n",
       "    <tspan class=\"displacy-tag\" dy=\"2em\" fill=\"currentColor\" x=\"1625\">ADP</tspan>\n",
       "</text>\n",
       "\n",
       "<text class=\"displacy-token\" fill=\"currentColor\" text-anchor=\"middle\" y=\"572.0\">\n",
       "    <tspan class=\"displacy-word\" fill=\"currentColor\" x=\"1800\">цветущей</tspan>\n",
       "    <tspan class=\"displacy-tag\" dy=\"2em\" fill=\"currentColor\" x=\"1800\">VERB</tspan>\n",
       "</text>\n",
       "\n",
       "<text class=\"displacy-token\" fill=\"currentColor\" text-anchor=\"middle\" y=\"572.0\">\n",
       "    <tspan class=\"displacy-word\" fill=\"currentColor\" x=\"1975\">Нисейской</tspan>\n",
       "    <tspan class=\"displacy-tag\" dy=\"2em\" fill=\"currentColor\" x=\"1975\">ADJ</tspan>\n",
       "</text>\n",
       "\n",
       "<text class=\"displacy-token\" fill=\"currentColor\" text-anchor=\"middle\" y=\"572.0\">\n",
       "    <tspan class=\"displacy-word\" fill=\"currentColor\" x=\"2150\">долине .</tspan>\n",
       "    <tspan class=\"displacy-tag\" dy=\"2em\" fill=\"currentColor\" x=\"2150\">NOUN</tspan>\n",
       "</text>\n",
       "\n",
       "<g class=\"displacy-arrow\">\n",
       "    <path class=\"displacy-arc\" id=\"arrow-9f1ed0c37b2b47249a0dfa496704ce5b-0-0\" stroke-width=\"2px\" d=\"M70,527.0 C70,2.0 1450.0,2.0 1450.0,527.0\" fill=\"none\" stroke=\"currentColor\"/>\n",
       "    <text dy=\"1.25em\" style=\"font-size: 0.8em; letter-spacing: 1px\">\n",
       "        <textPath xlink:href=\"#arrow-9f1ed0c37b2b47249a0dfa496704ce5b-0-0\" class=\"displacy-label\" startOffset=\"50%\" side=\"left\" fill=\"currentColor\" text-anchor=\"middle\">advmod</textPath>\n",
       "    </text>\n",
       "    <path class=\"displacy-arrowhead\" d=\"M70,529.0 L62,517.0 78,517.0\" fill=\"currentColor\"/>\n",
       "</g>\n",
       "\n",
       "<g class=\"displacy-arrow\">\n",
       "    <path class=\"displacy-arc\" id=\"arrow-9f1ed0c37b2b47249a0dfa496704ce5b-0-1\" stroke-width=\"2px\" d=\"M245,527.0 C245,89.5 1445.0,89.5 1445.0,527.0\" fill=\"none\" stroke=\"currentColor\"/>\n",
       "    <text dy=\"1.25em\" style=\"font-size: 0.8em; letter-spacing: 1px\">\n",
       "        <textPath xlink:href=\"#arrow-9f1ed0c37b2b47249a0dfa496704ce5b-0-1\" class=\"displacy-label\" startOffset=\"50%\" side=\"left\" fill=\"currentColor\" text-anchor=\"middle\">nsubj</textPath>\n",
       "    </text>\n",
       "    <path class=\"displacy-arrowhead\" d=\"M245,529.0 L237,517.0 253,517.0\" fill=\"currentColor\"/>\n",
       "</g>\n",
       "\n",
       "<g class=\"displacy-arrow\">\n",
       "    <path class=\"displacy-arc\" id=\"arrow-9f1ed0c37b2b47249a0dfa496704ce5b-0-2\" stroke-width=\"2px\" d=\"M420,527.0 C420,177.0 1440.0,177.0 1440.0,527.0\" fill=\"none\" stroke=\"currentColor\"/>\n",
       "    <text dy=\"1.25em\" style=\"font-size: 0.8em; letter-spacing: 1px\">\n",
       "        <textPath xlink:href=\"#arrow-9f1ed0c37b2b47249a0dfa496704ce5b-0-2\" class=\"displacy-label\" startOffset=\"50%\" side=\"left\" fill=\"currentColor\" text-anchor=\"middle\">advmod</textPath>\n",
       "    </text>\n",
       "    <path class=\"displacy-arrowhead\" d=\"M420,529.0 L412,517.0 428,517.0\" fill=\"currentColor\"/>\n",
       "</g>\n",
       "\n",
       "<g class=\"displacy-arrow\">\n",
       "    <path class=\"displacy-arc\" id=\"arrow-9f1ed0c37b2b47249a0dfa496704ce5b-0-3\" stroke-width=\"2px\" d=\"M595,527.0 C595,352.0 905.0,352.0 905.0,527.0\" fill=\"none\" stroke=\"currentColor\"/>\n",
       "    <text dy=\"1.25em\" style=\"font-size: 0.8em; letter-spacing: 1px\">\n",
       "        <textPath xlink:href=\"#arrow-9f1ed0c37b2b47249a0dfa496704ce5b-0-3\" class=\"displacy-label\" startOffset=\"50%\" side=\"left\" fill=\"currentColor\" text-anchor=\"middle\">case</textPath>\n",
       "    </text>\n",
       "    <path class=\"displacy-arrowhead\" d=\"M595,529.0 L587,517.0 603,517.0\" fill=\"currentColor\"/>\n",
       "</g>\n",
       "\n",
       "<g class=\"displacy-arrow\">\n",
       "    <path class=\"displacy-arc\" id=\"arrow-9f1ed0c37b2b47249a0dfa496704ce5b-0-4\" stroke-width=\"2px\" d=\"M770,527.0 C770,439.5 900.0,439.5 900.0,527.0\" fill=\"none\" stroke=\"currentColor\"/>\n",
       "    <text dy=\"1.25em\" style=\"font-size: 0.8em; letter-spacing: 1px\">\n",
       "        <textPath xlink:href=\"#arrow-9f1ed0c37b2b47249a0dfa496704ce5b-0-4\" class=\"displacy-label\" startOffset=\"50%\" side=\"left\" fill=\"currentColor\" text-anchor=\"middle\">det</textPath>\n",
       "    </text>\n",
       "    <path class=\"displacy-arrowhead\" d=\"M770,529.0 L762,517.0 778,517.0\" fill=\"currentColor\"/>\n",
       "</g>\n",
       "\n",
       "<g class=\"displacy-arrow\">\n",
       "    <path class=\"displacy-arc\" id=\"arrow-9f1ed0c37b2b47249a0dfa496704ce5b-0-5\" stroke-width=\"2px\" d=\"M420,527.0 C420,264.5 910.0,264.5 910.0,527.0\" fill=\"none\" stroke=\"currentColor\"/>\n",
       "    <text dy=\"1.25em\" style=\"font-size: 0.8em; letter-spacing: 1px\">\n",
       "        <textPath xlink:href=\"#arrow-9f1ed0c37b2b47249a0dfa496704ce5b-0-5\" class=\"displacy-label\" startOffset=\"50%\" side=\"left\" fill=\"currentColor\" text-anchor=\"middle\">obl</textPath>\n",
       "    </text>\n",
       "    <path class=\"displacy-arrowhead\" d=\"M910.0,529.0 L918.0,517.0 902.0,517.0\" fill=\"currentColor\"/>\n",
       "</g>\n",
       "\n",
       "<g class=\"displacy-arrow\">\n",
       "    <path class=\"displacy-arc\" id=\"arrow-9f1ed0c37b2b47249a0dfa496704ce5b-0-6\" stroke-width=\"2px\" d=\"M945,527.0 C945,439.5 1075.0,439.5 1075.0,527.0\" fill=\"none\" stroke=\"currentColor\"/>\n",
       "    <text dy=\"1.25em\" style=\"font-size: 0.8em; letter-spacing: 1px\">\n",
       "        <textPath xlink:href=\"#arrow-9f1ed0c37b2b47249a0dfa496704ce5b-0-6\" class=\"displacy-label\" startOffset=\"50%\" side=\"left\" fill=\"currentColor\" text-anchor=\"middle\">conj</textPath>\n",
       "    </text>\n",
       "    <path class=\"displacy-arrowhead\" d=\"M1075.0,529.0 L1083.0,517.0 1067.0,517.0\" fill=\"currentColor\"/>\n",
       "</g>\n",
       "\n",
       "<g class=\"displacy-arrow\">\n",
       "    <path class=\"displacy-arc\" id=\"arrow-9f1ed0c37b2b47249a0dfa496704ce5b-0-7\" stroke-width=\"2px\" d=\"M1295,527.0 C1295,439.5 1425.0,439.5 1425.0,527.0\" fill=\"none\" stroke=\"currentColor\"/>\n",
       "    <text dy=\"1.25em\" style=\"font-size: 0.8em; letter-spacing: 1px\">\n",
       "        <textPath xlink:href=\"#arrow-9f1ed0c37b2b47249a0dfa496704ce5b-0-7\" class=\"displacy-label\" startOffset=\"50%\" side=\"left\" fill=\"currentColor\" text-anchor=\"middle\">advmod</textPath>\n",
       "    </text>\n",
       "    <path class=\"displacy-arrowhead\" d=\"M1295,529.0 L1287,517.0 1303,517.0\" fill=\"currentColor\"/>\n",
       "</g>\n",
       "\n",
       "<g class=\"displacy-arrow\">\n",
       "    <path class=\"displacy-arc\" id=\"arrow-9f1ed0c37b2b47249a0dfa496704ce5b-0-8\" stroke-width=\"2px\" d=\"M1645,527.0 C1645,264.5 2135.0,264.5 2135.0,527.0\" fill=\"none\" stroke=\"currentColor\"/>\n",
       "    <text dy=\"1.25em\" style=\"font-size: 0.8em; letter-spacing: 1px\">\n",
       "        <textPath xlink:href=\"#arrow-9f1ed0c37b2b47249a0dfa496704ce5b-0-8\" class=\"displacy-label\" startOffset=\"50%\" side=\"left\" fill=\"currentColor\" text-anchor=\"middle\">case</textPath>\n",
       "    </text>\n",
       "    <path class=\"displacy-arrowhead\" d=\"M1645,529.0 L1637,517.0 1653,517.0\" fill=\"currentColor\"/>\n",
       "</g>\n",
       "\n",
       "<g class=\"displacy-arrow\">\n",
       "    <path class=\"displacy-arc\" id=\"arrow-9f1ed0c37b2b47249a0dfa496704ce5b-0-9\" stroke-width=\"2px\" d=\"M1820,527.0 C1820,352.0 2130.0,352.0 2130.0,527.0\" fill=\"none\" stroke=\"currentColor\"/>\n",
       "    <text dy=\"1.25em\" style=\"font-size: 0.8em; letter-spacing: 1px\">\n",
       "        <textPath xlink:href=\"#arrow-9f1ed0c37b2b47249a0dfa496704ce5b-0-9\" class=\"displacy-label\" startOffset=\"50%\" side=\"left\" fill=\"currentColor\" text-anchor=\"middle\">amod</textPath>\n",
       "    </text>\n",
       "    <path class=\"displacy-arrowhead\" d=\"M1820,529.0 L1812,517.0 1828,517.0\" fill=\"currentColor\"/>\n",
       "</g>\n",
       "\n",
       "<g class=\"displacy-arrow\">\n",
       "    <path class=\"displacy-arc\" id=\"arrow-9f1ed0c37b2b47249a0dfa496704ce5b-0-10\" stroke-width=\"2px\" d=\"M1995,527.0 C1995,439.5 2125.0,439.5 2125.0,527.0\" fill=\"none\" stroke=\"currentColor\"/>\n",
       "    <text dy=\"1.25em\" style=\"font-size: 0.8em; letter-spacing: 1px\">\n",
       "        <textPath xlink:href=\"#arrow-9f1ed0c37b2b47249a0dfa496704ce5b-0-10\" class=\"displacy-label\" startOffset=\"50%\" side=\"left\" fill=\"currentColor\" text-anchor=\"middle\">amod</textPath>\n",
       "    </text>\n",
       "    <path class=\"displacy-arrowhead\" d=\"M1995,529.0 L1987,517.0 2003,517.0\" fill=\"currentColor\"/>\n",
       "</g>\n",
       "\n",
       "<g class=\"displacy-arrow\">\n",
       "    <path class=\"displacy-arc\" id=\"arrow-9f1ed0c37b2b47249a0dfa496704ce5b-0-11\" stroke-width=\"2px\" d=\"M1470,527.0 C1470,177.0 2140.0,177.0 2140.0,527.0\" fill=\"none\" stroke=\"currentColor\"/>\n",
       "    <text dy=\"1.25em\" style=\"font-size: 0.8em; letter-spacing: 1px\">\n",
       "        <textPath xlink:href=\"#arrow-9f1ed0c37b2b47249a0dfa496704ce5b-0-11\" class=\"displacy-label\" startOffset=\"50%\" side=\"left\" fill=\"currentColor\" text-anchor=\"middle\">obl</textPath>\n",
       "    </text>\n",
       "    <path class=\"displacy-arrowhead\" d=\"M2140.0,529.0 L2148.0,517.0 2132.0,517.0\" fill=\"currentColor\"/>\n",
       "</g>\n",
       "</svg></span>"
      ],
      "text/plain": [
       "<IPython.core.display.HTML object>"
      ]
     },
     "metadata": {},
     "output_type": "display_data"
    },
    {
     "name": "stdout",
     "output_type": "stream",
     "text": [
      "text           pos_       dep_        \n",
      "_______________________________________________________\n",
      "Однажды        ADV        advmod      \n",
      "Персефона      PROPN      nsubj       \n",
      "вместе         ADV        advmod      \n",
      "со             ADP        case        \n",
      "своими         DET        det         \n",
      "подругами      NOUN       obl         \n",
      ",              PUNCT      punct       \n",
      "океанидами     NOUN       conj        \n",
      ",              PUNCT      punct       \n",
      "беззаботно     ADV        advmod      \n",
      "резвилась      VERB       ROOT        \n",
      "в              ADP        case        \n",
      "цветущей       VERB       amod        \n",
      "Нисейской      ADJ        amod        \n",
      "долине         NOUN       obl         \n",
      ".              PUNCT      punct       \n",
      "_______________________________________________________\n"
     ]
    }
   ],
   "source": [
    "displacy.render(sents[2], style='dep')\n",
    "nice_print(sents[2])"
   ]
  },
  {
   "cell_type": "code",
   "execution_count": 26,
   "metadata": {},
   "outputs": [
    {
     "name": "stdout",
     "output_type": "stream",
     "text": [
      "[None, None, 'Где однажды резвилась Персефона?', None, None, None, None, None]\n",
      "Где однажды резвилась Персефона?\n"
     ]
    }
   ],
   "source": [
    "def pattern_5(doc):\n",
    "    for i in range(len(doc)): \n",
    "        if doc[i].dep_ == 'ROOT' and doc[i].children:\n",
    "            res = []\n",
    "            person = get_token(doc, list(doc[i].children), 'PER')\n",
    "            location = get_token(doc, list(doc[i].children), 'LOC')\n",
    "            advmod = get_token_2(doc, list(doc[i].children), 'advmod')\n",
    "            if person and location:\n",
    "                if advmod:\n",
    "                    res.append(advmod)\n",
    "                res.append(doc[i])\n",
    "                res.append(person)\n",
    "                return res\n",
    "    return False\n",
    "\n",
    "def get_token_2(doc, arr, dep):\n",
    "    for i in range(len(doc)):\n",
    "        for j in range(len(arr)):\n",
    "            if doc[i] == arr[j] and doc[i].dep_ == dep:\n",
    "               return doc[i]       \n",
    "    return False\n",
    "\n",
    "def question_5(doc):\n",
    "    ans = \"Где\"\n",
    "    arr = pattern_5(doc)\n",
    "    if arr:\n",
    "        for token in arr:\n",
    "            flag_1 = [elem for elem in female_name if elem.find(token.text[:-1]) != -1]\n",
    "            flag_2 = [elem for elem in male_name if elem.find(token.text[:-1]) != -1]\n",
    "            if flag_1 or flag_2:\n",
    "                ans += \" \" + token.text \n",
    "            else:\n",
    "                ans += \" \" + token.text.lower()\n",
    "            flag_1, flag_2 = False, False\n",
    "\n",
    "        return ans.strip() + \"?\"\n",
    "    else:\n",
    "        # отдаленные вопросы\n",
    "        #return \"Вы поняли суть мифа?\"\n",
    "        return None\n",
    "    \n",
    "print(go(sents, question_5))\n",
    "print(question_5(sents[2]))"
   ]
  },
  {
   "attachments": {},
   "cell_type": "markdown",
   "metadata": {},
   "source": [
    "#### <b>Предложение 4</b>\n",
    "Попробуем рассмотреть следующее предложение и создать функции, которые будут генерировать к нему вопросы.\n",
    "\n",
    "<b>'Подобно бабочке перебегала дочь Деметры от цветка к цветку.'</b>\n",
    "\n",
    "Вопросы:\n",
    "1. Кто такая Деметра?\n",
    "2. Подобному кому перебегала дочь Деметры от цветка к цветку?\n",
    "\n",
    "\n",
    "**№ 1**. Как видно, вопросы типа 1 мы уже можем сформировывать."
   ]
  },
  {
   "cell_type": "code",
   "execution_count": 27,
   "metadata": {},
   "outputs": [
    {
     "name": "stdout",
     "output_type": "stream",
     "text": [
      "Подобно бабочке перебегала дочь Деметры от цветка к цветку.\n",
      "['Кто такая Деметра?']\n"
     ]
    }
   ],
   "source": [
    "print(sents[3])\n",
    "print(who_is(sents[3]))\n"
   ]
  },
  {
   "attachments": {},
   "cell_type": "markdown",
   "metadata": {},
   "source": [
    "**№ 2**. Попробуем задать вопросов номер 2: \"Подобному кому перебегала дочь Деметры от цветка к цветку?\""
   ]
  },
  {
   "cell_type": "code",
   "execution_count": 28,
   "metadata": {},
   "outputs": [
    {
     "data": {
      "text/html": [
       "<span class=\"tex2jax_ignore\"><svg xmlns=\"http://www.w3.org/2000/svg\" xmlns:xlink=\"http://www.w3.org/1999/xlink\" xml:lang=\"ru\" id=\"40ccba435acb4c94b2500e536e7cacbb-0\" class=\"displacy\" width=\"1625\" height=\"312.0\" direction=\"ltr\" style=\"max-width: none; height: 312.0px; color: #000000; background: #ffffff; font-family: Arial; direction: ltr\">\n",
       "<text class=\"displacy-token\" fill=\"currentColor\" text-anchor=\"middle\" y=\"222.0\">\n",
       "    <tspan class=\"displacy-word\" fill=\"currentColor\" x=\"50\">Подобно</tspan>\n",
       "    <tspan class=\"displacy-tag\" dy=\"2em\" fill=\"currentColor\" x=\"50\">ADP</tspan>\n",
       "</text>\n",
       "\n",
       "<text class=\"displacy-token\" fill=\"currentColor\" text-anchor=\"middle\" y=\"222.0\">\n",
       "    <tspan class=\"displacy-word\" fill=\"currentColor\" x=\"225\">бабочке</tspan>\n",
       "    <tspan class=\"displacy-tag\" dy=\"2em\" fill=\"currentColor\" x=\"225\">NOUN</tspan>\n",
       "</text>\n",
       "\n",
       "<text class=\"displacy-token\" fill=\"currentColor\" text-anchor=\"middle\" y=\"222.0\">\n",
       "    <tspan class=\"displacy-word\" fill=\"currentColor\" x=\"400\">перебегала</tspan>\n",
       "    <tspan class=\"displacy-tag\" dy=\"2em\" fill=\"currentColor\" x=\"400\">VERB</tspan>\n",
       "</text>\n",
       "\n",
       "<text class=\"displacy-token\" fill=\"currentColor\" text-anchor=\"middle\" y=\"222.0\">\n",
       "    <tspan class=\"displacy-word\" fill=\"currentColor\" x=\"575\">дочь</tspan>\n",
       "    <tspan class=\"displacy-tag\" dy=\"2em\" fill=\"currentColor\" x=\"575\">NOUN</tspan>\n",
       "</text>\n",
       "\n",
       "<text class=\"displacy-token\" fill=\"currentColor\" text-anchor=\"middle\" y=\"222.0\">\n",
       "    <tspan class=\"displacy-word\" fill=\"currentColor\" x=\"750\">Деметры</tspan>\n",
       "    <tspan class=\"displacy-tag\" dy=\"2em\" fill=\"currentColor\" x=\"750\">PROPN</tspan>\n",
       "</text>\n",
       "\n",
       "<text class=\"displacy-token\" fill=\"currentColor\" text-anchor=\"middle\" y=\"222.0\">\n",
       "    <tspan class=\"displacy-word\" fill=\"currentColor\" x=\"925\">от</tspan>\n",
       "    <tspan class=\"displacy-tag\" dy=\"2em\" fill=\"currentColor\" x=\"925\">ADP</tspan>\n",
       "</text>\n",
       "\n",
       "<text class=\"displacy-token\" fill=\"currentColor\" text-anchor=\"middle\" y=\"222.0\">\n",
       "    <tspan class=\"displacy-word\" fill=\"currentColor\" x=\"1100\">цветка</tspan>\n",
       "    <tspan class=\"displacy-tag\" dy=\"2em\" fill=\"currentColor\" x=\"1100\">NOUN</tspan>\n",
       "</text>\n",
       "\n",
       "<text class=\"displacy-token\" fill=\"currentColor\" text-anchor=\"middle\" y=\"222.0\">\n",
       "    <tspan class=\"displacy-word\" fill=\"currentColor\" x=\"1275\">к</tspan>\n",
       "    <tspan class=\"displacy-tag\" dy=\"2em\" fill=\"currentColor\" x=\"1275\">ADP</tspan>\n",
       "</text>\n",
       "\n",
       "<text class=\"displacy-token\" fill=\"currentColor\" text-anchor=\"middle\" y=\"222.0\">\n",
       "    <tspan class=\"displacy-word\" fill=\"currentColor\" x=\"1450\">цветку.</tspan>\n",
       "    <tspan class=\"displacy-tag\" dy=\"2em\" fill=\"currentColor\" x=\"1450\">NOUN</tspan>\n",
       "</text>\n",
       "\n",
       "<g class=\"displacy-arrow\">\n",
       "    <path class=\"displacy-arc\" id=\"arrow-40ccba435acb4c94b2500e536e7cacbb-0-0\" stroke-width=\"2px\" d=\"M70,177.0 C70,89.5 220.0,89.5 220.0,177.0\" fill=\"none\" stroke=\"currentColor\"/>\n",
       "    <text dy=\"1.25em\" style=\"font-size: 0.8em; letter-spacing: 1px\">\n",
       "        <textPath xlink:href=\"#arrow-40ccba435acb4c94b2500e536e7cacbb-0-0\" class=\"displacy-label\" startOffset=\"50%\" side=\"left\" fill=\"currentColor\" text-anchor=\"middle\">case</textPath>\n",
       "    </text>\n",
       "    <path class=\"displacy-arrowhead\" d=\"M70,179.0 L62,167.0 78,167.0\" fill=\"currentColor\"/>\n",
       "</g>\n",
       "\n",
       "<g class=\"displacy-arrow\">\n",
       "    <path class=\"displacy-arc\" id=\"arrow-40ccba435acb4c94b2500e536e7cacbb-0-1\" stroke-width=\"2px\" d=\"M245,177.0 C245,89.5 395.0,89.5 395.0,177.0\" fill=\"none\" stroke=\"currentColor\"/>\n",
       "    <text dy=\"1.25em\" style=\"font-size: 0.8em; letter-spacing: 1px\">\n",
       "        <textPath xlink:href=\"#arrow-40ccba435acb4c94b2500e536e7cacbb-0-1\" class=\"displacy-label\" startOffset=\"50%\" side=\"left\" fill=\"currentColor\" text-anchor=\"middle\">obl</textPath>\n",
       "    </text>\n",
       "    <path class=\"displacy-arrowhead\" d=\"M245,179.0 L237,167.0 253,167.0\" fill=\"currentColor\"/>\n",
       "</g>\n",
       "\n",
       "<g class=\"displacy-arrow\">\n",
       "    <path class=\"displacy-arc\" id=\"arrow-40ccba435acb4c94b2500e536e7cacbb-0-2\" stroke-width=\"2px\" d=\"M420,177.0 C420,89.5 570.0,89.5 570.0,177.0\" fill=\"none\" stroke=\"currentColor\"/>\n",
       "    <text dy=\"1.25em\" style=\"font-size: 0.8em; letter-spacing: 1px\">\n",
       "        <textPath xlink:href=\"#arrow-40ccba435acb4c94b2500e536e7cacbb-0-2\" class=\"displacy-label\" startOffset=\"50%\" side=\"left\" fill=\"currentColor\" text-anchor=\"middle\">nsubj</textPath>\n",
       "    </text>\n",
       "    <path class=\"displacy-arrowhead\" d=\"M570.0,179.0 L578.0,167.0 562.0,167.0\" fill=\"currentColor\"/>\n",
       "</g>\n",
       "\n",
       "<g class=\"displacy-arrow\">\n",
       "    <path class=\"displacy-arc\" id=\"arrow-40ccba435acb4c94b2500e536e7cacbb-0-3\" stroke-width=\"2px\" d=\"M595,177.0 C595,89.5 745.0,89.5 745.0,177.0\" fill=\"none\" stroke=\"currentColor\"/>\n",
       "    <text dy=\"1.25em\" style=\"font-size: 0.8em; letter-spacing: 1px\">\n",
       "        <textPath xlink:href=\"#arrow-40ccba435acb4c94b2500e536e7cacbb-0-3\" class=\"displacy-label\" startOffset=\"50%\" side=\"left\" fill=\"currentColor\" text-anchor=\"middle\">appos</textPath>\n",
       "    </text>\n",
       "    <path class=\"displacy-arrowhead\" d=\"M745.0,179.0 L753.0,167.0 737.0,167.0\" fill=\"currentColor\"/>\n",
       "</g>\n",
       "\n",
       "<g class=\"displacy-arrow\">\n",
       "    <path class=\"displacy-arc\" id=\"arrow-40ccba435acb4c94b2500e536e7cacbb-0-4\" stroke-width=\"2px\" d=\"M945,177.0 C945,89.5 1095.0,89.5 1095.0,177.0\" fill=\"none\" stroke=\"currentColor\"/>\n",
       "    <text dy=\"1.25em\" style=\"font-size: 0.8em; letter-spacing: 1px\">\n",
       "        <textPath xlink:href=\"#arrow-40ccba435acb4c94b2500e536e7cacbb-0-4\" class=\"displacy-label\" startOffset=\"50%\" side=\"left\" fill=\"currentColor\" text-anchor=\"middle\">case</textPath>\n",
       "    </text>\n",
       "    <path class=\"displacy-arrowhead\" d=\"M945,179.0 L937,167.0 953,167.0\" fill=\"currentColor\"/>\n",
       "</g>\n",
       "\n",
       "<g class=\"displacy-arrow\">\n",
       "    <path class=\"displacy-arc\" id=\"arrow-40ccba435acb4c94b2500e536e7cacbb-0-5\" stroke-width=\"2px\" d=\"M420,177.0 C420,2.0 1100.0,2.0 1100.0,177.0\" fill=\"none\" stroke=\"currentColor\"/>\n",
       "    <text dy=\"1.25em\" style=\"font-size: 0.8em; letter-spacing: 1px\">\n",
       "        <textPath xlink:href=\"#arrow-40ccba435acb4c94b2500e536e7cacbb-0-5\" class=\"displacy-label\" startOffset=\"50%\" side=\"left\" fill=\"currentColor\" text-anchor=\"middle\">obl</textPath>\n",
       "    </text>\n",
       "    <path class=\"displacy-arrowhead\" d=\"M1100.0,179.0 L1108.0,167.0 1092.0,167.0\" fill=\"currentColor\"/>\n",
       "</g>\n",
       "\n",
       "<g class=\"displacy-arrow\">\n",
       "    <path class=\"displacy-arc\" id=\"arrow-40ccba435acb4c94b2500e536e7cacbb-0-6\" stroke-width=\"2px\" d=\"M1295,177.0 C1295,89.5 1445.0,89.5 1445.0,177.0\" fill=\"none\" stroke=\"currentColor\"/>\n",
       "    <text dy=\"1.25em\" style=\"font-size: 0.8em; letter-spacing: 1px\">\n",
       "        <textPath xlink:href=\"#arrow-40ccba435acb4c94b2500e536e7cacbb-0-6\" class=\"displacy-label\" startOffset=\"50%\" side=\"left\" fill=\"currentColor\" text-anchor=\"middle\">case</textPath>\n",
       "    </text>\n",
       "    <path class=\"displacy-arrowhead\" d=\"M1295,179.0 L1287,167.0 1303,167.0\" fill=\"currentColor\"/>\n",
       "</g>\n",
       "\n",
       "<g class=\"displacy-arrow\">\n",
       "    <path class=\"displacy-arc\" id=\"arrow-40ccba435acb4c94b2500e536e7cacbb-0-7\" stroke-width=\"2px\" d=\"M1120,177.0 C1120,2.0 1450.0,2.0 1450.0,177.0\" fill=\"none\" stroke=\"currentColor\"/>\n",
       "    <text dy=\"1.25em\" style=\"font-size: 0.8em; letter-spacing: 1px\">\n",
       "        <textPath xlink:href=\"#arrow-40ccba435acb4c94b2500e536e7cacbb-0-7\" class=\"displacy-label\" startOffset=\"50%\" side=\"left\" fill=\"currentColor\" text-anchor=\"middle\">nmod</textPath>\n",
       "    </text>\n",
       "    <path class=\"displacy-arrowhead\" d=\"M1450.0,179.0 L1458.0,167.0 1442.0,167.0\" fill=\"currentColor\"/>\n",
       "</g>\n",
       "</svg></span>"
      ],
      "text/plain": [
       "<IPython.core.display.HTML object>"
      ]
     },
     "metadata": {},
     "output_type": "display_data"
    },
    {
     "name": "stdout",
     "output_type": "stream",
     "text": [
      "text           pos_       dep_        \n",
      "_______________________________________________________\n",
      "Подобно        ADP        case        \n",
      "бабочке        NOUN       obl         \n",
      "перебегала     VERB       ROOT        \n",
      "дочь           NOUN       nsubj       \n",
      "Деметры        PROPN      appos       \n",
      "от             ADP        case        \n",
      "цветка         NOUN       obl         \n",
      "к              ADP        case        \n",
      "цветку         NOUN       nmod        \n",
      ".              PUNCT      punct       \n",
      "_______________________________________________________\n"
     ]
    }
   ],
   "source": [
    "displacy.render(sents[3], style='dep')\n",
    "nice_print(nlp(\"Подобно бабочке перебегала дочь Деметры от цветка к цветку.\"))"
   ]
  },
  {
   "cell_type": "code",
   "execution_count": 29,
   "metadata": {},
   "outputs": [
    {
     "data": {
      "text/html": [
       "<span class=\"tex2jax_ignore\"><div class=\"entities\" style=\"line-height: 2.5; direction: ltr\">Подобно бабочке перебегала дочь \n",
       "<mark class=\"entity\" style=\"background: #ddd; padding: 0.45em 0.6em; margin: 0 0.25em; line-height: 1; border-radius: 0.35em;\">\n",
       "    Деметры\n",
       "    <span style=\"font-size: 0.8em; font-weight: bold; line-height: 1; border-radius: 0.35em; vertical-align: middle; margin-left: 0.5rem\">PER</span>\n",
       "</mark>\n",
       " от цветка к цветку.</div></span>"
      ],
      "text/plain": [
       "<IPython.core.display.HTML object>"
      ]
     },
     "metadata": {},
     "output_type": "display_data"
    }
   ],
   "source": [
    "displacy.render(sents[3], style = 'ent')"
   ]
  },
  {
   "cell_type": "code",
   "execution_count": 30,
   "metadata": {},
   "outputs": [
    {
     "name": "stdout",
     "output_type": "stream",
     "text": [
      "[None, None, 'Подобно кому резвилась Персефона?', 'Подобно кому перебегала дочь Деметры?', None, None, None, 'Подобно кому отдал Зевс?']\n",
      "Подобно кому перебегала дочь Деметры?\n"
     ]
    }
   ],
   "source": [
    "def pattern_6(doc):\n",
    "    for i in range(len(doc)): \n",
    "        if doc[i].dep_ == 'ROOT' and doc[i].children:\n",
    "            res = []\n",
    "            object = get_token_2(doc, list(doc[i].children), 'obl')       # слово с чем сравнивают\n",
    "            noun = get_token_2(doc, list(doc[i].children), 'nsubj')\n",
    "            if object and object.children:\n",
    "                comparison = get_token_3(doc, list(object.children), 'ADP', 'case')\n",
    "                if comparison:\n",
    "                    res.append(doc[i])\n",
    "                    if noun and noun.children:\n",
    "                        res.append(noun)\n",
    "                        noun_2 = get_token(doc, list(noun.children), 'PER')\n",
    "                        res.append(noun_2)\n",
    "                    return res\n",
    "    return False\n",
    "\n",
    "def get_token_3(doc, arr, pos, dep):\n",
    "    for i in range(len(doc)):\n",
    "        for j in range(len(arr)):\n",
    "            if doc[i] == arr[j] and doc[i].dep_ == dep and doc[i].pos_ == pos:\n",
    "               return doc[i]       \n",
    "    return False\n",
    "\n",
    "def question_6(doc):\n",
    "    ans = \"Подобно кому\"\n",
    "    arr = pattern_6(doc)\n",
    "    if arr:\n",
    "        for token in arr:\n",
    "            if token:\n",
    "                ans += \" \" + token.text \n",
    "\n",
    "        return ans.strip() + \"?\"\n",
    "    else:\n",
    "        # отдаленные вопросы\n",
    "        #return \"Вы поняли суть мифа?\"\n",
    "        return None\n",
    "\n",
    "print(go(sents, question_6))\n",
    "print(question_6(sents[3]))"
   ]
  },
  {
   "attachments": {},
   "cell_type": "markdown",
   "metadata": {},
   "source": [
    "#### <b>Предложение 5</b>\n",
    "Попробуем рассмотреть следующее предложение и создать функции, которые будут генерировать к нему вопросы.\n",
    "\n",
    "<b>'Она рвала розы, фиалки, лилии и гиацинты.'</b>\n",
    "\n",
    "Вопросы:\n",
    "1. Что она рвала?"
   ]
  },
  {
   "cell_type": "code",
   "execution_count": 31,
   "metadata": {},
   "outputs": [
    {
     "data": {
      "text/html": [
       "<span class=\"tex2jax_ignore\"><svg xmlns=\"http://www.w3.org/2000/svg\" xmlns:xlink=\"http://www.w3.org/1999/xlink\" xml:lang=\"ru\" id=\"b6f2e2697c07498f85f28e5ef0d65490-0\" class=\"displacy\" width=\"1275\" height=\"399.5\" direction=\"ltr\" style=\"max-width: none; height: 399.5px; color: #000000; background: #ffffff; font-family: Arial; direction: ltr\">\n",
       "<text class=\"displacy-token\" fill=\"currentColor\" text-anchor=\"middle\" y=\"309.5\">\n",
       "    <tspan class=\"displacy-word\" fill=\"currentColor\" x=\"50\">Она</tspan>\n",
       "    <tspan class=\"displacy-tag\" dy=\"2em\" fill=\"currentColor\" x=\"50\">PRON</tspan>\n",
       "</text>\n",
       "\n",
       "<text class=\"displacy-token\" fill=\"currentColor\" text-anchor=\"middle\" y=\"309.5\">\n",
       "    <tspan class=\"displacy-word\" fill=\"currentColor\" x=\"225\">рвала</tspan>\n",
       "    <tspan class=\"displacy-tag\" dy=\"2em\" fill=\"currentColor\" x=\"225\">VERB</tspan>\n",
       "</text>\n",
       "\n",
       "<text class=\"displacy-token\" fill=\"currentColor\" text-anchor=\"middle\" y=\"309.5\">\n",
       "    <tspan class=\"displacy-word\" fill=\"currentColor\" x=\"400\">розы,</tspan>\n",
       "    <tspan class=\"displacy-tag\" dy=\"2em\" fill=\"currentColor\" x=\"400\">NOUN</tspan>\n",
       "</text>\n",
       "\n",
       "<text class=\"displacy-token\" fill=\"currentColor\" text-anchor=\"middle\" y=\"309.5\">\n",
       "    <tspan class=\"displacy-word\" fill=\"currentColor\" x=\"575\">фиалки,</tspan>\n",
       "    <tspan class=\"displacy-tag\" dy=\"2em\" fill=\"currentColor\" x=\"575\">NOUN</tspan>\n",
       "</text>\n",
       "\n",
       "<text class=\"displacy-token\" fill=\"currentColor\" text-anchor=\"middle\" y=\"309.5\">\n",
       "    <tspan class=\"displacy-word\" fill=\"currentColor\" x=\"750\">лилии</tspan>\n",
       "    <tspan class=\"displacy-tag\" dy=\"2em\" fill=\"currentColor\" x=\"750\">NOUN</tspan>\n",
       "</text>\n",
       "\n",
       "<text class=\"displacy-token\" fill=\"currentColor\" text-anchor=\"middle\" y=\"309.5\">\n",
       "    <tspan class=\"displacy-word\" fill=\"currentColor\" x=\"925\">и</tspan>\n",
       "    <tspan class=\"displacy-tag\" dy=\"2em\" fill=\"currentColor\" x=\"925\">CCONJ</tspan>\n",
       "</text>\n",
       "\n",
       "<text class=\"displacy-token\" fill=\"currentColor\" text-anchor=\"middle\" y=\"309.5\">\n",
       "    <tspan class=\"displacy-word\" fill=\"currentColor\" x=\"1100\">гиацинты.</tspan>\n",
       "    <tspan class=\"displacy-tag\" dy=\"2em\" fill=\"currentColor\" x=\"1100\">NOUN</tspan>\n",
       "</text>\n",
       "\n",
       "<g class=\"displacy-arrow\">\n",
       "    <path class=\"displacy-arc\" id=\"arrow-b6f2e2697c07498f85f28e5ef0d65490-0-0\" stroke-width=\"2px\" d=\"M70,264.5 C70,177.0 215.0,177.0 215.0,264.5\" fill=\"none\" stroke=\"currentColor\"/>\n",
       "    <text dy=\"1.25em\" style=\"font-size: 0.8em; letter-spacing: 1px\">\n",
       "        <textPath xlink:href=\"#arrow-b6f2e2697c07498f85f28e5ef0d65490-0-0\" class=\"displacy-label\" startOffset=\"50%\" side=\"left\" fill=\"currentColor\" text-anchor=\"middle\">nsubj</textPath>\n",
       "    </text>\n",
       "    <path class=\"displacy-arrowhead\" d=\"M70,266.5 L62,254.5 78,254.5\" fill=\"currentColor\"/>\n",
       "</g>\n",
       "\n",
       "<g class=\"displacy-arrow\">\n",
       "    <path class=\"displacy-arc\" id=\"arrow-b6f2e2697c07498f85f28e5ef0d65490-0-1\" stroke-width=\"2px\" d=\"M245,264.5 C245,177.0 390.0,177.0 390.0,264.5\" fill=\"none\" stroke=\"currentColor\"/>\n",
       "    <text dy=\"1.25em\" style=\"font-size: 0.8em; letter-spacing: 1px\">\n",
       "        <textPath xlink:href=\"#arrow-b6f2e2697c07498f85f28e5ef0d65490-0-1\" class=\"displacy-label\" startOffset=\"50%\" side=\"left\" fill=\"currentColor\" text-anchor=\"middle\">obj</textPath>\n",
       "    </text>\n",
       "    <path class=\"displacy-arrowhead\" d=\"M390.0,266.5 L398.0,254.5 382.0,254.5\" fill=\"currentColor\"/>\n",
       "</g>\n",
       "\n",
       "<g class=\"displacy-arrow\">\n",
       "    <path class=\"displacy-arc\" id=\"arrow-b6f2e2697c07498f85f28e5ef0d65490-0-2\" stroke-width=\"2px\" d=\"M420,264.5 C420,177.0 565.0,177.0 565.0,264.5\" fill=\"none\" stroke=\"currentColor\"/>\n",
       "    <text dy=\"1.25em\" style=\"font-size: 0.8em; letter-spacing: 1px\">\n",
       "        <textPath xlink:href=\"#arrow-b6f2e2697c07498f85f28e5ef0d65490-0-2\" class=\"displacy-label\" startOffset=\"50%\" side=\"left\" fill=\"currentColor\" text-anchor=\"middle\">conj</textPath>\n",
       "    </text>\n",
       "    <path class=\"displacy-arrowhead\" d=\"M565.0,266.5 L573.0,254.5 557.0,254.5\" fill=\"currentColor\"/>\n",
       "</g>\n",
       "\n",
       "<g class=\"displacy-arrow\">\n",
       "    <path class=\"displacy-arc\" id=\"arrow-b6f2e2697c07498f85f28e5ef0d65490-0-3\" stroke-width=\"2px\" d=\"M420,264.5 C420,89.5 745.0,89.5 745.0,264.5\" fill=\"none\" stroke=\"currentColor\"/>\n",
       "    <text dy=\"1.25em\" style=\"font-size: 0.8em; letter-spacing: 1px\">\n",
       "        <textPath xlink:href=\"#arrow-b6f2e2697c07498f85f28e5ef0d65490-0-3\" class=\"displacy-label\" startOffset=\"50%\" side=\"left\" fill=\"currentColor\" text-anchor=\"middle\">conj</textPath>\n",
       "    </text>\n",
       "    <path class=\"displacy-arrowhead\" d=\"M745.0,266.5 L753.0,254.5 737.0,254.5\" fill=\"currentColor\"/>\n",
       "</g>\n",
       "\n",
       "<g class=\"displacy-arrow\">\n",
       "    <path class=\"displacy-arc\" id=\"arrow-b6f2e2697c07498f85f28e5ef0d65490-0-4\" stroke-width=\"2px\" d=\"M945,264.5 C945,177.0 1090.0,177.0 1090.0,264.5\" fill=\"none\" stroke=\"currentColor\"/>\n",
       "    <text dy=\"1.25em\" style=\"font-size: 0.8em; letter-spacing: 1px\">\n",
       "        <textPath xlink:href=\"#arrow-b6f2e2697c07498f85f28e5ef0d65490-0-4\" class=\"displacy-label\" startOffset=\"50%\" side=\"left\" fill=\"currentColor\" text-anchor=\"middle\">cc</textPath>\n",
       "    </text>\n",
       "    <path class=\"displacy-arrowhead\" d=\"M945,266.5 L937,254.5 953,254.5\" fill=\"currentColor\"/>\n",
       "</g>\n",
       "\n",
       "<g class=\"displacy-arrow\">\n",
       "    <path class=\"displacy-arc\" id=\"arrow-b6f2e2697c07498f85f28e5ef0d65490-0-5\" stroke-width=\"2px\" d=\"M420,264.5 C420,2.0 1100.0,2.0 1100.0,264.5\" fill=\"none\" stroke=\"currentColor\"/>\n",
       "    <text dy=\"1.25em\" style=\"font-size: 0.8em; letter-spacing: 1px\">\n",
       "        <textPath xlink:href=\"#arrow-b6f2e2697c07498f85f28e5ef0d65490-0-5\" class=\"displacy-label\" startOffset=\"50%\" side=\"left\" fill=\"currentColor\" text-anchor=\"middle\">conj</textPath>\n",
       "    </text>\n",
       "    <path class=\"displacy-arrowhead\" d=\"M1100.0,266.5 L1108.0,254.5 1092.0,254.5\" fill=\"currentColor\"/>\n",
       "</g>\n",
       "</svg></span>"
      ],
      "text/plain": [
       "<IPython.core.display.HTML object>"
      ]
     },
     "metadata": {},
     "output_type": "display_data"
    },
    {
     "name": "stdout",
     "output_type": "stream",
     "text": [
      "text           pos_       dep_        \n",
      "_______________________________________________________\n",
      "Она            PRON       nsubj       \n",
      "рвала          VERB       ROOT        \n",
      "розы           NOUN       obj         \n",
      ",              PUNCT      punct       \n",
      "фиалки         NOUN       conj        \n",
      ",              PUNCT      punct       \n",
      "лилии          NOUN       conj        \n",
      "и              CCONJ      cc          \n",
      "гиацинты       NOUN       conj        \n",
      ".              PUNCT      punct       \n",
      "_______________________________________________________\n"
     ]
    }
   ],
   "source": [
    "displacy.render(sents[4], style='dep')\n",
    "nice_print(sents[4])"
   ]
  },
  {
   "cell_type": "code",
   "execution_count": 32,
   "metadata": {},
   "outputs": [
    {
     "name": "stdout",
     "output_type": "stream",
     "text": [
      "[None, None, None, None, 'Что она рвала?', None, None, 'Что Зевс отдал?']\n"
     ]
    }
   ],
   "source": [
    "def pattern_7(doc):\n",
    "    for i in range(len(doc)): \n",
    "        if doc[i].dep_ == 'ROOT' and doc[i].children:\n",
    "            res = []\n",
    "            obj = get_token_2(doc, list(doc[i].children), 'obj')\n",
    "            person = get_token_2(doc, list(doc[i].children), 'nsubj')\n",
    "            if obj and person:\n",
    "                res.append(person)\n",
    "                res.append(doc[i])\n",
    "                return res\n",
    "    return False\n",
    "\n",
    "\n",
    "def question_7(doc):\n",
    "    ans = \"Что\"\n",
    "    arr = pattern_7(doc)\n",
    "    if arr:\n",
    "        for token in arr:\n",
    "            flag_1 = [elem for elem in female_name if elem.find(token.text) != -1]\n",
    "            flag_2 = [elem for elem in male_name if elem.find(token.text) != -1]\n",
    "            if flag_1:\n",
    "                ans += \" \" + flag_1[0]\n",
    "            elif flag_2:\n",
    "                ans += \" \" + flag_2[0]\n",
    "            else:\n",
    "                ans += \" \" + token.text.lower()\n",
    "\n",
    "        return ans.strip() + \"?\"\n",
    "    else:\n",
    "        # отдаленные вопросы\n",
    "        #return \"Вы поняли суть мифа?\"\n",
    "        return None\n",
    "\n",
    "print(go(sents, question_7))"
   ]
  },
  {
   "attachments": {},
   "cell_type": "markdown",
   "metadata": {},
   "source": [
    "#### <b>Предложение 6</b>\n",
    "Попробуем рассмотреть следующее предложение и создать функции, которые будут генерировать к нему вопросы.\n",
    "\n",
    "<b>'Беспечно резвилась Персефона, не ведая той судьбы, которую назначил ей отец ее Зевс.'</b>\n",
    "\n",
    "Вопросы:\n",
    "1. Кто такая Персефона? Кто такой Зевс?\n",
    "2. Что делала Персефона?\n",
    "\n",
    "**№ 1**. Как видно, вопросы типа 1 мы уже можем сформировывать."
   ]
  },
  {
   "cell_type": "code",
   "execution_count": 33,
   "metadata": {},
   "outputs": [
    {
     "name": "stdout",
     "output_type": "stream",
     "text": [
      "Беспечно резвилась Персефона, не ведая той судьбы, которую назначил ей отец ее Зевс.\n",
      "['Кто такая Персефона?', 'Кто такой Зевс?']\n"
     ]
    }
   ],
   "source": [
    "print(sents[5])\n",
    "print(who_is(sents[5]))"
   ]
  },
  {
   "attachments": {},
   "cell_type": "markdown",
   "metadata": {},
   "source": [
    "**№ 2**. Что делала Персефона?"
   ]
  },
  {
   "cell_type": "code",
   "execution_count": 34,
   "metadata": {},
   "outputs": [
    {
     "name": "stdout",
     "output_type": "stream",
     "text": [
      "text           pos_       dep_        \n",
      "_______________________________________________________\n",
      "Беспечно       ADV        advmod      \n",
      "резвилась      VERB       ROOT        \n",
      "Персефона      PROPN      nsubj       \n",
      ",              PUNCT      punct       \n",
      "не             PART       advmod      \n",
      "ведая          VERB       advcl       \n",
      "той            DET        det         \n",
      "судьбы         NOUN       obj         \n",
      ",              PUNCT      punct       \n",
      "которую        PRON       obj         \n",
      "назначил       VERB       acl:relcl   \n",
      "ей             PRON       iobj        \n",
      "отец           NOUN       nsubj       \n",
      "ее             DET        det         \n",
      "Зевс           PROPN      nsubj       \n",
      ".              PUNCT      punct       \n",
      "_______________________________________________________\n"
     ]
    }
   ],
   "source": [
    "nice_print(sents[5])"
   ]
  },
  {
   "cell_type": "code",
   "execution_count": 35,
   "metadata": {},
   "outputs": [
    {
     "data": {
      "text/html": [
       "<span class=\"tex2jax_ignore\"><svg xmlns=\"http://www.w3.org/2000/svg\" xmlns:xlink=\"http://www.w3.org/1999/xlink\" xml:lang=\"ru\" id=\"02adc435b9cb492dae18b26bec552ac9-0\" class=\"displacy\" width=\"2325\" height=\"399.5\" direction=\"ltr\" style=\"max-width: none; height: 399.5px; color: #000000; background: #ffffff; font-family: Arial; direction: ltr\">\n",
       "<text class=\"displacy-token\" fill=\"currentColor\" text-anchor=\"middle\" y=\"309.5\">\n",
       "    <tspan class=\"displacy-word\" fill=\"currentColor\" x=\"50\">Беспечно</tspan>\n",
       "    <tspan class=\"displacy-tag\" dy=\"2em\" fill=\"currentColor\" x=\"50\">ADV</tspan>\n",
       "</text>\n",
       "\n",
       "<text class=\"displacy-token\" fill=\"currentColor\" text-anchor=\"middle\" y=\"309.5\">\n",
       "    <tspan class=\"displacy-word\" fill=\"currentColor\" x=\"225\">резвилась</tspan>\n",
       "    <tspan class=\"displacy-tag\" dy=\"2em\" fill=\"currentColor\" x=\"225\">VERB</tspan>\n",
       "</text>\n",
       "\n",
       "<text class=\"displacy-token\" fill=\"currentColor\" text-anchor=\"middle\" y=\"309.5\">\n",
       "    <tspan class=\"displacy-word\" fill=\"currentColor\" x=\"400\">Персефона,</tspan>\n",
       "    <tspan class=\"displacy-tag\" dy=\"2em\" fill=\"currentColor\" x=\"400\">PROPN</tspan>\n",
       "</text>\n",
       "\n",
       "<text class=\"displacy-token\" fill=\"currentColor\" text-anchor=\"middle\" y=\"309.5\">\n",
       "    <tspan class=\"displacy-word\" fill=\"currentColor\" x=\"575\">не</tspan>\n",
       "    <tspan class=\"displacy-tag\" dy=\"2em\" fill=\"currentColor\" x=\"575\">PART</tspan>\n",
       "</text>\n",
       "\n",
       "<text class=\"displacy-token\" fill=\"currentColor\" text-anchor=\"middle\" y=\"309.5\">\n",
       "    <tspan class=\"displacy-word\" fill=\"currentColor\" x=\"750\">ведая</tspan>\n",
       "    <tspan class=\"displacy-tag\" dy=\"2em\" fill=\"currentColor\" x=\"750\">VERB</tspan>\n",
       "</text>\n",
       "\n",
       "<text class=\"displacy-token\" fill=\"currentColor\" text-anchor=\"middle\" y=\"309.5\">\n",
       "    <tspan class=\"displacy-word\" fill=\"currentColor\" x=\"925\">той</tspan>\n",
       "    <tspan class=\"displacy-tag\" dy=\"2em\" fill=\"currentColor\" x=\"925\">DET</tspan>\n",
       "</text>\n",
       "\n",
       "<text class=\"displacy-token\" fill=\"currentColor\" text-anchor=\"middle\" y=\"309.5\">\n",
       "    <tspan class=\"displacy-word\" fill=\"currentColor\" x=\"1100\">судьбы,</tspan>\n",
       "    <tspan class=\"displacy-tag\" dy=\"2em\" fill=\"currentColor\" x=\"1100\">NOUN</tspan>\n",
       "</text>\n",
       "\n",
       "<text class=\"displacy-token\" fill=\"currentColor\" text-anchor=\"middle\" y=\"309.5\">\n",
       "    <tspan class=\"displacy-word\" fill=\"currentColor\" x=\"1275\">которую</tspan>\n",
       "    <tspan class=\"displacy-tag\" dy=\"2em\" fill=\"currentColor\" x=\"1275\">PRON</tspan>\n",
       "</text>\n",
       "\n",
       "<text class=\"displacy-token\" fill=\"currentColor\" text-anchor=\"middle\" y=\"309.5\">\n",
       "    <tspan class=\"displacy-word\" fill=\"currentColor\" x=\"1450\">назначил</tspan>\n",
       "    <tspan class=\"displacy-tag\" dy=\"2em\" fill=\"currentColor\" x=\"1450\">VERB</tspan>\n",
       "</text>\n",
       "\n",
       "<text class=\"displacy-token\" fill=\"currentColor\" text-anchor=\"middle\" y=\"309.5\">\n",
       "    <tspan class=\"displacy-word\" fill=\"currentColor\" x=\"1625\">ей</tspan>\n",
       "    <tspan class=\"displacy-tag\" dy=\"2em\" fill=\"currentColor\" x=\"1625\">PRON</tspan>\n",
       "</text>\n",
       "\n",
       "<text class=\"displacy-token\" fill=\"currentColor\" text-anchor=\"middle\" y=\"309.5\">\n",
       "    <tspan class=\"displacy-word\" fill=\"currentColor\" x=\"1800\">отец</tspan>\n",
       "    <tspan class=\"displacy-tag\" dy=\"2em\" fill=\"currentColor\" x=\"1800\">NOUN</tspan>\n",
       "</text>\n",
       "\n",
       "<text class=\"displacy-token\" fill=\"currentColor\" text-anchor=\"middle\" y=\"309.5\">\n",
       "    <tspan class=\"displacy-word\" fill=\"currentColor\" x=\"1975\">ее</tspan>\n",
       "    <tspan class=\"displacy-tag\" dy=\"2em\" fill=\"currentColor\" x=\"1975\">DET</tspan>\n",
       "</text>\n",
       "\n",
       "<text class=\"displacy-token\" fill=\"currentColor\" text-anchor=\"middle\" y=\"309.5\">\n",
       "    <tspan class=\"displacy-word\" fill=\"currentColor\" x=\"2150\">Зевс.</tspan>\n",
       "    <tspan class=\"displacy-tag\" dy=\"2em\" fill=\"currentColor\" x=\"2150\">PROPN</tspan>\n",
       "</text>\n",
       "\n",
       "<g class=\"displacy-arrow\">\n",
       "    <path class=\"displacy-arc\" id=\"arrow-02adc435b9cb492dae18b26bec552ac9-0-0\" stroke-width=\"2px\" d=\"M70,264.5 C70,177.0 215.0,177.0 215.0,264.5\" fill=\"none\" stroke=\"currentColor\"/>\n",
       "    <text dy=\"1.25em\" style=\"font-size: 0.8em; letter-spacing: 1px\">\n",
       "        <textPath xlink:href=\"#arrow-02adc435b9cb492dae18b26bec552ac9-0-0\" class=\"displacy-label\" startOffset=\"50%\" side=\"left\" fill=\"currentColor\" text-anchor=\"middle\">advmod</textPath>\n",
       "    </text>\n",
       "    <path class=\"displacy-arrowhead\" d=\"M70,266.5 L62,254.5 78,254.5\" fill=\"currentColor\"/>\n",
       "</g>\n",
       "\n",
       "<g class=\"displacy-arrow\">\n",
       "    <path class=\"displacy-arc\" id=\"arrow-02adc435b9cb492dae18b26bec552ac9-0-1\" stroke-width=\"2px\" d=\"M245,264.5 C245,177.0 390.0,177.0 390.0,264.5\" fill=\"none\" stroke=\"currentColor\"/>\n",
       "    <text dy=\"1.25em\" style=\"font-size: 0.8em; letter-spacing: 1px\">\n",
       "        <textPath xlink:href=\"#arrow-02adc435b9cb492dae18b26bec552ac9-0-1\" class=\"displacy-label\" startOffset=\"50%\" side=\"left\" fill=\"currentColor\" text-anchor=\"middle\">nsubj</textPath>\n",
       "    </text>\n",
       "    <path class=\"displacy-arrowhead\" d=\"M390.0,266.5 L398.0,254.5 382.0,254.5\" fill=\"currentColor\"/>\n",
       "</g>\n",
       "\n",
       "<g class=\"displacy-arrow\">\n",
       "    <path class=\"displacy-arc\" id=\"arrow-02adc435b9cb492dae18b26bec552ac9-0-2\" stroke-width=\"2px\" d=\"M595,264.5 C595,177.0 740.0,177.0 740.0,264.5\" fill=\"none\" stroke=\"currentColor\"/>\n",
       "    <text dy=\"1.25em\" style=\"font-size: 0.8em; letter-spacing: 1px\">\n",
       "        <textPath xlink:href=\"#arrow-02adc435b9cb492dae18b26bec552ac9-0-2\" class=\"displacy-label\" startOffset=\"50%\" side=\"left\" fill=\"currentColor\" text-anchor=\"middle\">advmod</textPath>\n",
       "    </text>\n",
       "    <path class=\"displacy-arrowhead\" d=\"M595,266.5 L587,254.5 603,254.5\" fill=\"currentColor\"/>\n",
       "</g>\n",
       "\n",
       "<g class=\"displacy-arrow\">\n",
       "    <path class=\"displacy-arc\" id=\"arrow-02adc435b9cb492dae18b26bec552ac9-0-3\" stroke-width=\"2px\" d=\"M245,264.5 C245,89.5 745.0,89.5 745.0,264.5\" fill=\"none\" stroke=\"currentColor\"/>\n",
       "    <text dy=\"1.25em\" style=\"font-size: 0.8em; letter-spacing: 1px\">\n",
       "        <textPath xlink:href=\"#arrow-02adc435b9cb492dae18b26bec552ac9-0-3\" class=\"displacy-label\" startOffset=\"50%\" side=\"left\" fill=\"currentColor\" text-anchor=\"middle\">advcl</textPath>\n",
       "    </text>\n",
       "    <path class=\"displacy-arrowhead\" d=\"M745.0,266.5 L753.0,254.5 737.0,254.5\" fill=\"currentColor\"/>\n",
       "</g>\n",
       "\n",
       "<g class=\"displacy-arrow\">\n",
       "    <path class=\"displacy-arc\" id=\"arrow-02adc435b9cb492dae18b26bec552ac9-0-4\" stroke-width=\"2px\" d=\"M945,264.5 C945,177.0 1090.0,177.0 1090.0,264.5\" fill=\"none\" stroke=\"currentColor\"/>\n",
       "    <text dy=\"1.25em\" style=\"font-size: 0.8em; letter-spacing: 1px\">\n",
       "        <textPath xlink:href=\"#arrow-02adc435b9cb492dae18b26bec552ac9-0-4\" class=\"displacy-label\" startOffset=\"50%\" side=\"left\" fill=\"currentColor\" text-anchor=\"middle\">det</textPath>\n",
       "    </text>\n",
       "    <path class=\"displacy-arrowhead\" d=\"M945,266.5 L937,254.5 953,254.5\" fill=\"currentColor\"/>\n",
       "</g>\n",
       "\n",
       "<g class=\"displacy-arrow\">\n",
       "    <path class=\"displacy-arc\" id=\"arrow-02adc435b9cb492dae18b26bec552ac9-0-5\" stroke-width=\"2px\" d=\"M770,264.5 C770,89.5 1095.0,89.5 1095.0,264.5\" fill=\"none\" stroke=\"currentColor\"/>\n",
       "    <text dy=\"1.25em\" style=\"font-size: 0.8em; letter-spacing: 1px\">\n",
       "        <textPath xlink:href=\"#arrow-02adc435b9cb492dae18b26bec552ac9-0-5\" class=\"displacy-label\" startOffset=\"50%\" side=\"left\" fill=\"currentColor\" text-anchor=\"middle\">obj</textPath>\n",
       "    </text>\n",
       "    <path class=\"displacy-arrowhead\" d=\"M1095.0,266.5 L1103.0,254.5 1087.0,254.5\" fill=\"currentColor\"/>\n",
       "</g>\n",
       "\n",
       "<g class=\"displacy-arrow\">\n",
       "    <path class=\"displacy-arc\" id=\"arrow-02adc435b9cb492dae18b26bec552ac9-0-6\" stroke-width=\"2px\" d=\"M1295,264.5 C1295,177.0 1440.0,177.0 1440.0,264.5\" fill=\"none\" stroke=\"currentColor\"/>\n",
       "    <text dy=\"1.25em\" style=\"font-size: 0.8em; letter-spacing: 1px\">\n",
       "        <textPath xlink:href=\"#arrow-02adc435b9cb492dae18b26bec552ac9-0-6\" class=\"displacy-label\" startOffset=\"50%\" side=\"left\" fill=\"currentColor\" text-anchor=\"middle\">obj</textPath>\n",
       "    </text>\n",
       "    <path class=\"displacy-arrowhead\" d=\"M1295,266.5 L1287,254.5 1303,254.5\" fill=\"currentColor\"/>\n",
       "</g>\n",
       "\n",
       "<g class=\"displacy-arrow\">\n",
       "    <path class=\"displacy-arc\" id=\"arrow-02adc435b9cb492dae18b26bec552ac9-0-7\" stroke-width=\"2px\" d=\"M1120,264.5 C1120,89.5 1445.0,89.5 1445.0,264.5\" fill=\"none\" stroke=\"currentColor\"/>\n",
       "    <text dy=\"1.25em\" style=\"font-size: 0.8em; letter-spacing: 1px\">\n",
       "        <textPath xlink:href=\"#arrow-02adc435b9cb492dae18b26bec552ac9-0-7\" class=\"displacy-label\" startOffset=\"50%\" side=\"left\" fill=\"currentColor\" text-anchor=\"middle\">acl:relcl</textPath>\n",
       "    </text>\n",
       "    <path class=\"displacy-arrowhead\" d=\"M1445.0,266.5 L1453.0,254.5 1437.0,254.5\" fill=\"currentColor\"/>\n",
       "</g>\n",
       "\n",
       "<g class=\"displacy-arrow\">\n",
       "    <path class=\"displacy-arc\" id=\"arrow-02adc435b9cb492dae18b26bec552ac9-0-8\" stroke-width=\"2px\" d=\"M1470,264.5 C1470,177.0 1615.0,177.0 1615.0,264.5\" fill=\"none\" stroke=\"currentColor\"/>\n",
       "    <text dy=\"1.25em\" style=\"font-size: 0.8em; letter-spacing: 1px\">\n",
       "        <textPath xlink:href=\"#arrow-02adc435b9cb492dae18b26bec552ac9-0-8\" class=\"displacy-label\" startOffset=\"50%\" side=\"left\" fill=\"currentColor\" text-anchor=\"middle\">iobj</textPath>\n",
       "    </text>\n",
       "    <path class=\"displacy-arrowhead\" d=\"M1615.0,266.5 L1623.0,254.5 1607.0,254.5\" fill=\"currentColor\"/>\n",
       "</g>\n",
       "\n",
       "<g class=\"displacy-arrow\">\n",
       "    <path class=\"displacy-arc\" id=\"arrow-02adc435b9cb492dae18b26bec552ac9-0-9\" stroke-width=\"2px\" d=\"M1470,264.5 C1470,89.5 1795.0,89.5 1795.0,264.5\" fill=\"none\" stroke=\"currentColor\"/>\n",
       "    <text dy=\"1.25em\" style=\"font-size: 0.8em; letter-spacing: 1px\">\n",
       "        <textPath xlink:href=\"#arrow-02adc435b9cb492dae18b26bec552ac9-0-9\" class=\"displacy-label\" startOffset=\"50%\" side=\"left\" fill=\"currentColor\" text-anchor=\"middle\">nsubj</textPath>\n",
       "    </text>\n",
       "    <path class=\"displacy-arrowhead\" d=\"M1795.0,266.5 L1803.0,254.5 1787.0,254.5\" fill=\"currentColor\"/>\n",
       "</g>\n",
       "\n",
       "<g class=\"displacy-arrow\">\n",
       "    <path class=\"displacy-arc\" id=\"arrow-02adc435b9cb492dae18b26bec552ac9-0-10\" stroke-width=\"2px\" d=\"M1995,264.5 C1995,177.0 2140.0,177.0 2140.0,264.5\" fill=\"none\" stroke=\"currentColor\"/>\n",
       "    <text dy=\"1.25em\" style=\"font-size: 0.8em; letter-spacing: 1px\">\n",
       "        <textPath xlink:href=\"#arrow-02adc435b9cb492dae18b26bec552ac9-0-10\" class=\"displacy-label\" startOffset=\"50%\" side=\"left\" fill=\"currentColor\" text-anchor=\"middle\">det</textPath>\n",
       "    </text>\n",
       "    <path class=\"displacy-arrowhead\" d=\"M1995,266.5 L1987,254.5 2003,254.5\" fill=\"currentColor\"/>\n",
       "</g>\n",
       "\n",
       "<g class=\"displacy-arrow\">\n",
       "    <path class=\"displacy-arc\" id=\"arrow-02adc435b9cb492dae18b26bec552ac9-0-11\" stroke-width=\"2px\" d=\"M1470,264.5 C1470,2.0 2150.0,2.0 2150.0,264.5\" fill=\"none\" stroke=\"currentColor\"/>\n",
       "    <text dy=\"1.25em\" style=\"font-size: 0.8em; letter-spacing: 1px\">\n",
       "        <textPath xlink:href=\"#arrow-02adc435b9cb492dae18b26bec552ac9-0-11\" class=\"displacy-label\" startOffset=\"50%\" side=\"left\" fill=\"currentColor\" text-anchor=\"middle\">nsubj</textPath>\n",
       "    </text>\n",
       "    <path class=\"displacy-arrowhead\" d=\"M2150.0,266.5 L2158.0,254.5 2142.0,254.5\" fill=\"currentColor\"/>\n",
       "</g>\n",
       "</svg></span>"
      ],
      "text/plain": [
       "<IPython.core.display.HTML object>"
      ]
     },
     "metadata": {},
     "output_type": "display_data"
    }
   ],
   "source": [
    "displacy.render(sents[5], style='dep')"
   ]
  },
  {
   "cell_type": "code",
   "execution_count": 36,
   "metadata": {},
   "outputs": [
    {
     "name": "stdout",
     "output_type": "stream",
     "text": [
      "['Что делала Деметра?', None, 'Что делала Персефона?', None, None, 'Что делала Персефона?', 'Что делала Персефона?', 'Что делал Зевс?']\n"
     ]
    }
   ],
   "source": [
    "def pattern_8(doc):\n",
    "    for i in range(len(doc)): \n",
    "        if doc[i].dep_ == 'ROOT' and doc[i].children:\n",
    "            nsubj = get_token(doc, list(doc[i].children), 'PER')\n",
    "            if nsubj:\n",
    "                return [nsubj]\n",
    "    return False\n",
    "\n",
    "def question_8(doc):\n",
    "    ans = \"Что\"\n",
    "    arr = pattern_8(doc)\n",
    "    if arr:\n",
    "        for token in arr:\n",
    "            flag_1 = [elem for elem in female_name if elem.find(token.text[:-1]) != -1]\n",
    "            flag_2 = [elem for elem in male_name if elem.find(token.text[:-1]) != -1]\n",
    "            if flag_1:\n",
    "                ans += \" делала \" + flag_1[0]\n",
    "            elif flag_2:\n",
    "                ans += \" делал \" + flag_2[0]\n",
    "            else:\n",
    "                ans += \" делал \" + token.text.lower()    \n",
    "\n",
    "        return ans.strip() + \"?\"\n",
    "    else:\n",
    "        # отдаленные вопросы\n",
    "        #return \"Вы поняли суть мифа?\"\n",
    "        return None\n",
    "\n",
    "print(go(sents, question_8))"
   ]
  },
  {
   "attachments": {},
   "cell_type": "markdown",
   "metadata": {},
   "source": [
    "#### <b>Предложение 7</b>\n",
    "Попробуем рассмотреть следующее предложение и создать функции, которые будут генерировать к нему вопросы.\n",
    "\n",
    "<b>'Не думала Персефона, что не скоро увидит она опять свет солнца, не скоро будет любоваться цветами и вдыхать их аромат.'</b>\n",
    "\n",
    "Вопросы:\n",
    "1. Кто такая Персефона?\n",
    "2. Что делала Персефона?\n",
    "\n",
    "**№ 1**. Как видно, вопросы типа 1 и 2 мы уже можем сформировывать."
   ]
  },
  {
   "cell_type": "code",
   "execution_count": 37,
   "metadata": {},
   "outputs": [
    {
     "name": "stdout",
     "output_type": "stream",
     "text": [
      "Не думала Персефона, что не скоро увидит она опять свет солнца, не скоро будет любоваться цветами и вдыхать их аромат.\n",
      "['Кто такая Персефона?']\n",
      "['Что делала Деметра?', None, 'Что делала Персефона?', None, None, 'Что делала Персефона?', 'Что делала Персефона?', 'Что делал Зевс?']\n"
     ]
    }
   ],
   "source": [
    "print(sents[6])\n",
    "print(who_is(sents[6]))\n",
    "print(go(sents, question_8))"
   ]
  },
  {
   "attachments": {},
   "cell_type": "markdown",
   "metadata": {},
   "source": [
    "#### <b>Предложение 8</b>\n",
    "Попробуем рассмотреть следующее предложение и создать функции, которые будут генерировать к нему вопросы.\n",
    "\n",
    "<b>'Зевс отдал ее в жены своему брату Аиду, властителю царства теней умерших, и с ним была жить Персефона во мраке царства, лишенная света и солнца.'</b>\n",
    "\n",
    "Вопросы:\n",
    "1. Кто такая Персефона? Кто такой Зевс? Кто такой Аид?\n",
    "2. Что сделал Зевс?\n",
    "\n",
    "**№ 1**. Как видно, вопросы типа 1 и 2 мы уже можем сформировывать."
   ]
  },
  {
   "cell_type": "code",
   "execution_count": 38,
   "metadata": {},
   "outputs": [
    {
     "name": "stdout",
     "output_type": "stream",
     "text": [
      "Зевс отдал ее в жены своему брату Аиду, властителю царства теней умерших, и с ним была жить Персефона во мраке царства, лишенная света и солнца.\n",
      "['Кто такой Зевс?', 'Кто такой Аид?', 'Кто такая Персефона?']\n",
      "['Что делала Деметра?', None, 'Что делала Персефона?', None, None, 'Что делала Персефона?', 'Что делала Персефона?', 'Что делал Зевс?']\n"
     ]
    }
   ],
   "source": [
    "print(sents[7])\n",
    "print(who_is(sents[7]))\n",
    "print(go(sents, question_8))"
   ]
  },
  {
   "attachments": {},
   "cell_type": "markdown",
   "metadata": {},
   "source": [
    "### Подведем итоги всех вопросов к этому абзацу."
   ]
  },
  {
   "cell_type": "code",
   "execution_count": 39,
   "metadata": {},
   "outputs": [],
   "source": [
    "def all_question(text):\n",
    "    Dict = {}\n",
    "    i = 1\n",
    "    for sent in text:\n",
    "        Dict[i] = []\n",
    "        Dict[i] += who_is(sent)\n",
    "        Dict[i].append(question_1(sent, True, True))\n",
    "        Dict[i].append(question_2(sent))\n",
    "        Dict[i].append(question_3(sent))\n",
    "        Dict[i].append(question_4(sent))\n",
    "        Dict[i].append(question_5(sent))\n",
    "        Dict[i].append(question_6(sent))\n",
    "        Dict[i].append(question_7(sent))\n",
    "        Dict[i].append(question_8(sent))\n",
    "\n",
    "        # удаление дубликатов и None\n",
    "        Dict[i] = list(set(Dict[i]))\n",
    "        if None in Dict[i]:\n",
    "            Dict[i].remove(None)\n",
    "        i += 1\n",
    "    return Dict\n",
    "\n",
    "\n",
    "# final = all_question(sents)\n",
    "\n",
    "# for key, value in final.items():\n",
    "#     print(key, \":\", sents[key-1], \"\\n\",value, \"\\n\")\n"
   ]
  },
  {
   "attachments": {},
   "cell_type": "markdown",
   "metadata": {},
   "source": [
    "## Тестирование на новом кусочке текста"
   ]
  },
  {
   "cell_type": "code",
   "execution_count": 40,
   "metadata": {},
   "outputs": [
    {
     "name": "stdout",
     "output_type": "stream",
     "text": [
      "Вдруг разверзлась земля, и на конях появился из земли в колеснице владыка царства теней умерших, Аид.\n",
      "Он схватил Персефону, поднял ее на свою колесницу и в мгновение ока скрылся на своих конях в недрах земли.\n",
      "Только вскрикнуть успела Персефона.\n",
      "Далеко разнесся крик ужаса дочери Деметры ; он донесся и до пучин, и до, Олимпа.\n",
      "Никто не видел, как похитил Персефону Аид, видел лишь его бог Гелиос - Солнце.\n",
      "Богиня Деметра услыхала крик Персефоны.\n",
      "Она поспешила в Нисейскую долину, всюду искала дочь ; спрашивала подруг ее, океанид, но нигде не было ее.\n",
      "Океаниды не видали, куда скрылась Персефона.\n",
      "скорбь об утрате возлюбленной дочери овладела сердцем Деметры.\n",
      "Одетая в одежды, девять дней, ничего не сознавая, ни о чем не думая, блуждала богиня Деметра по земле, проливая слезы.\n",
      "Она всюду искала Персефону, всех просила о помощи, но никто не мог помочь ей в ее горе.\n",
      "Наконец, уже на день она пришла к богу Гелиосу - Солнцу и стала со слезами молить его:- О, Гелиос !\n",
      "Ты объезжаешь на златой колеснице высоко по небу всю землю и все моря, ты видишь все, ничто не может скрыться от тебя ; если ты имеешь хоть немного жалости к матери, то скажи мне, где моя дочь Персефона, скажи, где мне искать ее !\n",
      "Я слышала ее крик, ее похитили у меня.\n",
      "Скажи, кто похитил ее.\n",
      "Я всюду искала ее, но нигде не могу найти !\n",
      "Ответил Деметре Гелиос : - богиня, ты знаешь, как я чту тебя, ты видишь, как скорблю, видя твое горе.\n",
      "Знай, тучегонитель Зевс отдал дочь твою в жены своему брату, владыке Аиду.\n",
      "Он похитил Персефону и увез ее в свое ужасов царство.\n",
      "Побори же свою печаль, богиня ; ведь муж твоей дочери, она стала женой брата Зевса.\n",
      "Еще больше опечалилась богиня Деметра.\n",
      "Разгневалась она на громовержца Зевса за то, что отдал он без ее согласия Персефону в жены Аиду.\n",
      "Она покинула богов, покинула Олимп, приняла вид и, облекшись в одежды, долго блуждала между, проливая слезы.\n"
     ]
    }
   ],
   "source": [
    "doc = nlp(u\"Вдруг разверзлась земля, и на черных конях появился из земли в золотой колеснице владыка царства теней умерших, мрачный Аид. Он схватил юную Персефону, поднял ее на свою колесницу и в мгновение ока скрылся на своих быстрых конях в недрах земли. Только вскрикнуть успела Персефона. Далеко разнесся крик ужаса юной дочери Деметры; он донесся и до морских пучин, и до высокого, светлого Олимпа. Никто не видел, как похитил Персефону мрачный Аид, видел лишь его бог Гелиос-Солнце.Богиня Деметра услыхала крик Персефоны. Она поспешила в Нисейскую долину, всюду искала дочь; спрашивала подруг ее, океанид, но нигде не было ее. Океаниды не видали, куда скрылась Персефона.Тяжкая скорбь об утрате единственной возлюбленной дочери овладела сердцем Деметры. Одетая в темные одежды, девять дней, ничего не сознавая, ни о чем не думая, блуждала великая богиня Деметра по земле, проливая горькие слезы. Она всюду искала Персефону, всех просила о помощи, но никто не мог помочь ей в ее горе. Наконец, уже на десятый день она пришла к богу Гелиосу-Солнцу и стала со слезами молить его:- О, лучезарный Гелиос! Ты объезжаешь на златой колеснице высоко по небу всю землю и все моря, ты видишь все, ничто не может скрыться от тебя; если ты имеешь хоть немного жалости к несчастной матери, то скажи мне, где моя дочь Персефона, скажи, где мне искать ее! Я слышала ее крик, ее похитили у меня. Скажи, кто похитил ее. Я всюду искала ее, но нигде не могу найти! Ответил Деметре лучезарный Гелиос: - Великая богиня, ты знаешь, как я чту тебя, ты видишь, как скорблю, видя твое горе. Знай, великий тучегонитель Зевс отдал дочь твою в жены своему мрачному брату, владыке Аиду. Он похитил Персефону и увез ее в свое полное ужасов царство. Побори же свою тяжелую печаль, богиня; ведь велик муж твоей дочери, она стала женой могущественного брата великого Зевса. Еще больше опечалилась богиня Деметра. Разгневалась она на громовержца Зевса за то, что отдал он без ее согласия Персефону в жены Аиду. Она покинула богов, покинула светлый Олимп, приняла вид простой смертной и, облекшись в темные одежды, долго блуждала между смертными, проливая горькие слезы.\")\n",
    "\n",
    "sents_2 = list(doc.sents)\n",
    "sents_2 = [delete_other(i) for i in sents_2]\n",
    "\n",
    "for sent in sents_2:\n",
    "    print(sent)"
   ]
  },
  {
   "cell_type": "code",
   "execution_count": 41,
   "metadata": {},
   "outputs": [
    {
     "name": "stdout",
     "output_type": "stream",
     "text": [
      "1 : Вдруг разверзлась земля, и на конях появился из земли в колеснице владыка царства теней умерших, Аид. \n",
      " ['Вдруг разверзлась земля?', 'Кто такой Аид?', 'Чьим земля был?'] \n",
      "\n",
      "2 : Он схватил Персефону, поднял ее на свою колесницу и в мгновение ока скрылся на своих конях в недрах земли. \n",
      " ['Он схватил Персефону?', 'Что делала Персефона?', 'Кто такая Персефона?', 'Что Онк схватил?'] \n",
      "\n",
      "3 : Только вскрикнуть успела Персефона. \n",
      " ['Кто такая Персефона?', 'Что делала Персефона?', 'вскрикнуть успела Персефона?'] \n",
      "\n",
      "4 : Далеко разнесся крик ужаса дочери Деметры ; он донесся и до пучин, и до, Олимпа. \n",
      " ['Чьим крик был?', 'Кто такой Олимп?', 'Кто был дочери Деметры?', 'Кто такая Деметра?', 'Далеко разнесся крик?', 'Что делал Олимп?'] \n",
      "\n",
      "5 : Никто не видел, как похитил Персефону Аид, видел лишь его бог Гелиос - Солнце. \n",
      " ['Кто был бог Гелиос?', 'Кто такое Персефону Аид?', 'Кто такое Гелиос - Солнце?', 'Чьим бог был?', 'Никто не видел похитил?'] \n",
      "\n",
      "6 : Богиня Деметра услыхала крик Персефоны. \n",
      " ['Кто был Богиня Деметра?', 'Кто такая Персефона?', 'Богиня услыхала крик?', 'Что богиня услыхала?', 'Чьим богиня был?', 'Что делал богиня?', 'Кто такое Богиня Деметра?'] \n",
      "\n",
      "7 : Она поспешила в Нисейскую долину, всюду искала дочь ; спрашивала подруг ее, океанид, но нигде не было ее. \n",
      " ['Она поспешила долину?', 'Подобно кому поспешила Она?'] \n",
      "\n",
      "8 : Океаниды не видали, куда скрылась Персефона. \n",
      " ['Кто такая Персефона?', 'Чьим океаниды был?', 'Океаниды не видали скрылась?'] \n",
      "\n",
      "9 : скорбь об утрате возлюбленной дочери овладела сердцем Деметры. \n",
      " ['Кто был сердцем Деметры?', 'Кто такая Деметра?', 'скорбь овладела сердцем?', 'Чьим скорбь был?'] \n",
      "\n",
      "10 : Одетая в одежды, девять дней, ничего не сознавая, ни о чем не думая, блуждала богиня Деметра по земле, проливая слезы. \n",
      " ['Чьим богиня был?', 'Кто был богиня Деметра?', 'Одетая сознавая блуждала богиня?'] \n",
      "\n",
      "11 : Она всюду искала Персефону, всех просила о помощи, но никто не мог помочь ей в ее горе. \n",
      " ['Что делала Персефона?', 'Что она искала?', 'Кто такая Персефона?', 'Она всюду искала Персефону?'] \n",
      "\n",
      "12 : Наконец, уже на день она пришла к богу Гелиосу - Солнцу и стала со слезами молить его:- О, Гелиос ! \n",
      " ['Кто был богу Гелиосу?', 'Кто такое Гелиос?', 'Подобно кому пришла она?', 'Наконец день она пришла богу?', 'Кто такое Гелиосу - Солнцу?'] \n",
      "\n",
      "13 : Ты объезжаешь на златой колеснице высоко по небу всю землю и все моря, ты видишь все, ничто не может скрыться от тебя ; если ты имеешь хоть немного жалости к матери, то скажи мне, где моя дочь Персефона, скажи, где мне искать ее ! \n",
      " ['Ты объезжаешь колеснице?', 'Чьим дочь был?', 'Кто был дочь Персефона?', 'Подобно кому объезжаешь Ты?', 'Кто такая Персефона?', 'Что ты объезжаешь?'] \n",
      "\n",
      "14 : Я слышала ее крик, ее похитили у меня. \n",
      " ['Я слышала крик?', 'Что Ямба слышала?'] \n",
      "\n",
      "15 : Скажи, кто похитил ее. \n",
      " ['Скажи похитил?'] \n",
      "\n",
      "16 : Я всюду искала ее, но нигде не могу найти ! \n",
      " ['Я всюду искала ее?', 'Что Ямба искала?'] \n",
      "\n",
      "17 : Ответил Деметре Гелиос : - богиня, ты знаешь, как я чту тебя, ты видишь, как скорблю, видя твое горе. \n",
      " ['Кто такое Деметре Гелиос?', 'Ответил Деметре?', 'Чьим богиня был?', 'Что делала Деметра?'] \n",
      "\n",
      "18 : Знай, тучегонитель Зевс отдал дочь твою в жены своему брату, владыке Аиду. \n",
      " ['Знай отдал дочь?', 'Кто такой Аид?', 'Кто такой Зевс?', 'Кто был тучегонитель Зевс?', 'Что знай отдал?'] \n",
      "\n",
      "19 : Он похитил Персефону и увез ее в свое ужасов царство. \n",
      " ['Что делала Персефона?', 'Кто такая Персефона?', 'Он похитил Персефону?', 'Что Онк похитил?'] \n",
      "\n",
      "20 : Побори же свою печаль, богиня ; ведь муж твоей дочери, она стала женой брата Зевса. \n",
      " ['Кто был брата Зевса?', 'Чьим муж был?', 'Побори же?', 'Кто такой Зевс?'] \n",
      "\n",
      "21 : Еще больше опечалилась богиня Деметра. \n",
      " ['Кто был богиня Деметра?', 'Кто такая Деметра?', 'Чьим богиня был?', 'больше опечалилась богиня?'] \n",
      "\n",
      "22 : Разгневалась она на громовержца Зевса за то, что отдал он без ее согласия Персефону в жены Аиду. \n",
      " ['Разгневалась она?', 'Кто был громовержца Зевса?', 'Кто такая Персефона?', 'Кто такой Аид?', 'Кто такой Зевс?', 'Подобно кому Разгневалась она?'] \n",
      "\n",
      "23 : Она покинула богов, покинула Олимп, приняла вид и, облекшись в одежды, долго блуждала между, проливая слезы. \n",
      " ['Она покинула богов?', 'Что она покинула?'] \n",
      "\n"
     ]
    }
   ],
   "source": [
    "final_2 = all_question(sents_2)\n",
    "\n",
    "for key, value in final_2.items():\n",
    "    print(key, \":\", sents_2[key-1], \"\\n\",value, \"\\n\")\n"
   ]
  }
 ],
 "metadata": {
  "kernelspec": {
   "display_name": "Python 3",
   "language": "python",
   "name": "python3"
  },
  "language_info": {
   "codemirror_mode": {
    "name": "ipython",
    "version": 3
   },
   "file_extension": ".py",
   "mimetype": "text/x-python",
   "name": "python",
   "nbconvert_exporter": "python",
   "pygments_lexer": "ipython3",
   "version": "3.10.4"
  },
  "orig_nbformat": 4
 },
 "nbformat": 4,
 "nbformat_minor": 2
}
